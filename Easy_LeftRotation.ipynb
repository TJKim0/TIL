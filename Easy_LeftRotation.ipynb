{
 "cells": [
  {
   "cell_type": "markdown",
   "metadata": {},
   "source": [
    "# [Problem Link](https://www.hackerrank.com/challenges/array-left-rotation/problem?isFullScreen=true)\n",
    "\n",
    "* for문으로 한칸씩 이동하게 하면 Timeout으로 오답처리됨.\n",
    "* 컴퓨터를 편하게 해주자."
   ]
  },
  {
   "cell_type": "code",
   "execution_count": null,
   "metadata": {},
   "outputs": [],
   "source": [
    "# my answer\n",
    "# Timeout in some testcase\n",
    "first_multiple_input = input().rstrip().split()\n",
    "n = int(first_multiple_input[0])\n",
    "d = int(first_multiple_input[1])\n",
    "\n",
    "arr = list(map(int, input().rstrip().split()))\n",
    "\n",
    "def rotateLeft(d, arr):\n",
    "\n",
    "    for _ in range(d):\n",
    "        arr.append(arr[0])\n",
    "        temp = arr[1:]\n",
    "        arr = temp\n",
    "    \n",
    "    return arr\n",
    "\n",
    "for num in arr:\n",
    "    print(num, end=' ')\n",
    "\n"
   ]
  },
  {
   "cell_type": "code",
   "execution_count": 3,
   "metadata": {},
   "outputs": [
    {
     "name": "stdout",
     "output_type": "stream",
     "text": [
      "5 1 2 3 4 "
     ]
    }
   ],
   "source": [
    "# better answer\n",
    "first_multiple_input = input().rstrip().split()\n",
    "n = int(first_multiple_input[0])\n",
    "d = int(first_multiple_input[1])\n",
    "\n",
    "arr = list(map(int, input().rstrip().split()))\n",
    "\n",
    "shifted = arr[d%n:] + arr[:d%n]\n",
    "for num in shifted:\n",
    "    print(num, end=' ')"
   ]
  }
 ],
 "metadata": {
  "interpreter": {
   "hash": "cbc1630f6ac27d00c9f4ea5ff59d07a3d2920d2fb3e683b05679c37215caa53f"
  },
  "kernelspec": {
   "display_name": "Python 3.7.9 64-bit",
   "language": "python",
   "name": "python3"
  },
  "language_info": {
   "codemirror_mode": {
    "name": "ipython",
    "version": 3
   },
   "file_extension": ".py",
   "mimetype": "text/x-python",
   "name": "python",
   "nbconvert_exporter": "python",
   "pygments_lexer": "ipython3",
   "version": "3.7.9"
  },
  "orig_nbformat": 4
 },
 "nbformat": 4,
 "nbformat_minor": 2
}
