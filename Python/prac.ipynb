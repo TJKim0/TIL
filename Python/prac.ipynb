{
 "cells": [
  {
   "cell_type": "code",
   "execution_count": 2,
   "metadata": {},
   "outputs": [
    {
     "ename": "TypeError",
     "evalue": "'list' object cannot be interpreted as an integer",
     "output_type": "error",
     "traceback": [
      "\u001b[1;31m---------------------------------------------------------------------------\u001b[0m",
      "\u001b[1;31mTypeError\u001b[0m                                 Traceback (most recent call last)",
      "\u001b[1;32mc:\\Users\\TJ\\Desktop\\github\\TIL\\Python\\prac.ipynb Cell 1'\u001b[0m in \u001b[0;36m<cell line: 9>\u001b[1;34m()\u001b[0m\n\u001b[0;32m      <a href='vscode-notebook-cell:/c%3A/Users/TJ/Desktop/github/TIL/Python/prac.ipynb#ch0000000?line=4'>5</a>\u001b[0m             absolutes[i] \u001b[39m=\u001b[39m \u001b[39m-\u001b[39mabsolutes[i]\n\u001b[0;32m      <a href='vscode-notebook-cell:/c%3A/Users/TJ/Desktop/github/TIL/Python/prac.ipynb#ch0000000?line=6'>7</a>\u001b[0m     \u001b[39mreturn\u001b[39;00m \u001b[39msum\u001b[39m(absolutes)\n\u001b[1;32m----> <a href='vscode-notebook-cell:/c%3A/Users/TJ/Desktop/github/TIL/Python/prac.ipynb#ch0000000?line=8'>9</a>\u001b[0m solution([\u001b[39m4\u001b[39;49m,\u001b[39m7\u001b[39;49m,\u001b[39m12\u001b[39;49m],[\u001b[39mTrue\u001b[39;49;00m,\u001b[39mFalse\u001b[39;49;00m,\u001b[39mTrue\u001b[39;49;00m])\n",
      "\u001b[1;32mc:\\Users\\TJ\\Desktop\\github\\TIL\\Python\\prac.ipynb Cell 1'\u001b[0m in \u001b[0;36msolution\u001b[1;34m(absolutes, signs)\u001b[0m\n\u001b[0;32m      <a href='vscode-notebook-cell:/c%3A/Users/TJ/Desktop/github/TIL/Python/prac.ipynb#ch0000000?line=0'>1</a>\u001b[0m \u001b[39mdef\u001b[39;00m \u001b[39msolution\u001b[39m(absolutes, signs):\n\u001b[1;32m----> <a href='vscode-notebook-cell:/c%3A/Users/TJ/Desktop/github/TIL/Python/prac.ipynb#ch0000000?line=2'>3</a>\u001b[0m     \u001b[39mfor\u001b[39;00m i \u001b[39min\u001b[39;00m \u001b[39mrange\u001b[39;49m(absolutes):\n\u001b[0;32m      <a href='vscode-notebook-cell:/c%3A/Users/TJ/Desktop/github/TIL/Python/prac.ipynb#ch0000000?line=3'>4</a>\u001b[0m         \u001b[39mif\u001b[39;00m signs[i] \u001b[39m==\u001b[39m \u001b[39mFalse\u001b[39;00m:\n\u001b[0;32m      <a href='vscode-notebook-cell:/c%3A/Users/TJ/Desktop/github/TIL/Python/prac.ipynb#ch0000000?line=4'>5</a>\u001b[0m             absolutes[i] \u001b[39m=\u001b[39m \u001b[39m-\u001b[39mabsolutes[i]\n",
      "\u001b[1;31mTypeError\u001b[0m: 'list' object cannot be interpreted as an integer"
     ]
    }
   ],
   "source": [
    "def solution(absolutes, signs):\n",
    "    \n",
    "    for i in range(absolutes):\n",
    "        if signs[i] == False:\n",
    "            absolutes[i] = -absolutes[i]\n",
    "    \n",
    "    return sum(absolutes)\n",
    "\n",
    "solution([4,7,12],[True,False,True])"
   ]
  },
  {
   "cell_type": "code",
   "execution_count": null,
   "metadata": {},
   "outputs": [],
   "source": []
  }
 ],
 "metadata": {
  "interpreter": {
   "hash": "0c540ef56d47064bcfcef6e9cbfcbd243b36690daf7505dac5075a371d57cd99"
  },
  "kernelspec": {
   "display_name": "Python 3.9.10 64-bit",
   "language": "python",
   "name": "python3"
  },
  "language_info": {
   "codemirror_mode": {
    "name": "ipython",
    "version": 3
   },
   "file_extension": ".py",
   "mimetype": "text/x-python",
   "name": "python",
   "nbconvert_exporter": "python",
   "pygments_lexer": "ipython3",
   "version": "3.9.10"
  },
  "orig_nbformat": 4
 },
 "nbformat": 4,
 "nbformat_minor": 2
}
