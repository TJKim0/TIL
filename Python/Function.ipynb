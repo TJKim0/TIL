{
 "cells": [
  {
   "cell_type": "markdown",
   "metadata": {},
   "source": [
    "# [Problem Link](https://www.hackerrank.com/challenges/write-a-function/problem?isFullScreen=true)\n",
    "\n",
    "* 윤년 판별기.\n",
    "*\n",
    "* year % 4 == 0 같은 연산은 어차피 boolean 형태의 값을 뱉어주기 때문에 바로 return 에 때려박으면 됨 ."
   ]
  },
  {
   "cell_type": "code",
   "execution_count": null,
   "metadata": {},
   "outputs": [],
   "source": [
    "def is_leap(year):\n",
    "   # Write your logic here\n",
    "    \n",
    "    return year % 4 == 0 and (year % 400 == 0 or year % 100 != 0)"
   ]
  }
 ],
 "metadata": {
  "language_info": {
   "name": "python"
  },
  "orig_nbformat": 4
 },
 "nbformat": 4,
 "nbformat_minor": 2
}
