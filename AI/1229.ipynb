{
 "cells": [
  {
   "cell_type": "markdown",
   "metadata": {},
   "source": [
    "# Sequence to Sequence Model\n",
    "### 단점\n",
    "* 진행하면서 기억해야 하는 정보량이 계속 증가한다. time step 이 계속 증가하면서 앞의 정보는 사라진다.\n",
    "\n",
    "### 보완\n",
    "* 문장을 뒤집는다. 사라진 앞의 정보를 받아들여 학습할 수 있다. "
   ]
  },
  {
   "cell_type": "markdown",
   "metadata": {},
   "source": [
    "## Attention idea\n",
    "* 디코더에서 출력 단어를 예측하는 time step 마다, 인코더에서 전체 문장을 다시 참고함. 연관이 있는 부분을 더 집중(attention)해서 본다.\n"
   ]
  },
  {
   "cell_type": "markdown",
   "metadata": {},
   "source": [
    "# Beam Search\n",
    "\n",
    "![Beam search](captures\\beamsearch.png)\n",
    "\n",
    "* 동시시행 확률을 바탕으로 value 를 찾아 간다. \n",
    "* 일종의 조건부 확률\n",
    "\n",
    "\n",
    "\n",
    "\n",
    "## Stopping criterion\n",
    "* end token 까지 decoding 한다 .\n",
    "*  다른 가정이 다른 end token 을 만든다 .\n",
    "\n"
   ]
  },
  {
   "cell_type": "markdown",
   "metadata": {},
   "source": [
    " # BLEU Score\n",
    " * BLEU는 기계 번역 결과와 사람이 직접 번역한 결과가 얼마나 유사한지 비교하여 번역에 대한 성능을 측정하는 방법.\n",
    " * 언어에 구애받지 않고 , 계산속도가 빠르다.\n",
    " * "
   ]
  },
  {
   "cell_type": "markdown",
   "metadata": {},
   "source": [
    "# Named Entity Recognition (NER)\n",
    "* 이름을 가진 개체 인식\n"
   ]
  },
  {
   "cell_type": "markdown",
   "metadata": {},
   "source": [
    "# 산술, 기하, 조화 평균\n",
    "* 산술평균 : 일반적인 평균. value 들을 다 더해서 key갯수로 나눈다.\n",
    "* 기하평균 : n 개의 값들을 다 곱해서. n 제곱근 해준다. 연속적인 변화율 데이터를 기반, 어떤 구간의 평균 변화율을 구할때 사용.\n",
    "* 조화평균 : 각 value 에 역수를 취해서 산술평균을 구한 후 다시 역수를 해준다. 평균 속력을 구할때 사용."
   ]
  },
  {
   "cell_type": "markdown",
   "metadata": {},
   "source": []
  }
 ],
 "metadata": {
  "language_info": {
   "name": "python"
  },
  "orig_nbformat": 4
 },
 "nbformat": 4,
 "nbformat_minor": 2
}
