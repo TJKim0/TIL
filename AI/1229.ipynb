{
 "cells": [
  {
   "cell_type": "markdown",
   "metadata": {},
   "source": [
    "# Sequence to Sequence Model\n",
    "### 단점\n",
    "* 진행하면서 기억해야 하는 정보량이 계속 증가한다. time step 이 계속 증가하면서 앞의 정보는 사라진다.\n",
    "\n",
    "### 보완\n",
    "* 문장을 뒤집는다. 사라진 앞의 정보를 받아들여 학습할 수 있다. "
   ]
  },
  {
   "cell_type": "markdown",
   "metadata": {},
   "source": [
    "## Attention idea\n",
    "* 디코더에서 출력 단어를 예측하는 time step 마다, 인코더에서 전체 문장을 다시 참고함. 연관이 있는 부분을 더 집중(attention)해서 본다.\n"
   ]
  },
  {
   "cell_type": "markdown",
   "metadata": {},
   "source": [
    "![Beam search](https://github.com/TJKim0/TIL/blob/4be05313b667caa871f9598f069a75aaf19d7033/AI/captures/beamsearch.png)"
   ]
  },
  {
   "cell_type": "markdown",
   "metadata": {},
   "source": []
  }
 ],
 "metadata": {
  "language_info": {
   "name": "python"
  },
  "orig_nbformat": 4
 },
 "nbformat": 4,
 "nbformat_minor": 2
}
