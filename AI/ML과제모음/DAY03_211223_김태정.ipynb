{
  "cells": [
    {
      "cell_type": "markdown",
      "metadata": {
        "id": "IvNKy8wnIWnC"
      },
      "source": [
        "## Binary Classification - Titanic: Machine Learning from Disaster\n",
        "\n",
        "https://www.kaggle.com/c/titanic\n",
        "\n",
        "- 유명한 자료인 타이타닉 데이터 셋으로 생존과 사망에 대한 분류 문제를 풀어보도록 하겠습니다."
      ]
    },
    {
      "cell_type": "markdown",
      "metadata": {
        "id": "e_E7j0LNIWnL"
      },
      "source": [
        "![대체 텍스트](/content/drive/MyDrive/PyTorch_NN_MNC_211223/figures/binary.png)"
      ]
    },
    {
      "cell_type": "code",
      "execution_count": 2,
      "metadata": {
        "ExecuteTime": {
          "end_time": "2018-10-28T07:34:29.202719Z",
          "start_time": "2018-10-28T07:34:29.192102Z"
        },
        "id": "agnpS74dIWnN",
        "scrolled": true,
        "colab": {
          "base_uri": "https://localhost:8080/"
        },
        "outputId": "2a60814d-88e9-4f29-fc78-55892aae99e4"
      },
      "outputs": [
        {
          "output_type": "execute_result",
          "data": {
            "text/plain": [
              "<torch._C.Generator at 0x7f8858406730>"
            ]
          },
          "metadata": {},
          "execution_count": 2
        }
      ],
      "source": [
        "import torch\n",
        "import torch.nn as nn\n",
        "import torch.optim as optim\n",
        "import numpy as np\n",
        "import random\n",
        "import pandas as pd\n",
        "import matplotlib.pyplot as plt \n",
        "\n",
        "random.seed(1215)\n",
        "torch.manual_seed(1215)"
      ]
    },
    {
      "cell_type": "code",
      "source": [
        "from google.colab import drive\n",
        "drive.mount('/content/drive')"
      ],
      "metadata": {
        "colab": {
          "base_uri": "https://localhost:8080/"
        },
        "id": "gthUHhlzCu_r",
        "outputId": "8bc70480-59ab-4390-ca36-b064c8ba0845"
      },
      "execution_count": 1,
      "outputs": [
        {
          "output_type": "stream",
          "name": "stdout",
          "text": [
            "Mounted at /content/drive\n"
          ]
        }
      ]
    },
    {
      "cell_type": "code",
      "execution_count": 3,
      "metadata": {
        "ExecuteTime": {
          "end_time": "2018-10-28T06:53:30.685976Z",
          "start_time": "2018-10-28T06:53:25.255348Z"
        },
        "id": "u7zoHxKMIWnR"
      },
      "outputs": [],
      "source": [
        "from torch.utils.data import Dataset\n",
        "from torch.utils.data import DataLoader\n",
        "\n",
        "from sklearn.preprocessing import StandardScaler\n",
        "from sklearn.metrics import accuracy_score\n",
        "from sklearn.model_selection import train_test_split"
      ]
    },
    {
      "cell_type": "markdown",
      "metadata": {
        "id": "_PNAJqoBIWnS"
      },
      "source": [
        "# Load Data"
      ]
    },
    {
      "cell_type": "code",
      "execution_count": 5,
      "metadata": {
        "ExecuteTime": {
          "end_time": "2018-10-28T07:48:19.716052Z",
          "start_time": "2018-10-28T07:48:19.695224Z"
        },
        "id": "cKCmYPNKIWnT"
      },
      "outputs": [],
      "source": [
        "import pandas as pd\n",
        "\n",
        "train_data = pd.read_csv(\"/content/drive/MyDrive/PyTorch_NN_MNC_211223/data/titanic/train.csv\")\n",
        "test_data = pd.read_csv(\"/content/drive/MyDrive/PyTorch_NN_MNC_211223/data/titanic/test.csv\")"
      ]
    },
    {
      "cell_type": "code",
      "execution_count": 6,
      "metadata": {
        "ExecuteTime": {
          "end_time": "2018-10-28T07:48:20.005530Z",
          "start_time": "2018-10-28T07:48:19.985459Z"
        },
        "id": "mrFf4fedIWnU",
        "colab": {
          "base_uri": "https://localhost:8080/",
          "height": 476
        },
        "outputId": "fb6ead3d-5de8-4d96-a6ac-188ec3819a2b"
      },
      "outputs": [
        {
          "output_type": "execute_result",
          "data": {
            "text/html": [
              "\n",
              "  <div id=\"df-81fe70a1-b987-4ba9-a660-ca769fce2c30\">\n",
              "    <div class=\"colab-df-container\">\n",
              "      <div>\n",
              "<style scoped>\n",
              "    .dataframe tbody tr th:only-of-type {\n",
              "        vertical-align: middle;\n",
              "    }\n",
              "\n",
              "    .dataframe tbody tr th {\n",
              "        vertical-align: top;\n",
              "    }\n",
              "\n",
              "    .dataframe thead th {\n",
              "        text-align: right;\n",
              "    }\n",
              "</style>\n",
              "<table border=\"1\" class=\"dataframe\">\n",
              "  <thead>\n",
              "    <tr style=\"text-align: right;\">\n",
              "      <th></th>\n",
              "      <th>PassengerId</th>\n",
              "      <th>Survived</th>\n",
              "      <th>Pclass</th>\n",
              "      <th>Name</th>\n",
              "      <th>Sex</th>\n",
              "      <th>Age</th>\n",
              "      <th>SibSp</th>\n",
              "      <th>Parch</th>\n",
              "      <th>Ticket</th>\n",
              "      <th>Fare</th>\n",
              "      <th>Cabin</th>\n",
              "      <th>Embarked</th>\n",
              "    </tr>\n",
              "  </thead>\n",
              "  <tbody>\n",
              "    <tr>\n",
              "      <th>0</th>\n",
              "      <td>1</td>\n",
              "      <td>0</td>\n",
              "      <td>3</td>\n",
              "      <td>Braund, Mr. Owen Harris</td>\n",
              "      <td>male</td>\n",
              "      <td>22.0</td>\n",
              "      <td>1</td>\n",
              "      <td>0</td>\n",
              "      <td>A/5 21171</td>\n",
              "      <td>7.2500</td>\n",
              "      <td>NaN</td>\n",
              "      <td>S</td>\n",
              "    </tr>\n",
              "    <tr>\n",
              "      <th>1</th>\n",
              "      <td>2</td>\n",
              "      <td>1</td>\n",
              "      <td>1</td>\n",
              "      <td>Cumings, Mrs. John Bradley (Florence Briggs Th...</td>\n",
              "      <td>female</td>\n",
              "      <td>38.0</td>\n",
              "      <td>1</td>\n",
              "      <td>0</td>\n",
              "      <td>PC 17599</td>\n",
              "      <td>71.2833</td>\n",
              "      <td>C85</td>\n",
              "      <td>C</td>\n",
              "    </tr>\n",
              "    <tr>\n",
              "      <th>2</th>\n",
              "      <td>3</td>\n",
              "      <td>1</td>\n",
              "      <td>3</td>\n",
              "      <td>Heikkinen, Miss. Laina</td>\n",
              "      <td>female</td>\n",
              "      <td>26.0</td>\n",
              "      <td>0</td>\n",
              "      <td>0</td>\n",
              "      <td>STON/O2. 3101282</td>\n",
              "      <td>7.9250</td>\n",
              "      <td>NaN</td>\n",
              "      <td>S</td>\n",
              "    </tr>\n",
              "    <tr>\n",
              "      <th>3</th>\n",
              "      <td>4</td>\n",
              "      <td>1</td>\n",
              "      <td>1</td>\n",
              "      <td>Futrelle, Mrs. Jacques Heath (Lily May Peel)</td>\n",
              "      <td>female</td>\n",
              "      <td>35.0</td>\n",
              "      <td>1</td>\n",
              "      <td>0</td>\n",
              "      <td>113803</td>\n",
              "      <td>53.1000</td>\n",
              "      <td>C123</td>\n",
              "      <td>S</td>\n",
              "    </tr>\n",
              "    <tr>\n",
              "      <th>4</th>\n",
              "      <td>5</td>\n",
              "      <td>0</td>\n",
              "      <td>3</td>\n",
              "      <td>Allen, Mr. William Henry</td>\n",
              "      <td>male</td>\n",
              "      <td>35.0</td>\n",
              "      <td>0</td>\n",
              "      <td>0</td>\n",
              "      <td>373450</td>\n",
              "      <td>8.0500</td>\n",
              "      <td>NaN</td>\n",
              "      <td>S</td>\n",
              "    </tr>\n",
              "    <tr>\n",
              "      <th>5</th>\n",
              "      <td>6</td>\n",
              "      <td>0</td>\n",
              "      <td>3</td>\n",
              "      <td>Moran, Mr. James</td>\n",
              "      <td>male</td>\n",
              "      <td>NaN</td>\n",
              "      <td>0</td>\n",
              "      <td>0</td>\n",
              "      <td>330877</td>\n",
              "      <td>8.4583</td>\n",
              "      <td>NaN</td>\n",
              "      <td>Q</td>\n",
              "    </tr>\n",
              "    <tr>\n",
              "      <th>6</th>\n",
              "      <td>7</td>\n",
              "      <td>0</td>\n",
              "      <td>1</td>\n",
              "      <td>McCarthy, Mr. Timothy J</td>\n",
              "      <td>male</td>\n",
              "      <td>54.0</td>\n",
              "      <td>0</td>\n",
              "      <td>0</td>\n",
              "      <td>17463</td>\n",
              "      <td>51.8625</td>\n",
              "      <td>E46</td>\n",
              "      <td>S</td>\n",
              "    </tr>\n",
              "    <tr>\n",
              "      <th>7</th>\n",
              "      <td>8</td>\n",
              "      <td>0</td>\n",
              "      <td>3</td>\n",
              "      <td>Palsson, Master. Gosta Leonard</td>\n",
              "      <td>male</td>\n",
              "      <td>2.0</td>\n",
              "      <td>3</td>\n",
              "      <td>1</td>\n",
              "      <td>349909</td>\n",
              "      <td>21.0750</td>\n",
              "      <td>NaN</td>\n",
              "      <td>S</td>\n",
              "    </tr>\n",
              "    <tr>\n",
              "      <th>8</th>\n",
              "      <td>9</td>\n",
              "      <td>1</td>\n",
              "      <td>3</td>\n",
              "      <td>Johnson, Mrs. Oscar W (Elisabeth Vilhelmina Berg)</td>\n",
              "      <td>female</td>\n",
              "      <td>27.0</td>\n",
              "      <td>0</td>\n",
              "      <td>2</td>\n",
              "      <td>347742</td>\n",
              "      <td>11.1333</td>\n",
              "      <td>NaN</td>\n",
              "      <td>S</td>\n",
              "    </tr>\n",
              "    <tr>\n",
              "      <th>9</th>\n",
              "      <td>10</td>\n",
              "      <td>1</td>\n",
              "      <td>2</td>\n",
              "      <td>Nasser, Mrs. Nicholas (Adele Achem)</td>\n",
              "      <td>female</td>\n",
              "      <td>14.0</td>\n",
              "      <td>1</td>\n",
              "      <td>0</td>\n",
              "      <td>237736</td>\n",
              "      <td>30.0708</td>\n",
              "      <td>NaN</td>\n",
              "      <td>C</td>\n",
              "    </tr>\n",
              "  </tbody>\n",
              "</table>\n",
              "</div>\n",
              "      <button class=\"colab-df-convert\" onclick=\"convertToInteractive('df-81fe70a1-b987-4ba9-a660-ca769fce2c30')\"\n",
              "              title=\"Convert this dataframe to an interactive table.\"\n",
              "              style=\"display:none;\">\n",
              "        \n",
              "  <svg xmlns=\"http://www.w3.org/2000/svg\" height=\"24px\"viewBox=\"0 0 24 24\"\n",
              "       width=\"24px\">\n",
              "    <path d=\"M0 0h24v24H0V0z\" fill=\"none\"/>\n",
              "    <path d=\"M18.56 5.44l.94 2.06.94-2.06 2.06-.94-2.06-.94-.94-2.06-.94 2.06-2.06.94zm-11 1L8.5 8.5l.94-2.06 2.06-.94-2.06-.94L8.5 2.5l-.94 2.06-2.06.94zm10 10l.94 2.06.94-2.06 2.06-.94-2.06-.94-.94-2.06-.94 2.06-2.06.94z\"/><path d=\"M17.41 7.96l-1.37-1.37c-.4-.4-.92-.59-1.43-.59-.52 0-1.04.2-1.43.59L10.3 9.45l-7.72 7.72c-.78.78-.78 2.05 0 2.83L4 21.41c.39.39.9.59 1.41.59.51 0 1.02-.2 1.41-.59l7.78-7.78 2.81-2.81c.8-.78.8-2.07 0-2.86zM5.41 20L4 18.59l7.72-7.72 1.47 1.35L5.41 20z\"/>\n",
              "  </svg>\n",
              "      </button>\n",
              "      \n",
              "  <style>\n",
              "    .colab-df-container {\n",
              "      display:flex;\n",
              "      flex-wrap:wrap;\n",
              "      gap: 12px;\n",
              "    }\n",
              "\n",
              "    .colab-df-convert {\n",
              "      background-color: #E8F0FE;\n",
              "      border: none;\n",
              "      border-radius: 50%;\n",
              "      cursor: pointer;\n",
              "      display: none;\n",
              "      fill: #1967D2;\n",
              "      height: 32px;\n",
              "      padding: 0 0 0 0;\n",
              "      width: 32px;\n",
              "    }\n",
              "\n",
              "    .colab-df-convert:hover {\n",
              "      background-color: #E2EBFA;\n",
              "      box-shadow: 0px 1px 2px rgba(60, 64, 67, 0.3), 0px 1px 3px 1px rgba(60, 64, 67, 0.15);\n",
              "      fill: #174EA6;\n",
              "    }\n",
              "\n",
              "    [theme=dark] .colab-df-convert {\n",
              "      background-color: #3B4455;\n",
              "      fill: #D2E3FC;\n",
              "    }\n",
              "\n",
              "    [theme=dark] .colab-df-convert:hover {\n",
              "      background-color: #434B5C;\n",
              "      box-shadow: 0px 1px 3px 1px rgba(0, 0, 0, 0.15);\n",
              "      filter: drop-shadow(0px 1px 2px rgba(0, 0, 0, 0.3));\n",
              "      fill: #FFFFFF;\n",
              "    }\n",
              "  </style>\n",
              "\n",
              "      <script>\n",
              "        const buttonEl =\n",
              "          document.querySelector('#df-81fe70a1-b987-4ba9-a660-ca769fce2c30 button.colab-df-convert');\n",
              "        buttonEl.style.display =\n",
              "          google.colab.kernel.accessAllowed ? 'block' : 'none';\n",
              "\n",
              "        async function convertToInteractive(key) {\n",
              "          const element = document.querySelector('#df-81fe70a1-b987-4ba9-a660-ca769fce2c30');\n",
              "          const dataTable =\n",
              "            await google.colab.kernel.invokeFunction('convertToInteractive',\n",
              "                                                     [key], {});\n",
              "          if (!dataTable) return;\n",
              "\n",
              "          const docLinkHtml = 'Like what you see? Visit the ' +\n",
              "            '<a target=\"_blank\" href=https://colab.research.google.com/notebooks/data_table.ipynb>data table notebook</a>'\n",
              "            + ' to learn more about interactive tables.';\n",
              "          element.innerHTML = '';\n",
              "          dataTable['output_type'] = 'display_data';\n",
              "          await google.colab.output.renderOutput(dataTable, element);\n",
              "          const docLink = document.createElement('div');\n",
              "          docLink.innerHTML = docLinkHtml;\n",
              "          element.appendChild(docLink);\n",
              "        }\n",
              "      </script>\n",
              "    </div>\n",
              "  </div>\n",
              "  "
            ],
            "text/plain": [
              "   PassengerId  Survived  Pclass  ...     Fare Cabin  Embarked\n",
              "0            1         0       3  ...   7.2500   NaN         S\n",
              "1            2         1       1  ...  71.2833   C85         C\n",
              "2            3         1       3  ...   7.9250   NaN         S\n",
              "3            4         1       1  ...  53.1000  C123         S\n",
              "4            5         0       3  ...   8.0500   NaN         S\n",
              "5            6         0       3  ...   8.4583   NaN         Q\n",
              "6            7         0       1  ...  51.8625   E46         S\n",
              "7            8         0       3  ...  21.0750   NaN         S\n",
              "8            9         1       3  ...  11.1333   NaN         S\n",
              "9           10         1       2  ...  30.0708   NaN         C\n",
              "\n",
              "[10 rows x 12 columns]"
            ]
          },
          "metadata": {},
          "execution_count": 6
        }
      ],
      "source": [
        "train_data.head(10)"
      ]
    },
    {
      "cell_type": "code",
      "execution_count": 7,
      "metadata": {
        "id": "r_q5oZyMIWnW",
        "colab": {
          "base_uri": "https://localhost:8080/",
          "height": 363
        },
        "outputId": "225e8542-5f5a-4b07-d862-e850b10a4955"
      },
      "outputs": [
        {
          "output_type": "execute_result",
          "data": {
            "text/html": [
              "\n",
              "  <div id=\"df-19986043-eee2-4666-ab15-fed3e27a7496\">\n",
              "    <div class=\"colab-df-container\">\n",
              "      <div>\n",
              "<style scoped>\n",
              "    .dataframe tbody tr th:only-of-type {\n",
              "        vertical-align: middle;\n",
              "    }\n",
              "\n",
              "    .dataframe tbody tr th {\n",
              "        vertical-align: top;\n",
              "    }\n",
              "\n",
              "    .dataframe thead th {\n",
              "        text-align: right;\n",
              "    }\n",
              "</style>\n",
              "<table border=\"1\" class=\"dataframe\">\n",
              "  <thead>\n",
              "    <tr style=\"text-align: right;\">\n",
              "      <th></th>\n",
              "      <th>PassengerId</th>\n",
              "      <th>Pclass</th>\n",
              "      <th>Name</th>\n",
              "      <th>Sex</th>\n",
              "      <th>Age</th>\n",
              "      <th>SibSp</th>\n",
              "      <th>Parch</th>\n",
              "      <th>Ticket</th>\n",
              "      <th>Fare</th>\n",
              "      <th>Cabin</th>\n",
              "      <th>Embarked</th>\n",
              "    </tr>\n",
              "  </thead>\n",
              "  <tbody>\n",
              "    <tr>\n",
              "      <th>0</th>\n",
              "      <td>892</td>\n",
              "      <td>3</td>\n",
              "      <td>Kelly, Mr. James</td>\n",
              "      <td>male</td>\n",
              "      <td>34.5</td>\n",
              "      <td>0</td>\n",
              "      <td>0</td>\n",
              "      <td>330911</td>\n",
              "      <td>7.8292</td>\n",
              "      <td>NaN</td>\n",
              "      <td>Q</td>\n",
              "    </tr>\n",
              "    <tr>\n",
              "      <th>1</th>\n",
              "      <td>893</td>\n",
              "      <td>3</td>\n",
              "      <td>Wilkes, Mrs. James (Ellen Needs)</td>\n",
              "      <td>female</td>\n",
              "      <td>47.0</td>\n",
              "      <td>1</td>\n",
              "      <td>0</td>\n",
              "      <td>363272</td>\n",
              "      <td>7.0000</td>\n",
              "      <td>NaN</td>\n",
              "      <td>S</td>\n",
              "    </tr>\n",
              "    <tr>\n",
              "      <th>2</th>\n",
              "      <td>894</td>\n",
              "      <td>2</td>\n",
              "      <td>Myles, Mr. Thomas Francis</td>\n",
              "      <td>male</td>\n",
              "      <td>62.0</td>\n",
              "      <td>0</td>\n",
              "      <td>0</td>\n",
              "      <td>240276</td>\n",
              "      <td>9.6875</td>\n",
              "      <td>NaN</td>\n",
              "      <td>Q</td>\n",
              "    </tr>\n",
              "    <tr>\n",
              "      <th>3</th>\n",
              "      <td>895</td>\n",
              "      <td>3</td>\n",
              "      <td>Wirz, Mr. Albert</td>\n",
              "      <td>male</td>\n",
              "      <td>27.0</td>\n",
              "      <td>0</td>\n",
              "      <td>0</td>\n",
              "      <td>315154</td>\n",
              "      <td>8.6625</td>\n",
              "      <td>NaN</td>\n",
              "      <td>S</td>\n",
              "    </tr>\n",
              "    <tr>\n",
              "      <th>4</th>\n",
              "      <td>896</td>\n",
              "      <td>3</td>\n",
              "      <td>Hirvonen, Mrs. Alexander (Helga E Lindqvist)</td>\n",
              "      <td>female</td>\n",
              "      <td>22.0</td>\n",
              "      <td>1</td>\n",
              "      <td>1</td>\n",
              "      <td>3101298</td>\n",
              "      <td>12.2875</td>\n",
              "      <td>NaN</td>\n",
              "      <td>S</td>\n",
              "    </tr>\n",
              "    <tr>\n",
              "      <th>5</th>\n",
              "      <td>897</td>\n",
              "      <td>3</td>\n",
              "      <td>Svensson, Mr. Johan Cervin</td>\n",
              "      <td>male</td>\n",
              "      <td>14.0</td>\n",
              "      <td>0</td>\n",
              "      <td>0</td>\n",
              "      <td>7538</td>\n",
              "      <td>9.2250</td>\n",
              "      <td>NaN</td>\n",
              "      <td>S</td>\n",
              "    </tr>\n",
              "    <tr>\n",
              "      <th>6</th>\n",
              "      <td>898</td>\n",
              "      <td>3</td>\n",
              "      <td>Connolly, Miss. Kate</td>\n",
              "      <td>female</td>\n",
              "      <td>30.0</td>\n",
              "      <td>0</td>\n",
              "      <td>0</td>\n",
              "      <td>330972</td>\n",
              "      <td>7.6292</td>\n",
              "      <td>NaN</td>\n",
              "      <td>Q</td>\n",
              "    </tr>\n",
              "    <tr>\n",
              "      <th>7</th>\n",
              "      <td>899</td>\n",
              "      <td>2</td>\n",
              "      <td>Caldwell, Mr. Albert Francis</td>\n",
              "      <td>male</td>\n",
              "      <td>26.0</td>\n",
              "      <td>1</td>\n",
              "      <td>1</td>\n",
              "      <td>248738</td>\n",
              "      <td>29.0000</td>\n",
              "      <td>NaN</td>\n",
              "      <td>S</td>\n",
              "    </tr>\n",
              "    <tr>\n",
              "      <th>8</th>\n",
              "      <td>900</td>\n",
              "      <td>3</td>\n",
              "      <td>Abrahim, Mrs. Joseph (Sophie Halaut Easu)</td>\n",
              "      <td>female</td>\n",
              "      <td>18.0</td>\n",
              "      <td>0</td>\n",
              "      <td>0</td>\n",
              "      <td>2657</td>\n",
              "      <td>7.2292</td>\n",
              "      <td>NaN</td>\n",
              "      <td>C</td>\n",
              "    </tr>\n",
              "    <tr>\n",
              "      <th>9</th>\n",
              "      <td>901</td>\n",
              "      <td>3</td>\n",
              "      <td>Davies, Mr. John Samuel</td>\n",
              "      <td>male</td>\n",
              "      <td>21.0</td>\n",
              "      <td>2</td>\n",
              "      <td>0</td>\n",
              "      <td>A/4 48871</td>\n",
              "      <td>24.1500</td>\n",
              "      <td>NaN</td>\n",
              "      <td>S</td>\n",
              "    </tr>\n",
              "  </tbody>\n",
              "</table>\n",
              "</div>\n",
              "      <button class=\"colab-df-convert\" onclick=\"convertToInteractive('df-19986043-eee2-4666-ab15-fed3e27a7496')\"\n",
              "              title=\"Convert this dataframe to an interactive table.\"\n",
              "              style=\"display:none;\">\n",
              "        \n",
              "  <svg xmlns=\"http://www.w3.org/2000/svg\" height=\"24px\"viewBox=\"0 0 24 24\"\n",
              "       width=\"24px\">\n",
              "    <path d=\"M0 0h24v24H0V0z\" fill=\"none\"/>\n",
              "    <path d=\"M18.56 5.44l.94 2.06.94-2.06 2.06-.94-2.06-.94-.94-2.06-.94 2.06-2.06.94zm-11 1L8.5 8.5l.94-2.06 2.06-.94-2.06-.94L8.5 2.5l-.94 2.06-2.06.94zm10 10l.94 2.06.94-2.06 2.06-.94-2.06-.94-.94-2.06-.94 2.06-2.06.94z\"/><path d=\"M17.41 7.96l-1.37-1.37c-.4-.4-.92-.59-1.43-.59-.52 0-1.04.2-1.43.59L10.3 9.45l-7.72 7.72c-.78.78-.78 2.05 0 2.83L4 21.41c.39.39.9.59 1.41.59.51 0 1.02-.2 1.41-.59l7.78-7.78 2.81-2.81c.8-.78.8-2.07 0-2.86zM5.41 20L4 18.59l7.72-7.72 1.47 1.35L5.41 20z\"/>\n",
              "  </svg>\n",
              "      </button>\n",
              "      \n",
              "  <style>\n",
              "    .colab-df-container {\n",
              "      display:flex;\n",
              "      flex-wrap:wrap;\n",
              "      gap: 12px;\n",
              "    }\n",
              "\n",
              "    .colab-df-convert {\n",
              "      background-color: #E8F0FE;\n",
              "      border: none;\n",
              "      border-radius: 50%;\n",
              "      cursor: pointer;\n",
              "      display: none;\n",
              "      fill: #1967D2;\n",
              "      height: 32px;\n",
              "      padding: 0 0 0 0;\n",
              "      width: 32px;\n",
              "    }\n",
              "\n",
              "    .colab-df-convert:hover {\n",
              "      background-color: #E2EBFA;\n",
              "      box-shadow: 0px 1px 2px rgba(60, 64, 67, 0.3), 0px 1px 3px 1px rgba(60, 64, 67, 0.15);\n",
              "      fill: #174EA6;\n",
              "    }\n",
              "\n",
              "    [theme=dark] .colab-df-convert {\n",
              "      background-color: #3B4455;\n",
              "      fill: #D2E3FC;\n",
              "    }\n",
              "\n",
              "    [theme=dark] .colab-df-convert:hover {\n",
              "      background-color: #434B5C;\n",
              "      box-shadow: 0px 1px 3px 1px rgba(0, 0, 0, 0.15);\n",
              "      filter: drop-shadow(0px 1px 2px rgba(0, 0, 0, 0.3));\n",
              "      fill: #FFFFFF;\n",
              "    }\n",
              "  </style>\n",
              "\n",
              "      <script>\n",
              "        const buttonEl =\n",
              "          document.querySelector('#df-19986043-eee2-4666-ab15-fed3e27a7496 button.colab-df-convert');\n",
              "        buttonEl.style.display =\n",
              "          google.colab.kernel.accessAllowed ? 'block' : 'none';\n",
              "\n",
              "        async function convertToInteractive(key) {\n",
              "          const element = document.querySelector('#df-19986043-eee2-4666-ab15-fed3e27a7496');\n",
              "          const dataTable =\n",
              "            await google.colab.kernel.invokeFunction('convertToInteractive',\n",
              "                                                     [key], {});\n",
              "          if (!dataTable) return;\n",
              "\n",
              "          const docLinkHtml = 'Like what you see? Visit the ' +\n",
              "            '<a target=\"_blank\" href=https://colab.research.google.com/notebooks/data_table.ipynb>data table notebook</a>'\n",
              "            + ' to learn more about interactive tables.';\n",
              "          element.innerHTML = '';\n",
              "          dataTable['output_type'] = 'display_data';\n",
              "          await google.colab.output.renderOutput(dataTable, element);\n",
              "          const docLink = document.createElement('div');\n",
              "          docLink.innerHTML = docLinkHtml;\n",
              "          element.appendChild(docLink);\n",
              "        }\n",
              "      </script>\n",
              "    </div>\n",
              "  </div>\n",
              "  "
            ],
            "text/plain": [
              "   PassengerId  Pclass  ... Cabin Embarked\n",
              "0          892       3  ...   NaN        Q\n",
              "1          893       3  ...   NaN        S\n",
              "2          894       2  ...   NaN        Q\n",
              "3          895       3  ...   NaN        S\n",
              "4          896       3  ...   NaN        S\n",
              "5          897       3  ...   NaN        S\n",
              "6          898       3  ...   NaN        Q\n",
              "7          899       2  ...   NaN        S\n",
              "8          900       3  ...   NaN        C\n",
              "9          901       3  ...   NaN        S\n",
              "\n",
              "[10 rows x 11 columns]"
            ]
          },
          "metadata": {},
          "execution_count": 7
        }
      ],
      "source": [
        "test_data.head(10)"
      ]
    },
    {
      "cell_type": "markdown",
      "metadata": {
        "id": "yYihLkpKIWnX"
      },
      "source": [
        "# Preprocessing\n",
        "- Pclass, Sex, Age, SibSp, Parch, Fare 총 6개의 feature를 사용하겠습니다.\n",
        "- 별도의 feature engineering은 하지 않겠습니다.\n",
        "- kaggle data이기 때문에 test_data의 \"Survived\" 열은 없습니다.\n",
        "- 우리가 예측한 결과를 csv 파일로 제출하는 형태입니다."
      ]
    },
    {
      "cell_type": "markdown",
      "metadata": {
        "id": "d6Vc2-lyIWnY"
      },
      "source": [
        "### categorical variable 처리"
      ]
    },
    {
      "cell_type": "code",
      "execution_count": 8,
      "metadata": {
        "id": "7an9HpYhIWnZ",
        "colab": {
          "base_uri": "https://localhost:8080/"
        },
        "outputId": "26439a9c-d272-40a1-db62-6ea501886196"
      },
      "outputs": [
        {
          "output_type": "execute_result",
          "data": {
            "text/plain": [
              "0      male\n",
              "1    female\n",
              "2    female\n",
              "3    female\n",
              "4      male\n",
              "5      male\n",
              "6      male\n",
              "7      male\n",
              "8    female\n",
              "9    female\n",
              "Name: Sex, dtype: object"
            ]
          },
          "metadata": {},
          "execution_count": 8
        }
      ],
      "source": [
        "train_data[\"Sex\"].head(10)"
      ]
    },
    {
      "cell_type": "code",
      "execution_count": 9,
      "metadata": {
        "id": "CNufUnrUIWnZ"
      },
      "outputs": [],
      "source": [
        "train_data[\"Sex\"] = train_data[\"Sex\"].map({\"male\": 1, \"female\": 0})\n",
        "test_data[\"Sex\"] = test_data[\"Sex\"].map({\"male\": 1, \"female\": 0})"
      ]
    },
    {
      "cell_type": "code",
      "execution_count": 10,
      "metadata": {
        "id": "JPv-O0k1IWna",
        "colab": {
          "base_uri": "https://localhost:8080/"
        },
        "outputId": "827a9272-25d3-4d18-fe26-e0b673dcdac1"
      },
      "outputs": [
        {
          "output_type": "execute_result",
          "data": {
            "text/plain": [
              "0    1\n",
              "1    0\n",
              "2    0\n",
              "3    0\n",
              "4    1\n",
              "5    1\n",
              "6    1\n",
              "7    1\n",
              "8    0\n",
              "9    0\n",
              "Name: Sex, dtype: int64"
            ]
          },
          "metadata": {},
          "execution_count": 10
        }
      ],
      "source": [
        "train_data[\"Sex\"].head(10)"
      ]
    },
    {
      "cell_type": "markdown",
      "metadata": {
        "id": "_5vPQ8CTIWnb"
      },
      "source": [
        "### 데이터셋 구성"
      ]
    },
    {
      "cell_type": "code",
      "execution_count": 11,
      "metadata": {
        "ExecuteTime": {
          "end_time": "2018-10-28T07:48:21.754377Z",
          "start_time": "2018-10-28T07:48:21.739961Z"
        },
        "id": "TQZS1Y07IWnb"
      },
      "outputs": [],
      "source": [
        "data_X = train_data[[\"Pclass\", \"Sex\", \"Age\", \"SibSp\", \"Parch\", \"Fare\"]]\n",
        "data_y = train_data[\"Survived\"]"
      ]
    },
    {
      "cell_type": "code",
      "execution_count": 12,
      "metadata": {
        "id": "1T29NlfMIWnc",
        "colab": {
          "base_uri": "https://localhost:8080/"
        },
        "outputId": "8ffbda47-2a39-439a-9752-9dcc90b6997c"
      },
      "outputs": [
        {
          "output_type": "execute_result",
          "data": {
            "text/plain": [
              "891"
            ]
          },
          "metadata": {},
          "execution_count": 12
        }
      ],
      "source": [
        "len(data_X)"
      ]
    },
    {
      "cell_type": "code",
      "execution_count": 13,
      "metadata": {
        "id": "ZQM82nxWIWnc"
      },
      "outputs": [],
      "source": [
        "train_X, test_X, train_y, test_y = train_test_split(data_X, data_y, test_size=0.3)"
      ]
    },
    {
      "cell_type": "code",
      "execution_count": 14,
      "metadata": {
        "id": "1t6EyPQKIWnd",
        "colab": {
          "base_uri": "https://localhost:8080/"
        },
        "outputId": "a4d4297d-2af5-4a43-dcfd-9234779998f6"
      },
      "outputs": [
        {
          "output_type": "execute_result",
          "data": {
            "text/plain": [
              "(623, 623.6999999999999)"
            ]
          },
          "metadata": {},
          "execution_count": 14
        }
      ],
      "source": [
        "len(train_X), len(data_X)*.7"
      ]
    },
    {
      "cell_type": "code",
      "execution_count": 15,
      "metadata": {
        "id": "__8HHWx_IWnd",
        "colab": {
          "base_uri": "https://localhost:8080/"
        },
        "outputId": "f9e8212e-8580-4bdb-e5ed-8615c6d721aa"
      },
      "outputs": [
        {
          "output_type": "execute_result",
          "data": {
            "text/plain": [
              "(268, 267.3)"
            ]
          },
          "metadata": {},
          "execution_count": 15
        }
      ],
      "source": [
        "len(test_X), len(data_X)*.3"
      ]
    },
    {
      "cell_type": "markdown",
      "metadata": {
        "id": "xMbyXoCwIWnd"
      },
      "source": [
        "### null 값 확인 (결측값)"
      ]
    },
    {
      "cell_type": "code",
      "execution_count": 16,
      "metadata": {
        "ExecuteTime": {
          "end_time": "2018-10-28T07:48:22.020698Z",
          "start_time": "2018-10-28T07:48:22.006813Z"
        },
        "id": "wkDUFZzeIWne",
        "colab": {
          "base_uri": "https://localhost:8080/"
        },
        "outputId": "fa966e79-14aa-42b4-c556-736aa53a6791"
      },
      "outputs": [
        {
          "output_type": "stream",
          "name": "stdout",
          "text": [
            "Number of null in train_X: Pclass      0\n",
            "Sex         0\n",
            "Age       120\n",
            "SibSp       0\n",
            "Parch       0\n",
            "Fare        0\n",
            "dtype: int64\n",
            "\n",
            " Number of null in test_X: Pclass     0\n",
            "Sex        0\n",
            "Age       57\n",
            "SibSp      0\n",
            "Parch      0\n",
            "Fare       0\n",
            "dtype: int64\n",
            "\n",
            " Number of nullin train y: 0\n",
            "\n",
            " Number of nullin train y: 0\n",
            "\n",
            " 29.782326043737577\n"
          ]
        }
      ],
      "source": [
        "print('Number of null in train_X:', train_X.isnull().sum())\n",
        "print(\"\\n\",'Number of null in test_X:', test_X.isnull().sum())\n",
        "print(\"\\n\",'Number of nullin train y:', train_y.isnull().sum())\n",
        "print(\"\\n\",'Number of nullin train y:', test_y.isnull().sum())\n",
        "\n",
        "print(\"\\n\",np.mean(train_X[\"Age\"]))"
      ]
    },
    {
      "cell_type": "markdown",
      "metadata": {
        "id": "TiPNWr54IWnf"
      },
      "source": [
        "- 간단하게 age와 fare의 na 값은 평균으로 대체"
      ]
    },
    {
      "cell_type": "code",
      "execution_count": 17,
      "metadata": {
        "ExecuteTime": {
          "end_time": "2018-10-28T07:48:23.836865Z",
          "start_time": "2018-10-28T07:48:23.823969Z"
        },
        "id": "tHBvPlH-IWnf",
        "scrolled": false
      },
      "outputs": [],
      "source": [
        "pd.options.mode.chained_assignment = None\n",
        "\n",
        "train_X.loc[:,\"Age\"] = train_X.loc[:,\"Age\"].replace(np.nan,30)\n",
        "test_X.loc[:,\"Age\"] = test_X.loc[:,\"Age\"].replace(np.nan,30)"
      ]
    },
    {
      "cell_type": "code",
      "execution_count": 18,
      "metadata": {
        "ExecuteTime": {
          "end_time": "2018-10-28T07:48:24.418285Z",
          "start_time": "2018-10-28T07:48:24.406782Z"
        },
        "id": "SVlMFybQIWng",
        "colab": {
          "base_uri": "https://localhost:8080/"
        },
        "outputId": "79d2ec52-9b93-446d-d22a-b66ceb8f9b44"
      },
      "outputs": [
        {
          "output_type": "stream",
          "name": "stdout",
          "text": [
            "Number of null: Pclass    0\n",
            "Sex       0\n",
            "Age       0\n",
            "SibSp     0\n",
            "Parch     0\n",
            "Fare      0\n",
            "dtype: int64\n",
            "\n",
            " Number of null: Pclass    0\n",
            "Sex       0\n",
            "Age       0\n",
            "SibSp     0\n",
            "Parch     0\n",
            "Fare      0\n",
            "dtype: int64\n"
          ]
        }
      ],
      "source": [
        "print('Number of null:', train_X.isnull().sum())\n",
        "print(\"\\n\",'Number of null:', test_X.isnull().sum())"
      ]
    },
    {
      "cell_type": "code",
      "execution_count": 19,
      "metadata": {
        "ExecuteTime": {
          "end_time": "2018-10-28T07:48:26.498112Z",
          "start_time": "2018-10-28T07:48:26.492656Z"
        },
        "id": "gY--K_7NIWng",
        "colab": {
          "base_uri": "https://localhost:8080/"
        },
        "outputId": "ca98f4e9-70cc-46cc-a168-e6d8ecde94a7"
      },
      "outputs": [
        {
          "output_type": "execute_result",
          "data": {
            "text/plain": [
              "598    0\n",
              "678    0\n",
              "501    0\n",
              "494    0\n",
              "602    0\n",
              "Name: Survived, dtype: int64"
            ]
          },
          "metadata": {},
          "execution_count": 19
        }
      ],
      "source": [
        "train_y.head()"
      ]
    },
    {
      "cell_type": "code",
      "execution_count": 20,
      "metadata": {
        "ExecuteTime": {
          "end_time": "2018-10-28T07:48:27.198668Z",
          "start_time": "2018-10-28T07:48:27.192577Z"
        },
        "id": "V4hSGO6JIWnh",
        "colab": {
          "base_uri": "https://localhost:8080/"
        },
        "outputId": "c96c20ca-5584-4da2-8ff7-48fe800455c7"
      },
      "outputs": [
        {
          "output_type": "execute_result",
          "data": {
            "text/plain": [
              "(623, 268, 623, 268)"
            ]
          },
          "metadata": {},
          "execution_count": 20
        }
      ],
      "source": [
        "len(train_X), len(test_X), len(train_y), len(test_y)"
      ]
    },
    {
      "cell_type": "markdown",
      "metadata": {
        "id": "9YyBT2WpIWnh"
      },
      "source": [
        "# Train model (PyTorch)\n",
        "1. dataset, dataloader 정의\n",
        "2. 모델 정의\n",
        "3. 모델 학습 \n",
        "4. 모델 평가"
      ]
    },
    {
      "cell_type": "markdown",
      "metadata": {
        "id": "ogKQzIswIWnh"
      },
      "source": [
        "- train, test dataset을 출력할 수 있는 class를 만듭니다."
      ]
    },
    {
      "cell_type": "code",
      "execution_count": 21,
      "metadata": {
        "ExecuteTime": {
          "end_time": "2018-10-28T07:48:30.938583Z",
          "start_time": "2018-10-28T07:48:30.931143Z"
        },
        "id": "JU8tNqFHIWni"
      },
      "outputs": [],
      "source": [
        "class simple_dataset(Dataset):\n",
        "    \n",
        "    def __init__(self, X_data, y_data):\n",
        "        self.X_data = X_data\n",
        "        self.y_data = y_data\n",
        "        \n",
        "    def __getitem__(self, index):\n",
        "        return self.X_data[index], self.y_data[index]\n",
        "        \n",
        "    def __len__ (self):\n",
        "        return len(self.X_data)"
      ]
    },
    {
      "cell_type": "code",
      "execution_count": 22,
      "metadata": {
        "id": "Ho6fpa9NIWni",
        "colab": {
          "base_uri": "https://localhost:8080/"
        },
        "outputId": "614b454b-0888-4394-8245-f79b798f98d5"
      },
      "outputs": [
        {
          "output_type": "execute_result",
          "data": {
            "text/plain": [
              "pandas.core.frame.DataFrame"
            ]
          },
          "metadata": {},
          "execution_count": 22
        }
      ],
      "source": [
        "type(test_X)"
      ]
    },
    {
      "cell_type": "code",
      "execution_count": 23,
      "metadata": {
        "ExecuteTime": {
          "end_time": "2018-10-28T07:48:32.125111Z",
          "start_time": "2018-10-28T07:48:32.117187Z"
        },
        "id": "ute7KeA2IWnj"
      },
      "outputs": [],
      "source": [
        "# 정규화합니다\n",
        "scaler = StandardScaler()\n",
        "train_data = simple_dataset(torch.FloatTensor(scaler.fit_transform(train_X.to_numpy())), torch.LongTensor(train_y.to_numpy()))\n",
        "test_data = simple_dataset(torch.FloatTensor(scaler.fit_transform(test_X.to_numpy())), torch.LongTensor(test_y.to_numpy()))"
      ]
    },
    {
      "cell_type": "code",
      "execution_count": 24,
      "metadata": {
        "id": "twkMiNWqIWnj",
        "colab": {
          "base_uri": "https://localhost:8080/"
        },
        "outputId": "23d8874b-4624-4c8b-d872-5bad718e13e7"
      },
      "outputs": [
        {
          "output_type": "execute_result",
          "data": {
            "text/plain": [
              "(623, 268)"
            ]
          },
          "metadata": {},
          "execution_count": 24
        }
      ],
      "source": [
        "len(train_data), len(test_data)"
      ]
    },
    {
      "cell_type": "code",
      "execution_count": 25,
      "metadata": {
        "ExecuteTime": {
          "end_time": "2018-10-28T07:48:51.854783Z",
          "start_time": "2018-10-28T07:48:51.849359Z"
        },
        "id": "zczxV0qXIWnj",
        "colab": {
          "base_uri": "https://localhost:8080/"
        },
        "outputId": "39f87c2b-9ed8-4af9-dc4e-4f95257f8e1c"
      },
      "outputs": [
        {
          "output_type": "execute_result",
          "data": {
            "text/plain": [
              "(tensor([ 0.8259,  0.7650,  0.0136, -0.4766, -0.4607, -0.5151]), tensor(0))"
            ]
          },
          "metadata": {},
          "execution_count": 25
        }
      ],
      "source": [
        "train_data.__getitem__(0)"
      ]
    },
    {
      "cell_type": "code",
      "execution_count": 26,
      "metadata": {
        "id": "-A9dtRJHIWnk",
        "colab": {
          "base_uri": "https://localhost:8080/"
        },
        "outputId": "071ccf70-2f12-48f3-96a5-0b32ca24af06"
      },
      "outputs": [
        {
          "output_type": "execute_result",
          "data": {
            "text/plain": [
              "(tensor([ 0.8259,  0.7650,  0.0136, -0.4766, -0.4607, -0.5151]), tensor(0))"
            ]
          },
          "metadata": {},
          "execution_count": 26
        }
      ],
      "source": [
        "train_data[0]"
      ]
    },
    {
      "cell_type": "code",
      "execution_count": null,
      "metadata": {
        "id": "XEkoBp4MIWnk"
      },
      "outputs": [],
      "source": [
        ""
      ]
    },
    {
      "cell_type": "markdown",
      "metadata": {
        "id": "DhyjBTm0IWnl"
      },
      "source": [
        "## Modeling"
      ]
    },
    {
      "cell_type": "code",
      "execution_count": 32,
      "metadata": {
        "ExecuteTime": {
          "end_time": "2018-10-28T08:24:00.698892Z",
          "start_time": "2018-10-28T08:24:00.685532Z"
        },
        "id": "ulVgLBTmIWnl"
      },
      "outputs": [],
      "source": [
        "class Binary_Classification(nn.Module):\n",
        "    \n",
        "    def __init__(self, num_features, num_classes):\n",
        "        super(Binary_Classification, self).__init__()\n",
        "        \n",
        "        self.Layer_1 = nn.Linear(num_features, 30)\n",
        "        \n",
        "        ################################################\n",
        "        #       TODO                                   #\n",
        "        ################################################\n",
        "        self.Layer_2 = nn.Linear(30, 15)\n",
        "        self.Layer_3 = nn.Linear(15, 8)\n",
        "        self.Layer_out = nn.Linear(8, num_classes)\n",
        "        \n",
        "        self.relu = nn.ReLU()\n",
        "        \n",
        "    def forward(self, inputs):\n",
        "        \n",
        "        x = self.Layer_1(inputs)\n",
        "        x = self.relu(x)\n",
        "        \n",
        "        ################################################\n",
        "        #       TODO                                   #\n",
        "        ################################################\n",
        "        x = self.Layer_2(x)\n",
        "        x = self.relu(x)\n",
        "\n",
        "        x = self.Layer_3(x)\n",
        "        x = self.relu(x)\n",
        "        \n",
        "        x = self.Layer_out(x)\n",
        "\n",
        "        return x"
      ]
    },
    {
      "cell_type": "code",
      "execution_count": null,
      "metadata": {
        "id": "4VJiDT-aIWnl"
      },
      "outputs": [],
      "source": [
        ""
      ]
    },
    {
      "cell_type": "code",
      "execution_count": null,
      "metadata": {
        "id": "TBPceNy8IWnm"
      },
      "outputs": [],
      "source": [
        ""
      ]
    },
    {
      "cell_type": "markdown",
      "metadata": {
        "id": "z_APaY49IWnm"
      },
      "source": [
        "## Training"
      ]
    },
    {
      "cell_type": "code",
      "execution_count": 56,
      "metadata": {
        "id": "18Nsx8XHIWnm"
      },
      "outputs": [],
      "source": [
        "EPOCHS = 3000\n",
        "BATCH_SIZE = 400\n",
        "\n",
        "train_loader = DataLoader(dataset=train_data, batch_size=BATCH_SIZE, shuffle=True)\n",
        "test_loader = DataLoader(dataset=test_data, batch_size=1, shuffle=False)\n",
        "\n",
        "model = Binary_Classification(num_features=6, num_classes=2)\n",
        "\n",
        "criterion = nn.CrossEntropyLoss() # https://pytorch.org/docs/stable/nn.html\n",
        "optimizer = optim.Adam(model.parameters(), lr=0.001)"
      ]
    },
    {
      "cell_type": "markdown",
      "metadata": {
        "id": "uo4sqcq2IWnm"
      },
      "source": [
        "### 데이터 사이즈 확인 "
      ]
    },
    {
      "cell_type": "code",
      "execution_count": 58,
      "metadata": {
        "id": "68y7M5JSIWnn",
        "colab": {
          "base_uri": "https://localhost:8080/"
        },
        "outputId": "72a0914d-a83d-453f-d395-e301cef60eb0"
      },
      "outputs": [
        {
          "output_type": "stream",
          "name": "stdout",
          "text": [
            "torch.Size([400, 6]) torch.Size([400])\n"
          ]
        }
      ],
      "source": [
        "for epoch in range(EPOCHS):\n",
        "    for X_batch, y_batch in train_loader:\n",
        "        print(X_batch.size(), y_batch.size())\n",
        "        break\n",
        "    break"
      ]
    },
    {
      "cell_type": "code",
      "execution_count": 59,
      "metadata": {
        "ExecuteTime": {
          "end_time": "2018-10-28T08:26:29.145512Z",
          "start_time": "2018-10-28T08:24:02.302520Z"
        },
        "id": "oYWDKFQTIWnn",
        "scrolled": true,
        "colab": {
          "base_uri": "https://localhost:8080/"
        },
        "outputId": "31adc481-c696-4a75-ca75-4895a2bb05df"
      },
      "outputs": [
        {
          "output_type": "stream",
          "name": "stdout",
          "text": [
            "Epoch [30/3000] Step [2/2] Loss: [0.6278] Train ACC [77.13%]\n",
            "Epoch [60/3000] Step [2/2] Loss: [0.4089] Train ACC [82.51%]\n",
            "Epoch [90/3000] Step [2/2] Loss: [0.3797] Train ACC [83.41%]\n",
            "Epoch [120/3000] Step [2/2] Loss: [0.3265] Train ACC [87.89%]\n",
            "Epoch [150/3000] Step [2/2] Loss: [0.3800] Train ACC [84.75%]\n",
            "Epoch [180/3000] Step [2/2] Loss: [0.3739] Train ACC [83.41%]\n",
            "Epoch [210/3000] Step [2/2] Loss: [0.3875] Train ACC [82.51%]\n",
            "Epoch [240/3000] Step [2/2] Loss: [0.3543] Train ACC [84.75%]\n",
            "Epoch [270/3000] Step [2/2] Loss: [0.3280] Train ACC [87.89%]\n",
            "Epoch [300/3000] Step [2/2] Loss: [0.3155] Train ACC [88.79%]\n",
            "Epoch [330/3000] Step [2/2] Loss: [0.3448] Train ACC [87.89%]\n",
            "Epoch [360/3000] Step [2/2] Loss: [0.3031] Train ACC [89.24%]\n",
            "Epoch [390/3000] Step [2/2] Loss: [0.3349] Train ACC [87.00%]\n",
            "Epoch [420/3000] Step [2/2] Loss: [0.3208] Train ACC [85.20%]\n",
            "Epoch [450/3000] Step [2/2] Loss: [0.2947] Train ACC [87.00%]\n",
            "Epoch [480/3000] Step [2/2] Loss: [0.2705] Train ACC [88.79%]\n",
            "Epoch [510/3000] Step [2/2] Loss: [0.2880] Train ACC [89.24%]\n",
            "Epoch [540/3000] Step [2/2] Loss: [0.3246] Train ACC [86.55%]\n",
            "Epoch [570/3000] Step [2/2] Loss: [0.2864] Train ACC [90.58%]\n",
            "Epoch [600/3000] Step [2/2] Loss: [0.2823] Train ACC [89.69%]\n",
            "Epoch [630/3000] Step [2/2] Loss: [0.2725] Train ACC [89.24%]\n",
            "Epoch [660/3000] Step [2/2] Loss: [0.2823] Train ACC [88.34%]\n",
            "Epoch [690/3000] Step [2/2] Loss: [0.2747] Train ACC [90.13%]\n",
            "Epoch [720/3000] Step [2/2] Loss: [0.2796] Train ACC [88.34%]\n",
            "Epoch [750/3000] Step [2/2] Loss: [0.2785] Train ACC [87.89%]\n",
            "Epoch [780/3000] Step [2/2] Loss: [0.2782] Train ACC [87.89%]\n",
            "Epoch [810/3000] Step [2/2] Loss: [0.2397] Train ACC [91.93%]\n",
            "Epoch [840/3000] Step [2/2] Loss: [0.2777] Train ACC [88.79%]\n",
            "Epoch [870/3000] Step [2/2] Loss: [0.2605] Train ACC [89.24%]\n",
            "Epoch [900/3000] Step [2/2] Loss: [0.2856] Train ACC [88.34%]\n",
            "Epoch [930/3000] Step [2/2] Loss: [0.2473] Train ACC [87.89%]\n",
            "Epoch [960/3000] Step [2/2] Loss: [0.2366] Train ACC [88.79%]\n",
            "Epoch [990/3000] Step [2/2] Loss: [0.2101] Train ACC [91.48%]\n",
            "Epoch [1020/3000] Step [2/2] Loss: [0.2180] Train ACC [91.93%]\n",
            "Epoch [1050/3000] Step [2/2] Loss: [0.2583] Train ACC [88.79%]\n",
            "Epoch [1080/3000] Step [2/2] Loss: [0.2437] Train ACC [90.13%]\n",
            "Epoch [1110/3000] Step [2/2] Loss: [0.2430] Train ACC [90.58%]\n",
            "Epoch [1140/3000] Step [2/2] Loss: [0.2641] Train ACC [89.24%]\n",
            "Epoch [1170/3000] Step [2/2] Loss: [0.2034] Train ACC [92.38%]\n",
            "Epoch [1200/3000] Step [2/2] Loss: [0.2306] Train ACC [90.13%]\n",
            "Epoch [1230/3000] Step [2/2] Loss: [0.2416] Train ACC [89.24%]\n",
            "Epoch [1260/3000] Step [2/2] Loss: [0.2511] Train ACC [89.24%]\n",
            "Epoch [1290/3000] Step [2/2] Loss: [0.2466] Train ACC [90.58%]\n",
            "Epoch [1320/3000] Step [2/2] Loss: [0.2222] Train ACC [90.58%]\n",
            "Epoch [1350/3000] Step [2/2] Loss: [0.2306] Train ACC [91.48%]\n",
            "Epoch [1380/3000] Step [2/2] Loss: [0.2309] Train ACC [91.03%]\n",
            "Epoch [1410/3000] Step [2/2] Loss: [0.2716] Train ACC [89.69%]\n",
            "Epoch [1440/3000] Step [2/2] Loss: [0.2616] Train ACC [90.13%]\n",
            "Epoch [1470/3000] Step [2/2] Loss: [0.2223] Train ACC [91.03%]\n",
            "Epoch [1500/3000] Step [2/2] Loss: [0.1941] Train ACC [93.27%]\n",
            "Epoch [1530/3000] Step [2/2] Loss: [0.2434] Train ACC [89.69%]\n",
            "Epoch [1560/3000] Step [2/2] Loss: [0.2520] Train ACC [89.69%]\n",
            "Epoch [1590/3000] Step [2/2] Loss: [0.2252] Train ACC [91.03%]\n",
            "Epoch [1620/3000] Step [2/2] Loss: [0.2207] Train ACC [91.93%]\n",
            "Epoch [1650/3000] Step [2/2] Loss: [0.2149] Train ACC [91.48%]\n",
            "Epoch [1680/3000] Step [2/2] Loss: [0.2331] Train ACC [90.13%]\n",
            "Epoch [1710/3000] Step [2/2] Loss: [0.2003] Train ACC [92.83%]\n",
            "Epoch [1740/3000] Step [2/2] Loss: [0.1780] Train ACC [93.27%]\n",
            "Epoch [1770/3000] Step [2/2] Loss: [0.2200] Train ACC [91.03%]\n",
            "Epoch [1800/3000] Step [2/2] Loss: [0.1751] Train ACC [94.17%]\n",
            "Epoch [1830/3000] Step [2/2] Loss: [0.2082] Train ACC [91.93%]\n",
            "Epoch [1860/3000] Step [2/2] Loss: [0.2426] Train ACC [89.69%]\n",
            "Epoch [1890/3000] Step [2/2] Loss: [0.2060] Train ACC [91.48%]\n",
            "Epoch [1920/3000] Step [2/2] Loss: [0.2212] Train ACC [91.03%]\n",
            "Epoch [1950/3000] Step [2/2] Loss: [0.2274] Train ACC [89.69%]\n",
            "Epoch [1980/3000] Step [2/2] Loss: [0.2025] Train ACC [92.38%]\n",
            "Epoch [2010/3000] Step [2/2] Loss: [0.1769] Train ACC [93.72%]\n",
            "Epoch [2040/3000] Step [2/2] Loss: [0.1974] Train ACC [92.83%]\n",
            "Epoch [2070/3000] Step [2/2] Loss: [0.1909] Train ACC [91.93%]\n",
            "Epoch [2100/3000] Step [2/2] Loss: [0.1710] Train ACC [93.27%]\n",
            "Epoch [2130/3000] Step [2/2] Loss: [0.2430] Train ACC [88.79%]\n",
            "Epoch [2160/3000] Step [2/2] Loss: [0.2222] Train ACC [92.38%]\n",
            "Epoch [2190/3000] Step [2/2] Loss: [0.2025] Train ACC [91.48%]\n",
            "Epoch [2220/3000] Step [2/2] Loss: [0.1963] Train ACC [92.83%]\n",
            "Epoch [2250/3000] Step [2/2] Loss: [0.1928] Train ACC [93.27%]\n",
            "Epoch [2280/3000] Step [2/2] Loss: [0.2092] Train ACC [90.58%]\n",
            "Epoch [2310/3000] Step [2/2] Loss: [0.1889] Train ACC [93.27%]\n",
            "Epoch [2340/3000] Step [2/2] Loss: [0.2072] Train ACC [90.13%]\n",
            "Epoch [2370/3000] Step [2/2] Loss: [0.1920] Train ACC [92.38%]\n",
            "Epoch [2400/3000] Step [2/2] Loss: [0.1973] Train ACC [91.93%]\n",
            "Epoch [2430/3000] Step [2/2] Loss: [0.2167] Train ACC [89.24%]\n",
            "Epoch [2460/3000] Step [2/2] Loss: [0.1880] Train ACC [91.93%]\n",
            "Epoch [2490/3000] Step [2/2] Loss: [0.2208] Train ACC [90.58%]\n",
            "Epoch [2520/3000] Step [2/2] Loss: [0.1641] Train ACC [94.17%]\n",
            "Epoch [2550/3000] Step [2/2] Loss: [0.1902] Train ACC [92.38%]\n",
            "Epoch [2580/3000] Step [2/2] Loss: [0.1618] Train ACC [95.52%]\n",
            "Epoch [2610/3000] Step [2/2] Loss: [0.1805] Train ACC [92.83%]\n",
            "Epoch [2640/3000] Step [2/2] Loss: [0.1850] Train ACC [92.83%]\n",
            "Epoch [2670/3000] Step [2/2] Loss: [0.2001] Train ACC [92.38%]\n",
            "Epoch [2700/3000] Step [2/2] Loss: [0.1875] Train ACC [91.48%]\n",
            "Epoch [2730/3000] Step [2/2] Loss: [0.1972] Train ACC [92.38%]\n",
            "Epoch [2760/3000] Step [2/2] Loss: [0.1890] Train ACC [93.27%]\n",
            "Epoch [2790/3000] Step [2/2] Loss: [0.1755] Train ACC [92.83%]\n",
            "Epoch [2820/3000] Step [2/2] Loss: [0.1444] Train ACC [95.07%]\n",
            "Epoch [2850/3000] Step [2/2] Loss: [0.2075] Train ACC [90.13%]\n",
            "Epoch [2880/3000] Step [2/2] Loss: [0.2078] Train ACC [91.48%]\n",
            "Epoch [2910/3000] Step [2/2] Loss: [0.1821] Train ACC [92.38%]\n",
            "Epoch [2940/3000] Step [2/2] Loss: [0.1327] Train ACC [94.62%]\n",
            "Epoch [2970/3000] Step [2/2] Loss: [0.1832] Train ACC [91.48%]\n",
            "Epoch [3000/3000] Step [2/2] Loss: [0.1804] Train ACC [93.27%]\n"
          ]
        }
      ],
      "source": [
        "loss_list = []\n",
        "acc_list = []\n",
        "for epoch in range(EPOCHS):\n",
        "    for i, (X_batch, y_batch) in enumerate(train_loader):\n",
        "        \n",
        "        #Forward \n",
        "        y_output = model(X_batch)\n",
        "        loss = criterion(y_output, y_batch) #CELoss: The input is expected to contain raw, unnormalized scores for each class.\n",
        "        \n",
        "        #Backward\n",
        "        optimizer.zero_grad()\n",
        "        loss.backward()\n",
        "        optimizer.step()\n",
        "        \n",
        "        #misc (acc 계산, etc) \n",
        "        y_pred = torch.max(y_output, 1)[1]\n",
        "        acc = accuracy_score(y_pred.data.cpu(), y_batch.data.cpu())\n",
        "        loss_list.append(loss.item())\n",
        "        acc_list.append(acc)\n",
        "\n",
        "    if (epoch+1) % 30 == 0:\n",
        "        print('Epoch [{}/{}] Step [{}/{}] Loss: [{:.4f}] Train ACC [{:.2f}%]'.format(epoch+1, EPOCHS, \\\n",
        "                                                                                   i+1, len(train_loader), loss.item(), acc*100))"
      ]
    },
    {
      "cell_type": "code",
      "execution_count": 60,
      "metadata": {
        "id": "nt8_rTpKIWnn",
        "colab": {
          "base_uri": "https://localhost:8080/",
          "height": 283
        },
        "outputId": "842425fc-607a-4bb0-9162-a6ca41c1d088"
      },
      "outputs": [
        {
          "output_type": "execute_result",
          "data": {
            "text/plain": [
              "[<matplotlib.lines.Line2D at 0x7f88445a0a10>]"
            ]
          },
          "metadata": {},
          "execution_count": 60
        },
        {
          "output_type": "display_data",
          "data": {
            "image/png": "[encoded data removed]",
            "text/plain": [
              "<Figure size 432x288 with 1 Axes>"
            ]
          },
          "metadata": {
            "needs_background": "light"
          }
        }
      ],
      "source": [
        "plt.plot(loss_list)"
      ]
    },
    {
      "cell_type": "code",
      "execution_count": 61,
      "metadata": {
        "id": "UNyiCLTaIWno",
        "colab": {
          "base_uri": "https://localhost:8080/",
          "height": 287
        },
        "outputId": "44f5744f-8417-406b-cf20-be42f248b73d"
      },
      "outputs": [
        {
          "output_type": "execute_result",
          "data": {
            "text/plain": [
              "[<matplotlib.lines.Line2D at 0x7f8844525610>]"
            ]
          },
          "metadata": {},
          "execution_count": 61
        },
        {
          "output_type": "display_data",
          "data": {
            "image/png": "[encoded data removed]",
            "text/plain": [
              "<Figure size 432x288 with 1 Axes>"
            ]
          },
          "metadata": {
            "needs_background": "light"
          }
        }
      ],
      "source": [
        "plt.plot(acc_list)"
      ]
    },
    {
      "cell_type": "code",
      "execution_count": null,
      "metadata": {
        "id": "mo1y3M1DIWno"
      },
      "outputs": [],
      "source": [
        ""
      ]
    },
    {
      "cell_type": "markdown",
      "metadata": {
        "id": "EQnDA546IWno"
      },
      "source": [
        "## Test"
      ]
    },
    {
      "cell_type": "code",
      "execution_count": 62,
      "metadata": {
        "ExecuteTime": {
          "end_time": "2018-10-28T08:26:31.968976Z",
          "start_time": "2018-10-28T08:26:31.839523Z"
        },
        "id": "rc7KvXo9IWno",
        "colab": {
          "base_uri": "https://localhost:8080/"
        },
        "outputId": "cc93413e-9797-46ed-805c-2f4b2d7474ff"
      },
      "outputs": [
        {
          "output_type": "stream",
          "name": "stdout",
          "text": [
            "Test ACC: [77.99%]\n"
          ]
        }
      ],
      "source": [
        "test_y_pred = []\n",
        "test_acc_list = []\n",
        "with torch.no_grad():\n",
        "\n",
        "    for X_batch, y_batch in test_loader:    \n",
        "        #Forward\n",
        "        y_output = model(X_batch)\n",
        "        \n",
        "        #misc (acc 계산, etc) \n",
        "        y_pred = torch.max(y_output, 1)[1]\n",
        "        test_y_pred.append(y_pred) ##\n",
        "        \n",
        "        acc = accuracy_score(y_pred.data.cpu(), y_batch.data.cpu())\n",
        "        test_acc_list.append(acc)\n",
        "    test_acc = np.mean(test_acc_list)\n",
        "print('Test ACC: [{:.2f}%]'.format(test_acc*100))"
      ]
    },
    {
      "cell_type": "code",
      "execution_count": null,
      "metadata": {
        "id": "Nprk6vB0IWnp"
      },
      "outputs": [],
      "source": [
        ""
      ]
    },
    {
      "cell_type": "code",
      "execution_count": 63,
      "metadata": {
        "id": "Fyd662TbIWnp",
        "colab": {
          "base_uri": "https://localhost:8080/"
        },
        "outputId": "223db8af-aa28-47a8-d36d-027420a27065"
      },
      "outputs": [
        {
          "output_type": "execute_result",
          "data": {
            "text/plain": [
              "(268,\n",
              " [tensor([0]),\n",
              "  tensor([0]),\n",
              "  tensor([1]),\n",
              "  tensor([0]),\n",
              "  tensor([0]),\n",
              "  tensor([0]),\n",
              "  tensor([0]),\n",
              "  tensor([0]),\n",
              "  tensor([1]),\n",
              "  tensor([1])])"
            ]
          },
          "metadata": {},
          "execution_count": 63
        }
      ],
      "source": [
        "len(test_y_pred), test_y_pred[:10]"
      ]
    },
    {
      "cell_type": "code",
      "execution_count": null,
      "metadata": {
        "id": "CNq2fjt0IWnp"
      },
      "outputs": [],
      "source": [
        ""
      ]
    },
    {
      "cell_type": "markdown",
      "metadata": {
        "id": "Jxs6VnCWIWnp"
      },
      "source": [
        "# Assignment"
      ]
    },
    {
      "cell_type": "code",
      "execution_count": 68,
      "metadata": {
        "id": "xHUn8ZzFIWnp"
      },
      "outputs": [],
      "source": [
        "class Binary_Classification_layer(nn.Module):\n",
        "    \n",
        "    def __init__(self, num_features, num_classes):\n",
        "        super(Binary_Classification_layer, self).__init__()\n",
        "        \n",
        "        self.Layer_1 = nn.Sequential(\n",
        "                                nn.Linear(num_features, 30),\n",
        "                                nn.ReLU()\n",
        "                            )\n",
        "        \n",
        "        ################################################\n",
        "        #       TODO                                   #\n",
        "        ################################################\n",
        "        self.Layer_2 = nn.Sequential(\n",
        "                                nn.Linear(30, 15),\n",
        "                                nn.ReLU()\n",
        "                            )\n",
        "        self.Layer_3 = nn.Sequential(\n",
        "                                nn.Linear(15, 6),\n",
        "                                nn.ReLU()\n",
        "                            )\n",
        "        \n",
        "        self.Layer_out = nn.Linear(6, 2)\n",
        "\n",
        "    def forward(self, inputs):\n",
        "        \n",
        "        x = self.Layer_1(inputs)\n",
        "        \n",
        "        ################################################\n",
        "        #       TODO                                   #\n",
        "        ################################################    \n",
        "        x = self.Layer_2(x)\n",
        "        x = self.Layer_3(x)   \n",
        "        \n",
        "        x = self.Layer_out(x)\n",
        "\n",
        "        return x"
      ]
    },
    {
      "cell_type": "code",
      "execution_count": 69,
      "metadata": {
        "id": "-t6i8Xn_IWnq"
      },
      "outputs": [],
      "source": [
        "EPOCHS = 3000\n",
        "BATCH_SIZE = 891\n",
        "\n",
        "train_loader = DataLoader(dataset=train_data, batch_size=BATCH_SIZE, shuffle=True)\n",
        "test_loader = DataLoader(dataset=test_data, batch_size=1, shuffle=False)\n",
        "\n",
        "model = Binary_Classification_layer(num_features=6, num_classes=2)\n",
        "\n",
        "criterion = nn.CrossEntropyLoss() # https://pytorch.org/docs/stable/nn.html\n",
        "optimizer = optim.Adam(model.parameters(), lr=0.001)"
      ]
    },
    {
      "cell_type": "code",
      "source": [
        "X_batch.cuda()"
      ],
      "metadata": {
        "colab": {
          "base_uri": "https://localhost:8080/"
        },
        "id": "J07BShNkQsCN",
        "outputId": "377bd47b-b3ac-4762-fbd8-a9a2f0fc70c6"
      },
      "execution_count": 70,
      "outputs": [
        {
          "output_type": "execute_result",
          "data": {
            "text/plain": [
              "tensor([[-0.3352,  0.6757, -0.1996, -0.4725, -0.5080, -0.4119]],\n",
              "       device='cuda:0')"
            ]
          },
          "metadata": {},
          "execution_count": 70
        }
      ]
    },
    {
      "cell_type": "code",
      "execution_count": 72,
      "metadata": {
        "id": "LU_anXJlIWnq",
        "colab": {
          "base_uri": "https://localhost:8080/"
        },
        "outputId": "664c90ad-649c-48d7-d167-38d4f43cc7a1"
      },
      "outputs": [
        {
          "output_type": "stream",
          "name": "stdout",
          "text": [
            "Epoch [30/3000] Step [1/1] Loss: [0.7804] Train avg ACC [38.68%] Test ACC [38.81%]\n",
            "Epoch [60/3000] Step [1/1] Loss: [0.7174] Train avg ACC [48.68%] Test ACC [47.90%]\n",
            "Epoch [90/3000] Step [1/1] Loss: [0.6448] Train avg ACC [59.50%] Test ACC [58.01%]\n",
            "Epoch [120/3000] Step [1/1] Loss: [0.5904] Train avg ACC [65.27%] Test ACC [63.58%]\n",
            "Epoch [150/3000] Step [1/1] Loss: [0.5528] Train avg ACC [68.80%] Test ACC [66.82%]\n",
            "Epoch [180/3000] Step [1/1] Loss: [0.5253] Train avg ACC [71.35%] Test ACC [68.99%]\n",
            "Epoch [210/3000] Step [1/1] Loss: [0.5041] Train avg ACC [73.19%] Test ACC [70.52%]\n",
            "Epoch [240/3000] Step [1/1] Loss: [0.4871] Train avg ACC [74.61%] Test ACC [71.68%]\n",
            "Epoch [270/3000] Step [1/1] Loss: [0.4731] Train avg ACC [75.75%] Test ACC [72.61%]\n",
            "Epoch [300/3000] Step [1/1] Loss: [0.4613] Train avg ACC [76.70%] Test ACC [73.33%]\n",
            "Epoch [330/3000] Step [1/1] Loss: [0.4510] Train avg ACC [77.49%] Test ACC [73.95%]\n",
            "Epoch [360/3000] Step [1/1] Loss: [0.4420] Train avg ACC [78.20%] Test ACC [74.45%]\n",
            "Epoch [390/3000] Step [1/1] Loss: [0.4338] Train avg ACC [78.85%] Test ACC [74.84%]\n",
            "Epoch [420/3000] Step [1/1] Loss: [0.4265] Train avg ACC [79.43%] Test ACC [75.15%]\n",
            "Epoch [450/3000] Step [1/1] Loss: [0.4198] Train avg ACC [79.94%] Test ACC [75.45%]\n",
            "Epoch [480/3000] Step [1/1] Loss: [0.4137] Train avg ACC [80.41%] Test ACC [75.70%]\n",
            "Epoch [510/3000] Step [1/1] Loss: [0.4080] Train avg ACC [80.84%] Test ACC [75.92%]\n",
            "Epoch [540/3000] Step [1/1] Loss: [0.4027] Train avg ACC [81.25%] Test ACC [76.12%]\n",
            "Epoch [570/3000] Step [1/1] Loss: [0.3976] Train avg ACC [81.61%] Test ACC [76.30%]\n",
            "Epoch [600/3000] Step [1/1] Loss: [0.3929] Train avg ACC [81.95%] Test ACC [76.46%]\n",
            "Epoch [630/3000] Step [1/1] Loss: [0.3884] Train avg ACC [82.26%] Test ACC [76.60%]\n",
            "Epoch [660/3000] Step [1/1] Loss: [0.3841] Train avg ACC [82.53%] Test ACC [76.72%]\n",
            "Epoch [690/3000] Step [1/1] Loss: [0.3801] Train avg ACC [82.78%] Test ACC [76.82%]\n",
            "Epoch [720/3000] Step [1/1] Loss: [0.3762] Train avg ACC [83.01%] Test ACC [76.91%]\n",
            "Epoch [750/3000] Step [1/1] Loss: [0.3726] Train avg ACC [83.24%] Test ACC [76.98%]\n",
            "Epoch [780/3000] Step [1/1] Loss: [0.3690] Train avg ACC [83.45%] Test ACC [77.04%]\n",
            "Epoch [810/3000] Step [1/1] Loss: [0.3657] Train avg ACC [83.66%] Test ACC [77.11%]\n",
            "Epoch [840/3000] Step [1/1] Loss: [0.3625] Train avg ACC [83.85%] Test ACC [77.18%]\n",
            "Epoch [870/3000] Step [1/1] Loss: [0.3594] Train avg ACC [84.02%] Test ACC [77.24%]\n",
            "Epoch [900/3000] Step [1/1] Loss: [0.3564] Train avg ACC [84.18%] Test ACC [77.29%]\n",
            "Epoch [930/3000] Step [1/1] Loss: [0.3535] Train avg ACC [84.36%] Test ACC [77.34%]\n",
            "Epoch [960/3000] Step [1/1] Loss: [0.3507] Train avg ACC [84.52%] Test ACC [77.40%]\n",
            "Epoch [990/3000] Step [1/1] Loss: [0.3480] Train avg ACC [84.67%] Test ACC [77.45%]\n",
            "Epoch [1020/3000] Step [1/1] Loss: [0.3453] Train avg ACC [84.81%] Test ACC [77.50%]\n",
            "Epoch [1050/3000] Step [1/1] Loss: [0.3427] Train avg ACC [84.94%] Test ACC [77.54%]\n",
            "Epoch [1080/3000] Step [1/1] Loss: [0.3401] Train avg ACC [85.06%] Test ACC [77.57%]\n",
            "Epoch [1110/3000] Step [1/1] Loss: [0.3376] Train avg ACC [85.19%] Test ACC [77.60%]\n",
            "Epoch [1140/3000] Step [1/1] Loss: [0.3351] Train avg ACC [85.32%] Test ACC [77.63%]\n",
            "Epoch [1170/3000] Step [1/1] Loss: [0.3327] Train avg ACC [85.43%] Test ACC [77.65%]\n",
            "Epoch [1200/3000] Step [1/1] Loss: [0.3302] Train avg ACC [85.55%] Test ACC [77.68%]\n",
            "Epoch [1230/3000] Step [1/1] Loss: [0.3279] Train avg ACC [85.67%] Test ACC [77.71%]\n",
            "Epoch [1260/3000] Step [1/1] Loss: [0.3255] Train avg ACC [85.79%] Test ACC [77.74%]\n",
            "Epoch [1290/3000] Step [1/1] Loss: [0.3232] Train avg ACC [85.90%] Test ACC [77.77%]\n",
            "Epoch [1320/3000] Step [1/1] Loss: [0.3210] Train avg ACC [86.01%] Test ACC [77.80%]\n",
            "Epoch [1350/3000] Step [1/1] Loss: [0.3188] Train avg ACC [86.12%] Test ACC [77.83%]\n",
            "Epoch [1380/3000] Step [1/1] Loss: [0.3167] Train avg ACC [86.22%] Test ACC [77.86%]\n",
            "Epoch [1410/3000] Step [1/1] Loss: [0.3146] Train avg ACC [86.33%] Test ACC [77.89%]\n",
            "Epoch [1440/3000] Step [1/1] Loss: [0.3125] Train avg ACC [86.43%] Test ACC [77.92%]\n",
            "Epoch [1470/3000] Step [1/1] Loss: [0.3105] Train avg ACC [86.53%] Test ACC [77.95%]\n",
            "Epoch [1500/3000] Step [1/1] Loss: [0.3086] Train avg ACC [86.62%] Test ACC [77.98%]\n",
            "Epoch [1530/3000] Step [1/1] Loss: [0.3066] Train avg ACC [86.72%] Test ACC [78.01%]\n",
            "Epoch [1560/3000] Step [1/1] Loss: [0.3048] Train avg ACC [86.81%] Test ACC [78.03%]\n",
            "Epoch [1590/3000] Step [1/1] Loss: [0.3029] Train avg ACC [86.90%] Test ACC [78.06%]\n",
            "Epoch [1620/3000] Step [1/1] Loss: [0.3011] Train avg ACC [86.98%] Test ACC [78.09%]\n",
            "Epoch [1650/3000] Step [1/1] Loss: [0.2994] Train avg ACC [87.07%] Test ACC [78.13%]\n",
            "Epoch [1680/3000] Step [1/1] Loss: [0.2977] Train avg ACC [87.15%] Test ACC [78.16%]\n",
            "Epoch [1710/3000] Step [1/1] Loss: [0.2960] Train avg ACC [87.23%] Test ACC [78.20%]\n",
            "Epoch [1740/3000] Step [1/1] Loss: [0.2944] Train avg ACC [87.30%] Test ACC [78.23%]\n",
            "Epoch [1770/3000] Step [1/1] Loss: [0.2928] Train avg ACC [87.38%] Test ACC [78.27%]\n",
            "Epoch [1800/3000] Step [1/1] Loss: [0.2912] Train avg ACC [87.46%] Test ACC [78.30%]\n",
            "Epoch [1830/3000] Step [1/1] Loss: [0.2897] Train avg ACC [87.54%] Test ACC [78.33%]\n",
            "Epoch [1860/3000] Step [1/1] Loss: [0.2881] Train avg ACC [87.61%] Test ACC [78.36%]\n",
            "Epoch [1890/3000] Step [1/1] Loss: [0.2866] Train avg ACC [87.69%] Test ACC [78.39%]\n",
            "Epoch [1920/3000] Step [1/1] Loss: [0.2852] Train avg ACC [87.76%] Test ACC [78.41%]\n",
            "Epoch [1950/3000] Step [1/1] Loss: [0.2838] Train avg ACC [87.83%] Test ACC [78.43%]\n",
            "Epoch [1980/3000] Step [1/1] Loss: [0.2823] Train avg ACC [87.90%] Test ACC [78.44%]\n",
            "Epoch [2010/3000] Step [1/1] Loss: [0.2810] Train avg ACC [87.97%] Test ACC [78.45%]\n",
            "Epoch [2040/3000] Step [1/1] Loss: [0.2796] Train avg ACC [88.04%] Test ACC [78.47%]\n",
            "Epoch [2070/3000] Step [1/1] Loss: [0.2783] Train avg ACC [88.10%] Test ACC [78.48%]\n",
            "Epoch [2100/3000] Step [1/1] Loss: [0.2770] Train avg ACC [88.16%] Test ACC [78.48%]\n",
            "Epoch [2130/3000] Step [1/1] Loss: [0.2757] Train avg ACC [88.23%] Test ACC [78.48%]\n",
            "Epoch [2160/3000] Step [1/1] Loss: [0.2745] Train avg ACC [88.29%] Test ACC [78.48%]\n",
            "Epoch [2190/3000] Step [1/1] Loss: [0.2732] Train avg ACC [88.35%] Test ACC [78.48%]\n",
            "Epoch [2220/3000] Step [1/1] Loss: [0.2720] Train avg ACC [88.41%] Test ACC [78.48%]\n",
            "Epoch [2250/3000] Step [1/1] Loss: [0.2708] Train avg ACC [88.47%] Test ACC [78.47%]\n",
            "Epoch [2280/3000] Step [1/1] Loss: [0.2696] Train avg ACC [88.53%] Test ACC [78.47%]\n",
            "Epoch [2310/3000] Step [1/1] Loss: [0.2685] Train avg ACC [88.59%] Test ACC [78.46%]\n",
            "Epoch [2340/3000] Step [1/1] Loss: [0.2674] Train avg ACC [88.65%] Test ACC [78.46%]\n",
            "Epoch [2370/3000] Step [1/1] Loss: [0.2662] Train avg ACC [88.70%] Test ACC [78.45%]\n",
            "Epoch [2400/3000] Step [1/1] Loss: [0.2651] Train avg ACC [88.76%] Test ACC [78.45%]\n",
            "Epoch [2430/3000] Step [1/1] Loss: [0.2641] Train avg ACC [88.81%] Test ACC [78.45%]\n",
            "Epoch [2460/3000] Step [1/1] Loss: [0.2630] Train avg ACC [88.86%] Test ACC [78.45%]\n",
            "Epoch [2490/3000] Step [1/1] Loss: [0.2620] Train avg ACC [88.92%] Test ACC [78.45%]\n",
            "Epoch [2520/3000] Step [1/1] Loss: [0.2609] Train avg ACC [88.97%] Test ACC [78.45%]\n",
            "Epoch [2550/3000] Step [1/1] Loss: [0.2599] Train avg ACC [89.02%] Test ACC [78.45%]\n",
            "Epoch [2580/3000] Step [1/1] Loss: [0.2589] Train avg ACC [89.07%] Test ACC [78.45%]\n",
            "Epoch [2610/3000] Step [1/1] Loss: [0.2579] Train avg ACC [89.12%] Test ACC [78.45%]\n",
            "Epoch [2640/3000] Step [1/1] Loss: [0.2570] Train avg ACC [89.17%] Test ACC [78.45%]\n",
            "Epoch [2670/3000] Step [1/1] Loss: [0.2560] Train avg ACC [89.22%] Test ACC [78.45%]\n",
            "Epoch [2700/3000] Step [1/1] Loss: [0.2551] Train avg ACC [89.27%] Test ACC [78.45%]\n",
            "Epoch [2730/3000] Step [1/1] Loss: [0.2542] Train avg ACC [89.32%] Test ACC [78.45%]\n",
            "Epoch [2760/3000] Step [1/1] Loss: [0.2533] Train avg ACC [89.36%] Test ACC [78.45%]\n",
            "Epoch [2790/3000] Step [1/1] Loss: [0.2524] Train avg ACC [89.41%] Test ACC [78.45%]\n",
            "Epoch [2820/3000] Step [1/1] Loss: [0.2515] Train avg ACC [89.45%] Test ACC [78.45%]\n",
            "Epoch [2850/3000] Step [1/1] Loss: [0.2506] Train avg ACC [89.50%] Test ACC [78.46%]\n",
            "Epoch [2880/3000] Step [1/1] Loss: [0.2497] Train avg ACC [89.54%] Test ACC [78.46%]\n",
            "Epoch [2910/3000] Step [1/1] Loss: [0.2489] Train avg ACC [89.58%] Test ACC [78.46%]\n",
            "Epoch [2940/3000] Step [1/1] Loss: [0.2480] Train avg ACC [89.63%] Test ACC [78.46%]\n",
            "Epoch [2970/3000] Step [1/1] Loss: [0.2472] Train avg ACC [89.67%] Test ACC [78.47%]\n",
            "Epoch [3000/3000] Step [1/1] Loss: [0.2464] Train avg ACC [89.71%] Test ACC [78.47%]\n"
          ]
        }
      ],
      "source": [
        "\n",
        "train_loss_list = []\n",
        "train_acc_list = []\n",
        "\n",
        "test_acc_list = []\n",
        "\n",
        "for epoch in range(EPOCHS):\n",
        "    # train\n",
        "    for i, (X_batch, y_batch) in enumerate(train_loader):\n",
        "        ################################################\n",
        "        #       TODO                                   #\n",
        "        ################################################\n",
        "        \n",
        "        #Forward \n",
        "        y_output = model(X_batch)\n",
        "        loss = criterion(y_output, y_batch) #CELoss: The input is expected to contain raw, unnormalized scores for each class.\n",
        "        \n",
        "        #Backward\n",
        "        optimizer.zero_grad()\n",
        "        loss.backward()\n",
        "        optimizer.step()\n",
        "        \n",
        "        #misc (acc 계산, etc) \n",
        "\n",
        "        y_pred = torch.max(y_output, 1)[1]\n",
        "        train_acc = accuracy_score(y_pred.data.cpu(), y_batch.data.cpu())\n",
        "        \n",
        "        train_loss_list.append(loss.item())\n",
        "        train_acc_list.append(train_acc)\n",
        "\n",
        "    \n",
        "        \n",
        "    # test\n",
        "    with torch.no_grad():\n",
        "        ################################################\n",
        "        #       TODO                                   #\n",
        "        ################################################ \n",
        "        #Forward\n",
        "\n",
        "        for X_batch, y_batch in test_loader:\n",
        "            y_output = model(X_batch)\n",
        "        \n",
        "        #misc (acc 계산, etc) \n",
        "            y_pred = torch.max(y_output, 1)[1]\n",
        "            test_y_pred.append(y_pred)\n",
        "        \n",
        "            acc = accuracy_score(y_pred.data.cpu(), y_batch.data.cpu())\n",
        "            test_acc_list.append(acc)\n",
        "        test_acc = np.mean(test_acc_list)\n",
        "\n",
        "    \n",
        "    if (epoch+1) % 30 == 0:\n",
        "        print('Epoch [{}/{}] Step [{}/{}] Loss: [{:.4f}] Train avg ACC [{:.2f}%] Test ACC [{:.2f}%]'.format(epoch+1, EPOCHS, \\\n",
        "                                                                                   i+1, len(train_loader), np.mean(train_loss_list), \\\n",
        "                                                                                                        np.mean(train_acc_list)*100, np.mean(test_acc_list)*100))"
      ]
    },
    {
      "cell_type": "code",
      "execution_count": null,
      "metadata": {
        "id": "PnQntMVvIWnr"
      },
      "outputs": [],
      "source": [
        ""
      ]
    }
  ],
  "metadata": {
    "colab": {
      "name": "3_neural_net_binary_classification.ipynb",
      "provenance": []
    },
    "kernelspec": {
      "display_name": "Python 3 (ipykernel)",
      "language": "python",
      "name": "python3"
    },
    "language_info": {
      "codemirror_mode": {
        "name": "ipython",
        "version": 3
      },
      "file_extension": ".py",
      "mimetype": "text/x-python",
      "name": "python",
      "nbconvert_exporter": "python",
      "pygments_lexer": "ipython3",
      "version": "3.8.12"
    },
    "latex_envs": {
      "LaTeX_envs_menu_present": true,
      "autoclose": false,
      "autocomplete": true,
      "bibliofile": "biblio.bib",
      "cite_by": "apalike",
      "current_citInitial": 1,
      "eqLabelWithNumbers": true,
      "eqNumInitial": 1,
      "hotkeys": {
        "equation": "Ctrl-E",
        "itemize": "Ctrl-I"
      },
      "labels_anchors": false,
      "latex_user_defs": false,
      "report_style_numbering": false,
      "user_envs_cfg": false
    },
    "toc": {
      "base_numbering": 1,
      "nav_menu": {},
      "number_sections": true,
      "sideBar": true,
      "skip_h1_title": false,
      "title_cell": "Table of Contents",
      "title_sidebar": "Contents",
      "toc_cell": false,
      "toc_position": {},
      "toc_section_display": true,
      "toc_window_display": false
    },
    "varInspector": {
      "cols": {
        "lenName": 16,
        "lenType": 16,
        "lenVar": 40
      },
      "kernels_config": {
        "python": {
          "delete_cmd_postfix": "",
          "delete_cmd_prefix": "del ",
          "library": "var_list.py",
          "varRefreshCmd": "print(var_dic_list())"
        },
        "r": {
          "delete_cmd_postfix": ") ",
          "delete_cmd_prefix": "rm(",
          "library": "var_list.r",
          "varRefreshCmd": "cat(var_dic_list()) "
        }
      },
      "types_to_exclude": [
        "module",
        "function",
        "builtin_function_or_method",
        "instance",
        "_Feature"
      ],
      "window_display": false
    },
    "accelerator": "GPU"
  },
  "nbformat": 4,
  "nbformat_minor": 0
}