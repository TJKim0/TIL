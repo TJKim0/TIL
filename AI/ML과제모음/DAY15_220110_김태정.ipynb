{
  "cells": [
    {
      "cell_type": "markdown",
      "metadata": {
        "id": "kj2e3ABl52hN"
      },
      "source": [
        "In this notebook we will explore the three methods and compare their results with a multiple linear regression model applied to Boston Housing dataset. The target variable is price and the features are 10 polynomial features of LSTAT: % lower status of the population. LSTAT2=  LSTAT2 , LSTAT3=  LSTAT3 , and etc."
      ]
    },
    {
      "cell_type": "code",
      "execution_count": 1,
      "metadata": {
        "colab": {
          "base_uri": "https://localhost:8080/"
        },
        "id": "hXMu6ASh52hQ",
        "outputId": "50c8a181-f69f-48f5-ca3c-1c482762fe69"
      },
      "outputs": [
        {
          "output_type": "stream",
          "name": "stderr",
          "text": [
            "/usr/local/lib/python3.7/dist-packages/statsmodels/tools/_testing.py:19: FutureWarning: pandas.util.testing is deprecated. Use the functions in the public API at pandas.testing instead.\n",
            "  import pandas.util.testing as tm\n"
          ]
        }
      ],
      "source": [
        "import numpy as np\n",
        "import pandas as pd\n",
        "import matplotlib.pyplot as plt\n",
        "import seaborn as sns\n",
        "from sklearn.linear_model import LinearRegression\n",
        "import statsmodels.api as sm\n",
        "sns.set()  #if you want to use seaborn themes with matplotlib functions\n",
        "import warnings\n",
        "warnings.filterwarnings('ignore')"
      ]
    },
    {
      "cell_type": "code",
      "source": [
        "from google.colab import drive\n",
        "drive.mount('/content/drive')"
      ],
      "metadata": {
        "colab": {
          "base_uri": "https://localhost:8080/"
        },
        "id": "HBVjNmPV6FX1",
        "outputId": "e9dd5175-d2f8-498f-97ca-0aa1d27f8c2b"
      },
      "execution_count": 4,
      "outputs": [
        {
          "output_type": "stream",
          "name": "stdout",
          "text": [
            "Mounted at /content/drive\n"
          ]
        }
      ]
    },
    {
      "cell_type": "code",
      "execution_count": 2,
      "metadata": {
        "id": "UsS4MyKA52hS"
      },
      "outputs": [],
      "source": [
        "rand_state= 1000"
      ]
    },
    {
      "cell_type": "code",
      "execution_count": 5,
      "metadata": {
        "id": "pyzgqYJx52hS"
      },
      "outputs": [],
      "source": [
        "df = pd.read_csv(\"/content/drive/MyDrive/220110_materials/Regularization_Boston.csv\")"
      ]
    },
    {
      "cell_type": "code",
      "execution_count": 6,
      "metadata": {
        "colab": {
          "base_uri": "https://localhost:8080/",
          "height": 206
        },
        "id": "t914k1cn52hT",
        "outputId": "8bf3e8ab-6f1c-445f-9a4e-4e0feb43c619"
      },
      "outputs": [
        {
          "output_type": "execute_result",
          "data": {
            "text/html": [
              "\n",
              "  <div id=\"df-c59dd0f7-c482-4434-91d0-f288ba1f0954\">\n",
              "    <div class=\"colab-df-container\">\n",
              "      <div>\n",
              "<style scoped>\n",
              "    .dataframe tbody tr th:only-of-type {\n",
              "        vertical-align: middle;\n",
              "    }\n",
              "\n",
              "    .dataframe tbody tr th {\n",
              "        vertical-align: top;\n",
              "    }\n",
              "\n",
              "    .dataframe thead th {\n",
              "        text-align: right;\n",
              "    }\n",
              "</style>\n",
              "<table border=\"1\" class=\"dataframe\">\n",
              "  <thead>\n",
              "    <tr style=\"text-align: right;\">\n",
              "      <th></th>\n",
              "      <th>price</th>\n",
              "      <th>LSTAT</th>\n",
              "      <th>LSTAT2</th>\n",
              "      <th>LSTAT3</th>\n",
              "      <th>LSTAT4</th>\n",
              "      <th>LSTAT5</th>\n",
              "      <th>LSTAT6</th>\n",
              "      <th>LSTAT7</th>\n",
              "      <th>LSTAT8</th>\n",
              "      <th>LSTAT9</th>\n",
              "      <th>LSTAT10</th>\n",
              "    </tr>\n",
              "  </thead>\n",
              "  <tbody>\n",
              "    <tr>\n",
              "      <th>0</th>\n",
              "      <td>24.0</td>\n",
              "      <td>4.98</td>\n",
              "      <td>24.8004</td>\n",
              "      <td>123.505992</td>\n",
              "      <td>615.059840</td>\n",
              "      <td>3062.998004</td>\n",
              "      <td>15253.730060</td>\n",
              "      <td>7.596358e+04</td>\n",
              "      <td>3.782986e+05</td>\n",
              "      <td>1.883927e+06</td>\n",
              "      <td>9.381957e+06</td>\n",
              "    </tr>\n",
              "    <tr>\n",
              "      <th>1</th>\n",
              "      <td>21.6</td>\n",
              "      <td>9.14</td>\n",
              "      <td>83.5396</td>\n",
              "      <td>763.551944</td>\n",
              "      <td>6978.864768</td>\n",
              "      <td>63786.823980</td>\n",
              "      <td>583011.571200</td>\n",
              "      <td>5.328726e+06</td>\n",
              "      <td>4.870455e+07</td>\n",
              "      <td>4.451596e+08</td>\n",
              "      <td>4.068759e+09</td>\n",
              "    </tr>\n",
              "    <tr>\n",
              "      <th>2</th>\n",
              "      <td>34.7</td>\n",
              "      <td>4.03</td>\n",
              "      <td>16.2409</td>\n",
              "      <td>65.450827</td>\n",
              "      <td>263.766833</td>\n",
              "      <td>1062.980336</td>\n",
              "      <td>4283.810755</td>\n",
              "      <td>1.726376e+04</td>\n",
              "      <td>6.957294e+04</td>\n",
              "      <td>2.803790e+05</td>\n",
              "      <td>1.129927e+06</td>\n",
              "    </tr>\n",
              "    <tr>\n",
              "      <th>3</th>\n",
              "      <td>33.4</td>\n",
              "      <td>2.94</td>\n",
              "      <td>8.6436</td>\n",
              "      <td>25.412184</td>\n",
              "      <td>74.711821</td>\n",
              "      <td>219.652754</td>\n",
              "      <td>645.779096</td>\n",
              "      <td>1.898591e+03</td>\n",
              "      <td>5.581856e+03</td>\n",
              "      <td>1.641066e+04</td>\n",
              "      <td>4.824733e+04</td>\n",
              "    </tr>\n",
              "    <tr>\n",
              "      <th>4</th>\n",
              "      <td>36.2</td>\n",
              "      <td>5.33</td>\n",
              "      <td>28.4089</td>\n",
              "      <td>151.419437</td>\n",
              "      <td>807.065599</td>\n",
              "      <td>4301.659644</td>\n",
              "      <td>22927.845900</td>\n",
              "      <td>1.222054e+05</td>\n",
              "      <td>6.513549e+05</td>\n",
              "      <td>3.471722e+06</td>\n",
              "      <td>1.850428e+07</td>\n",
              "    </tr>\n",
              "  </tbody>\n",
              "</table>\n",
              "</div>\n",
              "      <button class=\"colab-df-convert\" onclick=\"convertToInteractive('df-c59dd0f7-c482-4434-91d0-f288ba1f0954')\"\n",
              "              title=\"Convert this dataframe to an interactive table.\"\n",
              "              style=\"display:none;\">\n",
              "        \n",
              "  <svg xmlns=\"http://www.w3.org/2000/svg\" height=\"24px\"viewBox=\"0 0 24 24\"\n",
              "       width=\"24px\">\n",
              "    <path d=\"M0 0h24v24H0V0z\" fill=\"none\"/>\n",
              "    <path d=\"M18.56 5.44l.94 2.06.94-2.06 2.06-.94-2.06-.94-.94-2.06-.94 2.06-2.06.94zm-11 1L8.5 8.5l.94-2.06 2.06-.94-2.06-.94L8.5 2.5l-.94 2.06-2.06.94zm10 10l.94 2.06.94-2.06 2.06-.94-2.06-.94-.94-2.06-.94 2.06-2.06.94z\"/><path d=\"M17.41 7.96l-1.37-1.37c-.4-.4-.92-.59-1.43-.59-.52 0-1.04.2-1.43.59L10.3 9.45l-7.72 7.72c-.78.78-.78 2.05 0 2.83L4 21.41c.39.39.9.59 1.41.59.51 0 1.02-.2 1.41-.59l7.78-7.78 2.81-2.81c.8-.78.8-2.07 0-2.86zM5.41 20L4 18.59l7.72-7.72 1.47 1.35L5.41 20z\"/>\n",
              "  </svg>\n",
              "      </button>\n",
              "      \n",
              "  <style>\n",
              "    .colab-df-container {\n",
              "      display:flex;\n",
              "      flex-wrap:wrap;\n",
              "      gap: 12px;\n",
              "    }\n",
              "\n",
              "    .colab-df-convert {\n",
              "      background-color: #E8F0FE;\n",
              "      border: none;\n",
              "      border-radius: 50%;\n",
              "      cursor: pointer;\n",
              "      display: none;\n",
              "      fill: #1967D2;\n",
              "      height: 32px;\n",
              "      padding: 0 0 0 0;\n",
              "      width: 32px;\n",
              "    }\n",
              "\n",
              "    .colab-df-convert:hover {\n",
              "      background-color: #E2EBFA;\n",
              "      box-shadow: 0px 1px 2px rgba(60, 64, 67, 0.3), 0px 1px 3px 1px rgba(60, 64, 67, 0.15);\n",
              "      fill: #174EA6;\n",
              "    }\n",
              "\n",
              "    [theme=dark] .colab-df-convert {\n",
              "      background-color: #3B4455;\n",
              "      fill: #D2E3FC;\n",
              "    }\n",
              "\n",
              "    [theme=dark] .colab-df-convert:hover {\n",
              "      background-color: #434B5C;\n",
              "      box-shadow: 0px 1px 3px 1px rgba(0, 0, 0, 0.15);\n",
              "      filter: drop-shadow(0px 1px 2px rgba(0, 0, 0, 0.3));\n",
              "      fill: #FFFFFF;\n",
              "    }\n",
              "  </style>\n",
              "\n",
              "      <script>\n",
              "        const buttonEl =\n",
              "          document.querySelector('#df-c59dd0f7-c482-4434-91d0-f288ba1f0954 button.colab-df-convert');\n",
              "        buttonEl.style.display =\n",
              "          google.colab.kernel.accessAllowed ? 'block' : 'none';\n",
              "\n",
              "        async function convertToInteractive(key) {\n",
              "          const element = document.querySelector('#df-c59dd0f7-c482-4434-91d0-f288ba1f0954');\n",
              "          const dataTable =\n",
              "            await google.colab.kernel.invokeFunction('convertToInteractive',\n",
              "                                                     [key], {});\n",
              "          if (!dataTable) return;\n",
              "\n",
              "          const docLinkHtml = 'Like what you see? Visit the ' +\n",
              "            '<a target=\"_blank\" href=https://colab.research.google.com/notebooks/data_table.ipynb>data table notebook</a>'\n",
              "            + ' to learn more about interactive tables.';\n",
              "          element.innerHTML = '';\n",
              "          dataTable['output_type'] = 'display_data';\n",
              "          await google.colab.output.renderOutput(dataTable, element);\n",
              "          const docLink = document.createElement('div');\n",
              "          docLink.innerHTML = docLinkHtml;\n",
              "          element.appendChild(docLink);\n",
              "        }\n",
              "      </script>\n",
              "    </div>\n",
              "  </div>\n",
              "  "
            ],
            "text/plain": [
              "   price  LSTAT   LSTAT2  ...        LSTAT8        LSTAT9       LSTAT10\n",
              "0   24.0   4.98  24.8004  ...  3.782986e+05  1.883927e+06  9.381957e+06\n",
              "1   21.6   9.14  83.5396  ...  4.870455e+07  4.451596e+08  4.068759e+09\n",
              "2   34.7   4.03  16.2409  ...  6.957294e+04  2.803790e+05  1.129927e+06\n",
              "3   33.4   2.94   8.6436  ...  5.581856e+03  1.641066e+04  4.824733e+04\n",
              "4   36.2   5.33  28.4089  ...  6.513549e+05  3.471722e+06  1.850428e+07\n",
              "\n",
              "[5 rows x 11 columns]"
            ]
          },
          "metadata": {},
          "execution_count": 6
        }
      ],
      "source": [
        "df.head()"
      ]
    },
    {
      "cell_type": "code",
      "execution_count": 7,
      "metadata": {
        "colab": {
          "base_uri": "https://localhost:8080/",
          "height": 285
        },
        "id": "zqnZaonn52hT",
        "outputId": "6b5c5e7b-1af9-4177-e797-9a8d09c9f191"
      },
      "outputs": [
        {
          "output_type": "display_data",
          "data": {
            "image/png": "[encoded data removed]",
            "text/plain": [
              "<Figure size 432x288 with 1 Axes>"
            ]
          },
          "metadata": {
            "needs_background": "light"
          }
        }
      ],
      "source": [
        "sns.scatterplot(x='LSTAT', y='price', data=df)\n",
        "plt.show()"
      ]
    },
    {
      "cell_type": "markdown",
      "metadata": {
        "id": "-H0Pkclo52hU"
      },
      "source": [
        "# 과제: 04_sklearn_penalization_1.ipynb의 과정을 위 데이터셋에 적용해 보는 것입니다!"
      ]
    },
    {
      "cell_type": "markdown",
      "metadata": {
        "id": "AMBS6JCt52hU"
      },
      "source": [
        "# Q1. normalize the features!"
      ]
    },
    {
      "cell_type": "code",
      "execution_count": 8,
      "metadata": {
        "id": "kGPHWb1t52hV"
      },
      "outputs": [],
      "source": [
        "from sklearn.preprocessing import StandardScaler"
      ]
    },
    {
      "cell_type": "code",
      "execution_count": 9,
      "metadata": {
        "colab": {
          "base_uri": "https://localhost:8080/"
        },
        "id": "E0J_FegE52hV",
        "outputId": "f5528afd-0bac-41bf-fe9b-29ebb1478e67"
      },
      "outputs": [
        {
          "output_type": "execute_result",
          "data": {
            "text/plain": [
              "array([ 0.15968566, -1.0755623 , -0.78952949, -0.56845926, -0.42533928,\n",
              "       -0.33434062, -0.2740581 , -0.23195975, -0.20115811, -0.1777807 ,\n",
              "       -0.15953586])"
            ]
          },
          "metadata": {},
          "execution_count": 9
        }
      ],
      "source": [
        "# Your code\n",
        "scaler = StandardScaler()\n",
        "df_sc = scaler.fit_transform(df)\n",
        "df_sc[0]"
      ]
    },
    {
      "cell_type": "code",
      "execution_count": 10,
      "metadata": {
        "colab": {
          "base_uri": "https://localhost:8080/",
          "height": 364
        },
        "id": "hX2d9-A252hV",
        "outputId": "2bfa30be-dcd1-4340-f1c8-736b2e10864e"
      },
      "outputs": [
        {
          "output_type": "execute_result",
          "data": {
            "text/html": [
              "\n",
              "  <div id=\"df-7459d6c0-ed39-4296-9b61-e44482443bda\">\n",
              "    <div class=\"colab-df-container\">\n",
              "      <div>\n",
              "<style scoped>\n",
              "    .dataframe tbody tr th:only-of-type {\n",
              "        vertical-align: middle;\n",
              "    }\n",
              "\n",
              "    .dataframe tbody tr th {\n",
              "        vertical-align: top;\n",
              "    }\n",
              "\n",
              "    .dataframe thead th {\n",
              "        text-align: right;\n",
              "    }\n",
              "</style>\n",
              "<table border=\"1\" class=\"dataframe\">\n",
              "  <thead>\n",
              "    <tr style=\"text-align: right;\">\n",
              "      <th></th>\n",
              "      <th>price</th>\n",
              "      <th>LSTAT</th>\n",
              "      <th>LSTAT2</th>\n",
              "      <th>LSTAT3</th>\n",
              "      <th>LSTAT4</th>\n",
              "      <th>LSTAT5</th>\n",
              "      <th>LSTAT6</th>\n",
              "      <th>LSTAT7</th>\n",
              "      <th>LSTAT8</th>\n",
              "      <th>LSTAT9</th>\n",
              "      <th>LSTAT10</th>\n",
              "    </tr>\n",
              "  </thead>\n",
              "  <tbody>\n",
              "    <tr>\n",
              "      <th>count</th>\n",
              "      <td>506.000000</td>\n",
              "      <td>506.000000</td>\n",
              "      <td>506.000000</td>\n",
              "      <td>506.000000</td>\n",
              "      <td>5.060000e+02</td>\n",
              "      <td>5.060000e+02</td>\n",
              "      <td>5.060000e+02</td>\n",
              "      <td>5.060000e+02</td>\n",
              "      <td>5.060000e+02</td>\n",
              "      <td>5.060000e+02</td>\n",
              "      <td>5.060000e+02</td>\n",
              "    </tr>\n",
              "    <tr>\n",
              "      <th>mean</th>\n",
              "      <td>22.532806</td>\n",
              "      <td>12.653063</td>\n",
              "      <td>210.993989</td>\n",
              "      <td>4285.788793</td>\n",
              "      <td>1.001336e+05</td>\n",
              "      <td>2.587609e+06</td>\n",
              "      <td>7.198029e+07</td>\n",
              "      <td>2.114923e+09</td>\n",
              "      <td>6.477077e+10</td>\n",
              "      <td>2.048399e+12</td>\n",
              "      <td>6.645292e+13</td>\n",
              "    </tr>\n",
              "    <tr>\n",
              "      <th>std</th>\n",
              "      <td>9.197104</td>\n",
              "      <td>7.141062</td>\n",
              "      <td>236.061920</td>\n",
              "      <td>7329.288372</td>\n",
              "      <td>2.342059e+05</td>\n",
              "      <td>7.737927e+06</td>\n",
              "      <td>2.628503e+08</td>\n",
              "      <td>9.126326e+09</td>\n",
              "      <td>3.223061e+11</td>\n",
              "      <td>1.153345e+13</td>\n",
              "      <td>4.169512e+14</td>\n",
              "    </tr>\n",
              "    <tr>\n",
              "      <th>min</th>\n",
              "      <td>5.000000</td>\n",
              "      <td>1.730000</td>\n",
              "      <td>2.992900</td>\n",
              "      <td>5.177717</td>\n",
              "      <td>8.957450e+00</td>\n",
              "      <td>1.549639e+01</td>\n",
              "      <td>2.680875e+01</td>\n",
              "      <td>4.637914e+01</td>\n",
              "      <td>8.023592e+01</td>\n",
              "      <td>1.388081e+02</td>\n",
              "      <td>2.401381e+02</td>\n",
              "    </tr>\n",
              "    <tr>\n",
              "      <th>25%</th>\n",
              "      <td>17.025000</td>\n",
              "      <td>6.950000</td>\n",
              "      <td>48.303700</td>\n",
              "      <td>335.727443</td>\n",
              "      <td>2.333481e+03</td>\n",
              "      <td>1.621932e+04</td>\n",
              "      <td>1.127384e+05</td>\n",
              "      <td>7.836504e+05</td>\n",
              "      <td>5.447333e+06</td>\n",
              "      <td>3.786664e+07</td>\n",
              "      <td>2.632333e+08</td>\n",
              "    </tr>\n",
              "    <tr>\n",
              "      <th>50%</th>\n",
              "      <td>21.200000</td>\n",
              "      <td>11.360000</td>\n",
              "      <td>129.050000</td>\n",
              "      <td>1466.017088</td>\n",
              "      <td>1.665411e+04</td>\n",
              "      <td>1.891930e+05</td>\n",
              "      <td>2.149266e+06</td>\n",
              "      <td>2.441612e+07</td>\n",
              "      <td>2.773731e+08</td>\n",
              "      <td>3.151037e+09</td>\n",
              "      <td>3.579677e+10</td>\n",
              "    </tr>\n",
              "    <tr>\n",
              "      <th>75%</th>\n",
              "      <td>25.000000</td>\n",
              "      <td>16.955000</td>\n",
              "      <td>287.472100</td>\n",
              "      <td>4874.091998</td>\n",
              "      <td>8.264029e+04</td>\n",
              "      <td>1.401168e+06</td>\n",
              "      <td>2.375683e+07</td>\n",
              "      <td>4.027977e+08</td>\n",
              "      <td>6.829447e+09</td>\n",
              "      <td>1.157935e+11</td>\n",
              "      <td>1.963285e+12</td>\n",
              "    </tr>\n",
              "    <tr>\n",
              "      <th>max</th>\n",
              "      <td>50.000000</td>\n",
              "      <td>37.970000</td>\n",
              "      <td>1441.720900</td>\n",
              "      <td>54742.142570</td>\n",
              "      <td>2.078559e+06</td>\n",
              "      <td>7.892289e+07</td>\n",
              "      <td>2.996702e+09</td>\n",
              "      <td>1.137850e+11</td>\n",
              "      <td>4.320410e+12</td>\n",
              "      <td>1.640460e+14</td>\n",
              "      <td>6.228820e+15</td>\n",
              "    </tr>\n",
              "  </tbody>\n",
              "</table>\n",
              "</div>\n",
              "      <button class=\"colab-df-convert\" onclick=\"convertToInteractive('df-7459d6c0-ed39-4296-9b61-e44482443bda')\"\n",
              "              title=\"Convert this dataframe to an interactive table.\"\n",
              "              style=\"display:none;\">\n",
              "        \n",
              "  <svg xmlns=\"http://www.w3.org/2000/svg\" height=\"24px\"viewBox=\"0 0 24 24\"\n",
              "       width=\"24px\">\n",
              "    <path d=\"M0 0h24v24H0V0z\" fill=\"none\"/>\n",
              "    <path d=\"M18.56 5.44l.94 2.06.94-2.06 2.06-.94-2.06-.94-.94-2.06-.94 2.06-2.06.94zm-11 1L8.5 8.5l.94-2.06 2.06-.94-2.06-.94L8.5 2.5l-.94 2.06-2.06.94zm10 10l.94 2.06.94-2.06 2.06-.94-2.06-.94-.94-2.06-.94 2.06-2.06.94z\"/><path d=\"M17.41 7.96l-1.37-1.37c-.4-.4-.92-.59-1.43-.59-.52 0-1.04.2-1.43.59L10.3 9.45l-7.72 7.72c-.78.78-.78 2.05 0 2.83L4 21.41c.39.39.9.59 1.41.59.51 0 1.02-.2 1.41-.59l7.78-7.78 2.81-2.81c.8-.78.8-2.07 0-2.86zM5.41 20L4 18.59l7.72-7.72 1.47 1.35L5.41 20z\"/>\n",
              "  </svg>\n",
              "      </button>\n",
              "      \n",
              "  <style>\n",
              "    .colab-df-container {\n",
              "      display:flex;\n",
              "      flex-wrap:wrap;\n",
              "      gap: 12px;\n",
              "    }\n",
              "\n",
              "    .colab-df-convert {\n",
              "      background-color: #E8F0FE;\n",
              "      border: none;\n",
              "      border-radius: 50%;\n",
              "      cursor: pointer;\n",
              "      display: none;\n",
              "      fill: #1967D2;\n",
              "      height: 32px;\n",
              "      padding: 0 0 0 0;\n",
              "      width: 32px;\n",
              "    }\n",
              "\n",
              "    .colab-df-convert:hover {\n",
              "      background-color: #E2EBFA;\n",
              "      box-shadow: 0px 1px 2px rgba(60, 64, 67, 0.3), 0px 1px 3px 1px rgba(60, 64, 67, 0.15);\n",
              "      fill: #174EA6;\n",
              "    }\n",
              "\n",
              "    [theme=dark] .colab-df-convert {\n",
              "      background-color: #3B4455;\n",
              "      fill: #D2E3FC;\n",
              "    }\n",
              "\n",
              "    [theme=dark] .colab-df-convert:hover {\n",
              "      background-color: #434B5C;\n",
              "      box-shadow: 0px 1px 3px 1px rgba(0, 0, 0, 0.15);\n",
              "      filter: drop-shadow(0px 1px 2px rgba(0, 0, 0, 0.3));\n",
              "      fill: #FFFFFF;\n",
              "    }\n",
              "  </style>\n",
              "\n",
              "      <script>\n",
              "        const buttonEl =\n",
              "          document.querySelector('#df-7459d6c0-ed39-4296-9b61-e44482443bda button.colab-df-convert');\n",
              "        buttonEl.style.display =\n",
              "          google.colab.kernel.accessAllowed ? 'block' : 'none';\n",
              "\n",
              "        async function convertToInteractive(key) {\n",
              "          const element = document.querySelector('#df-7459d6c0-ed39-4296-9b61-e44482443bda');\n",
              "          const dataTable =\n",
              "            await google.colab.kernel.invokeFunction('convertToInteractive',\n",
              "                                                     [key], {});\n",
              "          if (!dataTable) return;\n",
              "\n",
              "          const docLinkHtml = 'Like what you see? Visit the ' +\n",
              "            '<a target=\"_blank\" href=https://colab.research.google.com/notebooks/data_table.ipynb>data table notebook</a>'\n",
              "            + ' to learn more about interactive tables.';\n",
              "          element.innerHTML = '';\n",
              "          dataTable['output_type'] = 'display_data';\n",
              "          await google.colab.output.renderOutput(dataTable, element);\n",
              "          const docLink = document.createElement('div');\n",
              "          docLink.innerHTML = docLinkHtml;\n",
              "          element.appendChild(docLink);\n",
              "        }\n",
              "      </script>\n",
              "    </div>\n",
              "  </div>\n",
              "  "
            ],
            "text/plain": [
              "            price       LSTAT  ...        LSTAT9       LSTAT10\n",
              "count  506.000000  506.000000  ...  5.060000e+02  5.060000e+02\n",
              "mean    22.532806   12.653063  ...  2.048399e+12  6.645292e+13\n",
              "std      9.197104    7.141062  ...  1.153345e+13  4.169512e+14\n",
              "min      5.000000    1.730000  ...  1.388081e+02  2.401381e+02\n",
              "25%     17.025000    6.950000  ...  3.786664e+07  2.632333e+08\n",
              "50%     21.200000   11.360000  ...  3.151037e+09  3.579677e+10\n",
              "75%     25.000000   16.955000  ...  1.157935e+11  1.963285e+12\n",
              "max     50.000000   37.970000  ...  1.640460e+14  6.228820e+15\n",
              "\n",
              "[8 rows x 11 columns]"
            ]
          },
          "metadata": {},
          "execution_count": 10
        }
      ],
      "source": [
        "df.describe()"
      ]
    },
    {
      "cell_type": "code",
      "source": [
        ""
      ],
      "metadata": {
        "id": "vH1_5Oqw-OFv"
      },
      "execution_count": null,
      "outputs": []
    },
    {
      "cell_type": "code",
      "source": [
        "df_sc = pd.DataFrame(df_sc, columns=df.columns)\n",
        "df_sc.head()"
      ],
      "metadata": {
        "colab": {
          "base_uri": "https://localhost:8080/",
          "height": 206
        },
        "id": "MymrUB99-FNZ",
        "outputId": "38f15c7a-c751-40db-b54b-e078f7279148"
      },
      "execution_count": 12,
      "outputs": [
        {
          "output_type": "execute_result",
          "data": {
            "text/html": [
              "\n",
              "  <div id=\"df-ffb1f3f4-0077-43b2-be4e-9a0cd40e6866\">\n",
              "    <div class=\"colab-df-container\">\n",
              "      <div>\n",
              "<style scoped>\n",
              "    .dataframe tbody tr th:only-of-type {\n",
              "        vertical-align: middle;\n",
              "    }\n",
              "\n",
              "    .dataframe tbody tr th {\n",
              "        vertical-align: top;\n",
              "    }\n",
              "\n",
              "    .dataframe thead th {\n",
              "        text-align: right;\n",
              "    }\n",
              "</style>\n",
              "<table border=\"1\" class=\"dataframe\">\n",
              "  <thead>\n",
              "    <tr style=\"text-align: right;\">\n",
              "      <th></th>\n",
              "      <th>price</th>\n",
              "      <th>LSTAT</th>\n",
              "      <th>LSTAT2</th>\n",
              "      <th>LSTAT3</th>\n",
              "      <th>LSTAT4</th>\n",
              "      <th>LSTAT5</th>\n",
              "      <th>LSTAT6</th>\n",
              "      <th>LSTAT7</th>\n",
              "      <th>LSTAT8</th>\n",
              "      <th>LSTAT9</th>\n",
              "      <th>LSTAT10</th>\n",
              "    </tr>\n",
              "  </thead>\n",
              "  <tbody>\n",
              "    <tr>\n",
              "      <th>0</th>\n",
              "      <td>0.159686</td>\n",
              "      <td>-1.075562</td>\n",
              "      <td>-0.789529</td>\n",
              "      <td>-0.568459</td>\n",
              "      <td>-0.425339</td>\n",
              "      <td>-0.334341</td>\n",
              "      <td>-0.274058</td>\n",
              "      <td>-0.231960</td>\n",
              "      <td>-0.201158</td>\n",
              "      <td>-0.177781</td>\n",
              "      <td>-0.159536</td>\n",
              "    </tr>\n",
              "    <tr>\n",
              "      <th>1</th>\n",
              "      <td>-0.101524</td>\n",
              "      <td>-0.492439</td>\n",
              "      <td>-0.540454</td>\n",
              "      <td>-0.481046</td>\n",
              "      <td>-0.398141</td>\n",
              "      <td>-0.326485</td>\n",
              "      <td>-0.271896</td>\n",
              "      <td>-0.231384</td>\n",
              "      <td>-0.201008</td>\n",
              "      <td>-0.177742</td>\n",
              "      <td>-0.159526</td>\n",
              "    </tr>\n",
              "    <tr>\n",
              "      <th>2</th>\n",
              "      <td>1.324247</td>\n",
              "      <td>-1.208727</td>\n",
              "      <td>-0.825825</td>\n",
              "      <td>-0.576388</td>\n",
              "      <td>-0.426841</td>\n",
              "      <td>-0.334599</td>\n",
              "      <td>-0.274100</td>\n",
              "      <td>-0.231966</td>\n",
              "      <td>-0.201159</td>\n",
              "      <td>-0.177781</td>\n",
              "      <td>-0.159536</td>\n",
              "    </tr>\n",
              "    <tr>\n",
              "      <th>3</th>\n",
              "      <td>1.182758</td>\n",
              "      <td>-1.361517</td>\n",
              "      <td>-0.858040</td>\n",
              "      <td>-0.581856</td>\n",
              "      <td>-0.427649</td>\n",
              "      <td>-0.334708</td>\n",
              "      <td>-0.274114</td>\n",
              "      <td>-0.231968</td>\n",
              "      <td>-0.201159</td>\n",
              "      <td>-0.177781</td>\n",
              "      <td>-0.159536</td>\n",
              "    </tr>\n",
              "    <tr>\n",
              "      <th>4</th>\n",
              "      <td>1.487503</td>\n",
              "      <td>-1.026501</td>\n",
              "      <td>-0.774228</td>\n",
              "      <td>-0.564647</td>\n",
              "      <td>-0.424519</td>\n",
              "      <td>-0.334180</td>\n",
              "      <td>-0.274029</td>\n",
              "      <td>-0.231955</td>\n",
              "      <td>-0.201157</td>\n",
              "      <td>-0.177781</td>\n",
              "      <td>-0.159536</td>\n",
              "    </tr>\n",
              "  </tbody>\n",
              "</table>\n",
              "</div>\n",
              "      <button class=\"colab-df-convert\" onclick=\"convertToInteractive('df-ffb1f3f4-0077-43b2-be4e-9a0cd40e6866')\"\n",
              "              title=\"Convert this dataframe to an interactive table.\"\n",
              "              style=\"display:none;\">\n",
              "        \n",
              "  <svg xmlns=\"http://www.w3.org/2000/svg\" height=\"24px\"viewBox=\"0 0 24 24\"\n",
              "       width=\"24px\">\n",
              "    <path d=\"M0 0h24v24H0V0z\" fill=\"none\"/>\n",
              "    <path d=\"M18.56 5.44l.94 2.06.94-2.06 2.06-.94-2.06-.94-.94-2.06-.94 2.06-2.06.94zm-11 1L8.5 8.5l.94-2.06 2.06-.94-2.06-.94L8.5 2.5l-.94 2.06-2.06.94zm10 10l.94 2.06.94-2.06 2.06-.94-2.06-.94-.94-2.06-.94 2.06-2.06.94z\"/><path d=\"M17.41 7.96l-1.37-1.37c-.4-.4-.92-.59-1.43-.59-.52 0-1.04.2-1.43.59L10.3 9.45l-7.72 7.72c-.78.78-.78 2.05 0 2.83L4 21.41c.39.39.9.59 1.41.59.51 0 1.02-.2 1.41-.59l7.78-7.78 2.81-2.81c.8-.78.8-2.07 0-2.86zM5.41 20L4 18.59l7.72-7.72 1.47 1.35L5.41 20z\"/>\n",
              "  </svg>\n",
              "      </button>\n",
              "      \n",
              "  <style>\n",
              "    .colab-df-container {\n",
              "      display:flex;\n",
              "      flex-wrap:wrap;\n",
              "      gap: 12px;\n",
              "    }\n",
              "\n",
              "    .colab-df-convert {\n",
              "      background-color: #E8F0FE;\n",
              "      border: none;\n",
              "      border-radius: 50%;\n",
              "      cursor: pointer;\n",
              "      display: none;\n",
              "      fill: #1967D2;\n",
              "      height: 32px;\n",
              "      padding: 0 0 0 0;\n",
              "      width: 32px;\n",
              "    }\n",
              "\n",
              "    .colab-df-convert:hover {\n",
              "      background-color: #E2EBFA;\n",
              "      box-shadow: 0px 1px 2px rgba(60, 64, 67, 0.3), 0px 1px 3px 1px rgba(60, 64, 67, 0.15);\n",
              "      fill: #174EA6;\n",
              "    }\n",
              "\n",
              "    [theme=dark] .colab-df-convert {\n",
              "      background-color: #3B4455;\n",
              "      fill: #D2E3FC;\n",
              "    }\n",
              "\n",
              "    [theme=dark] .colab-df-convert:hover {\n",
              "      background-color: #434B5C;\n",
              "      box-shadow: 0px 1px 3px 1px rgba(0, 0, 0, 0.15);\n",
              "      filter: drop-shadow(0px 1px 2px rgba(0, 0, 0, 0.3));\n",
              "      fill: #FFFFFF;\n",
              "    }\n",
              "  </style>\n",
              "\n",
              "      <script>\n",
              "        const buttonEl =\n",
              "          document.querySelector('#df-ffb1f3f4-0077-43b2-be4e-9a0cd40e6866 button.colab-df-convert');\n",
              "        buttonEl.style.display =\n",
              "          google.colab.kernel.accessAllowed ? 'block' : 'none';\n",
              "\n",
              "        async function convertToInteractive(key) {\n",
              "          const element = document.querySelector('#df-ffb1f3f4-0077-43b2-be4e-9a0cd40e6866');\n",
              "          const dataTable =\n",
              "            await google.colab.kernel.invokeFunction('convertToInteractive',\n",
              "                                                     [key], {});\n",
              "          if (!dataTable) return;\n",
              "\n",
              "          const docLinkHtml = 'Like what you see? Visit the ' +\n",
              "            '<a target=\"_blank\" href=https://colab.research.google.com/notebooks/data_table.ipynb>data table notebook</a>'\n",
              "            + ' to learn more about interactive tables.';\n",
              "          element.innerHTML = '';\n",
              "          dataTable['output_type'] = 'display_data';\n",
              "          await google.colab.output.renderOutput(dataTable, element);\n",
              "          const docLink = document.createElement('div');\n",
              "          docLink.innerHTML = docLinkHtml;\n",
              "          element.appendChild(docLink);\n",
              "        }\n",
              "      </script>\n",
              "    </div>\n",
              "  </div>\n",
              "  "
            ],
            "text/plain": [
              "      price     LSTAT    LSTAT2  ...    LSTAT8    LSTAT9   LSTAT10\n",
              "0  0.159686 -1.075562 -0.789529  ... -0.201158 -0.177781 -0.159536\n",
              "1 -0.101524 -0.492439 -0.540454  ... -0.201008 -0.177742 -0.159526\n",
              "2  1.324247 -1.208727 -0.825825  ... -0.201159 -0.177781 -0.159536\n",
              "3  1.182758 -1.361517 -0.858040  ... -0.201159 -0.177781 -0.159536\n",
              "4  1.487503 -1.026501 -0.774228  ... -0.201157 -0.177781 -0.159536\n",
              "\n",
              "[5 rows x 11 columns]"
            ]
          },
          "metadata": {},
          "execution_count": 12
        }
      ]
    },
    {
      "cell_type": "code",
      "source": [
        "sns.scatterplot(x='LSTAT', y='price', data=df_sc)\n",
        "plt.show()"
      ],
      "metadata": {
        "colab": {
          "base_uri": "https://localhost:8080/",
          "height": 285
        },
        "id": "cmJ02TpF-FK5",
        "outputId": "59fb1a30-2491-4a6b-9973-9995e6073803"
      },
      "execution_count": 16,
      "outputs": [
        {
          "output_type": "display_data",
          "data": {
            "image/png": "[encoded data removed]",
            "text/plain": [
              "<Figure size 432x288 with 1 Axes>"
            ]
          },
          "metadata": {
            "needs_background": "light"
          }
        }
      ]
    },
    {
      "cell_type": "markdown",
      "metadata": {
        "id": "XmAwRBqV52hW"
      },
      "source": [
        "# Q2. Splitting the data (train / test)\n",
        "test_size=0.2, random_state=rand_state"
      ]
    },
    {
      "cell_type": "code",
      "execution_count": 20,
      "metadata": {
        "colab": {
          "base_uri": "https://localhost:8080/",
          "height": 206
        },
        "id": "VEiQykPX52hW",
        "outputId": "74e286c2-4312-4a2a-9146-0b5bc0e3ce94"
      },
      "outputs": [
        {
          "output_type": "execute_result",
          "data": {
            "text/html": [
              "\n",
              "  <div id=\"df-feb44d70-e4f0-4f8e-874c-913b319fd5f3\">\n",
              "    <div class=\"colab-df-container\">\n",
              "      <div>\n",
              "<style scoped>\n",
              "    .dataframe tbody tr th:only-of-type {\n",
              "        vertical-align: middle;\n",
              "    }\n",
              "\n",
              "    .dataframe tbody tr th {\n",
              "        vertical-align: top;\n",
              "    }\n",
              "\n",
              "    .dataframe thead th {\n",
              "        text-align: right;\n",
              "    }\n",
              "</style>\n",
              "<table border=\"1\" class=\"dataframe\">\n",
              "  <thead>\n",
              "    <tr style=\"text-align: right;\">\n",
              "      <th></th>\n",
              "      <th>LSTAT</th>\n",
              "      <th>LSTAT2</th>\n",
              "      <th>LSTAT3</th>\n",
              "      <th>LSTAT4</th>\n",
              "      <th>LSTAT5</th>\n",
              "      <th>LSTAT6</th>\n",
              "      <th>LSTAT7</th>\n",
              "      <th>LSTAT8</th>\n",
              "      <th>LSTAT9</th>\n",
              "      <th>LSTAT10</th>\n",
              "    </tr>\n",
              "  </thead>\n",
              "  <tbody>\n",
              "    <tr>\n",
              "      <th>300</th>\n",
              "      <td>-0.922773</td>\n",
              "      <td>-0.738456</td>\n",
              "      <td>-0.554782</td>\n",
              "      <td>-0.422166</td>\n",
              "      <td>-0.333671</td>\n",
              "      <td>-0.273926</td>\n",
              "      <td>-0.231935</td>\n",
              "      <td>-0.201154</td>\n",
              "      <td>-0.177780</td>\n",
              "      <td>-0.159536</td>\n",
              "    </tr>\n",
              "    <tr>\n",
              "      <th>32</th>\n",
              "      <td>2.110588</td>\n",
              "      <td>2.361250</td>\n",
              "      <td>2.320551</td>\n",
              "      <td>2.091900</td>\n",
              "      <td>1.778692</td>\n",
              "      <td>1.449896</td>\n",
              "      <td>1.143940</td>\n",
              "      <td>0.878417</td>\n",
              "      <td>0.658205</td>\n",
              "      <td>0.481244</td>\n",
              "    </tr>\n",
              "    <tr>\n",
              "      <th>181</th>\n",
              "      <td>-0.448985</td>\n",
              "      <td>-0.516017</td>\n",
              "      <td>-0.470071</td>\n",
              "      <td>-0.393883</td>\n",
              "      <td>-0.324988</td>\n",
              "      <td>-0.271404</td>\n",
              "      <td>-0.231230</td>\n",
              "      <td>-0.200962</td>\n",
              "      <td>-0.177729</td>\n",
              "      <td>-0.159522</td>\n",
              "    </tr>\n",
              "    <tr>\n",
              "      <th>272</th>\n",
              "      <td>-0.690084</td>\n",
              "      <td>-0.641318</td>\n",
              "      <td>-0.522245</td>\n",
              "      <td>-0.412708</td>\n",
              "      <td>-0.331167</td>\n",
              "      <td>-0.273304</td>\n",
              "      <td>-0.231787</td>\n",
              "      <td>-0.201120</td>\n",
              "      <td>-0.177772</td>\n",
              "      <td>-0.159534</td>\n",
              "    </tr>\n",
              "    <tr>\n",
              "      <th>477</th>\n",
              "      <td>1.718101</td>\n",
              "      <td>1.736491</td>\n",
              "      <td>1.525676</td>\n",
              "      <td>1.217641</td>\n",
              "      <td>0.905982</td>\n",
              "      <td>0.635721</td>\n",
              "      <td>0.420786</td>\n",
              "      <td>0.259256</td>\n",
              "      <td>0.142724</td>\n",
              "      <td>0.061306</td>\n",
              "    </tr>\n",
              "  </tbody>\n",
              "</table>\n",
              "</div>\n",
              "      <button class=\"colab-df-convert\" onclick=\"convertToInteractive('df-feb44d70-e4f0-4f8e-874c-913b319fd5f3')\"\n",
              "              title=\"Convert this dataframe to an interactive table.\"\n",
              "              style=\"display:none;\">\n",
              "        \n",
              "  <svg xmlns=\"http://www.w3.org/2000/svg\" height=\"24px\"viewBox=\"0 0 24 24\"\n",
              "       width=\"24px\">\n",
              "    <path d=\"M0 0h24v24H0V0z\" fill=\"none\"/>\n",
              "    <path d=\"M18.56 5.44l.94 2.06.94-2.06 2.06-.94-2.06-.94-.94-2.06-.94 2.06-2.06.94zm-11 1L8.5 8.5l.94-2.06 2.06-.94-2.06-.94L8.5 2.5l-.94 2.06-2.06.94zm10 10l.94 2.06.94-2.06 2.06-.94-2.06-.94-.94-2.06-.94 2.06-2.06.94z\"/><path d=\"M17.41 7.96l-1.37-1.37c-.4-.4-.92-.59-1.43-.59-.52 0-1.04.2-1.43.59L10.3 9.45l-7.72 7.72c-.78.78-.78 2.05 0 2.83L4 21.41c.39.39.9.59 1.41.59.51 0 1.02-.2 1.41-.59l7.78-7.78 2.81-2.81c.8-.78.8-2.07 0-2.86zM5.41 20L4 18.59l7.72-7.72 1.47 1.35L5.41 20z\"/>\n",
              "  </svg>\n",
              "      </button>\n",
              "      \n",
              "  <style>\n",
              "    .colab-df-container {\n",
              "      display:flex;\n",
              "      flex-wrap:wrap;\n",
              "      gap: 12px;\n",
              "    }\n",
              "\n",
              "    .colab-df-convert {\n",
              "      background-color: #E8F0FE;\n",
              "      border: none;\n",
              "      border-radius: 50%;\n",
              "      cursor: pointer;\n",
              "      display: none;\n",
              "      fill: #1967D2;\n",
              "      height: 32px;\n",
              "      padding: 0 0 0 0;\n",
              "      width: 32px;\n",
              "    }\n",
              "\n",
              "    .colab-df-convert:hover {\n",
              "      background-color: #E2EBFA;\n",
              "      box-shadow: 0px 1px 2px rgba(60, 64, 67, 0.3), 0px 1px 3px 1px rgba(60, 64, 67, 0.15);\n",
              "      fill: #174EA6;\n",
              "    }\n",
              "\n",
              "    [theme=dark] .colab-df-convert {\n",
              "      background-color: #3B4455;\n",
              "      fill: #D2E3FC;\n",
              "    }\n",
              "\n",
              "    [theme=dark] .colab-df-convert:hover {\n",
              "      background-color: #434B5C;\n",
              "      box-shadow: 0px 1px 3px 1px rgba(0, 0, 0, 0.15);\n",
              "      filter: drop-shadow(0px 1px 2px rgba(0, 0, 0, 0.3));\n",
              "      fill: #FFFFFF;\n",
              "    }\n",
              "  </style>\n",
              "\n",
              "      <script>\n",
              "        const buttonEl =\n",
              "          document.querySelector('#df-feb44d70-e4f0-4f8e-874c-913b319fd5f3 button.colab-df-convert');\n",
              "        buttonEl.style.display =\n",
              "          google.colab.kernel.accessAllowed ? 'block' : 'none';\n",
              "\n",
              "        async function convertToInteractive(key) {\n",
              "          const element = document.querySelector('#df-feb44d70-e4f0-4f8e-874c-913b319fd5f3');\n",
              "          const dataTable =\n",
              "            await google.colab.kernel.invokeFunction('convertToInteractive',\n",
              "                                                     [key], {});\n",
              "          if (!dataTable) return;\n",
              "\n",
              "          const docLinkHtml = 'Like what you see? Visit the ' +\n",
              "            '<a target=\"_blank\" href=https://colab.research.google.com/notebooks/data_table.ipynb>data table notebook</a>'\n",
              "            + ' to learn more about interactive tables.';\n",
              "          element.innerHTML = '';\n",
              "          dataTable['output_type'] = 'display_data';\n",
              "          await google.colab.output.renderOutput(dataTable, element);\n",
              "          const docLink = document.createElement('div');\n",
              "          docLink.innerHTML = docLinkHtml;\n",
              "          element.appendChild(docLink);\n",
              "        }\n",
              "      </script>\n",
              "    </div>\n",
              "  </div>\n",
              "  "
            ],
            "text/plain": [
              "        LSTAT    LSTAT2    LSTAT3  ...    LSTAT8    LSTAT9   LSTAT10\n",
              "300 -0.922773 -0.738456 -0.554782  ... -0.201154 -0.177780 -0.159536\n",
              "32   2.110588  2.361250  2.320551  ...  0.878417  0.658205  0.481244\n",
              "181 -0.448985 -0.516017 -0.470071  ... -0.200962 -0.177729 -0.159522\n",
              "272 -0.690084 -0.641318 -0.522245  ... -0.201120 -0.177772 -0.159534\n",
              "477  1.718101  1.736491  1.525676  ...  0.259256  0.142724  0.061306\n",
              "\n",
              "[5 rows x 10 columns]"
            ]
          },
          "metadata": {},
          "execution_count": 20
        }
      ],
      "source": [
        "y = df_sc['price']\n",
        "X = df_sc.drop('price', axis=1)\n",
        "\n",
        "from sklearn.model_selection import train_test_split\n",
        "X_train, X_test, y_train, y_test = train_test_split(X, y, test_size=0.2, random_state=rand_state)\n",
        "X_train.head()\n"
      ]
    },
    {
      "cell_type": "code",
      "source": [
        "X_test_wc = sm.add_constant(X_test)\n",
        "X_train_wc = sm.add_constant(X_train)"
      ],
      "metadata": {
        "id": "ISnRmU85A0tT"
      },
      "execution_count": 21,
      "outputs": []
    },
    {
      "cell_type": "code",
      "source": [
        "model = sm.OLS(y_train, X_train_wc).fit()\n",
        "model.summary()"
      ],
      "metadata": {
        "colab": {
          "base_uri": "https://localhost:8080/",
          "height": 679
        },
        "id": "GigWdoU7A0rV",
        "outputId": "0cb5ded2-d8b8-4b8d-bab4-d64b91c50b07"
      },
      "execution_count": 23,
      "outputs": [
        {
          "output_type": "execute_result",
          "data": {
            "text/html": [
              "<table class=\"simpletable\">\n",
              "<caption>OLS Regression Results</caption>\n",
              "<tr>\n",
              "  <th>Dep. Variable:</th>          <td>price</td>      <th>  R-squared:         </th> <td>   0.677</td>\n",
              "</tr>\n",
              "<tr>\n",
              "  <th>Model:</th>                   <td>OLS</td>       <th>  Adj. R-squared:    </th> <td>   0.669</td>\n",
              "</tr>\n",
              "<tr>\n",
              "  <th>Method:</th>             <td>Least Squares</td>  <th>  F-statistic:       </th> <td>   82.44</td>\n",
              "</tr>\n",
              "<tr>\n",
              "  <th>Date:</th>             <td>Mon, 10 Jan 2022</td> <th>  Prob (F-statistic):</th> <td>4.51e-90</td>\n",
              "</tr>\n",
              "<tr>\n",
              "  <th>Time:</th>                 <td>08:04:33</td>     <th>  Log-Likelihood:    </th> <td> -344.23</td>\n",
              "</tr>\n",
              "<tr>\n",
              "  <th>No. Observations:</th>      <td>   404</td>      <th>  AIC:               </th> <td>   710.5</td>\n",
              "</tr>\n",
              "<tr>\n",
              "  <th>Df Residuals:</th>          <td>   393</td>      <th>  BIC:               </th> <td>   754.5</td>\n",
              "</tr>\n",
              "<tr>\n",
              "  <th>Df Model:</th>              <td>    10</td>      <th>                     </th>     <td> </td>   \n",
              "</tr>\n",
              "<tr>\n",
              "  <th>Covariance Type:</th>      <td>nonrobust</td>    <th>                     </th>     <td> </td>   \n",
              "</tr>\n",
              "</table>\n",
              "<table class=\"simpletable\">\n",
              "<tr>\n",
              "     <td></td>        <th>coef</th>     <th>std err</th>      <th>t</th>      <th>P>|t|</th>  <th>[0.025</th>    <th>0.975]</th>  \n",
              "</tr>\n",
              "<tr>\n",
              "  <th>const</th>   <td>    0.0120</td> <td>    0.029</td> <td>    0.417</td> <td> 0.677</td> <td>   -0.044</td> <td>    0.068</td>\n",
              "</tr>\n",
              "<tr>\n",
              "  <th>LSTAT</th>   <td>   10.4856</td> <td>   14.789</td> <td>    0.709</td> <td> 0.479</td> <td>  -18.591</td> <td>   39.562</td>\n",
              "</tr>\n",
              "<tr>\n",
              "  <th>LSTAT2</th>  <td> -198.4474</td> <td>  183.865</td> <td>   -1.079</td> <td> 0.281</td> <td> -559.929</td> <td>  163.035</td>\n",
              "</tr>\n",
              "<tr>\n",
              "  <th>LSTAT3</th>  <td> 1218.5360</td> <td> 1157.209</td> <td>    1.053</td> <td> 0.293</td> <td>-1056.559</td> <td> 3493.631</td>\n",
              "</tr>\n",
              "<tr>\n",
              "  <th>LSTAT4</th>  <td>-4039.5201</td> <td> 4549.147</td> <td>   -0.888</td> <td> 0.375</td> <td> -1.3e+04</td> <td> 4904.187</td>\n",
              "</tr>\n",
              "<tr>\n",
              "  <th>LSTAT5</th>  <td> 8029.8874</td> <td> 1.19e+04</td> <td>    0.675</td> <td> 0.500</td> <td>-1.54e+04</td> <td> 3.14e+04</td>\n",
              "</tr>\n",
              "<tr>\n",
              "  <th>LSTAT6</th>  <td>-9630.6577</td> <td> 2.11e+04</td> <td>   -0.456</td> <td> 0.649</td> <td>-5.11e+04</td> <td> 3.19e+04</td>\n",
              "</tr>\n",
              "<tr>\n",
              "  <th>LSTAT7</th>  <td> 6399.3109</td> <td> 2.51e+04</td> <td>    0.255</td> <td> 0.799</td> <td> -4.3e+04</td> <td> 5.58e+04</td>\n",
              "</tr>\n",
              "<tr>\n",
              "  <th>LSTAT8</th>  <td>-1554.6344</td> <td> 1.92e+04</td> <td>   -0.081</td> <td> 0.935</td> <td>-3.93e+04</td> <td> 3.62e+04</td>\n",
              "</tr>\n",
              "<tr>\n",
              "  <th>LSTAT9</th>  <td> -523.9209</td> <td> 8485.139</td> <td>   -0.062</td> <td> 0.951</td> <td>-1.72e+04</td> <td> 1.62e+04</td>\n",
              "</tr>\n",
              "<tr>\n",
              "  <th>LSTAT10</th> <td>  288.1740</td> <td> 1645.665</td> <td>    0.175</td> <td> 0.861</td> <td>-2947.235</td> <td> 3523.583</td>\n",
              "</tr>\n",
              "</table>\n",
              "<table class=\"simpletable\">\n",
              "<tr>\n",
              "  <th>Omnibus:</th>       <td>106.759</td> <th>  Durbin-Watson:     </th> <td>   1.957</td>\n",
              "</tr>\n",
              "<tr>\n",
              "  <th>Prob(Omnibus):</th> <td> 0.000</td>  <th>  Jarque-Bera (JB):  </th> <td> 319.634</td>\n",
              "</tr>\n",
              "<tr>\n",
              "  <th>Skew:</th>          <td> 1.217</td>  <th>  Prob(JB):          </th> <td>3.91e-70</td>\n",
              "</tr>\n",
              "<tr>\n",
              "  <th>Kurtosis:</th>      <td> 6.614</td>  <th>  Cond. No.          </th> <td>4.56e+06</td>\n",
              "</tr>\n",
              "</table><br/><br/>Warnings:<br/>[1] Standard Errors assume that the covariance matrix of the errors is correctly specified.<br/>[2] The condition number is large, 4.56e+06. This might indicate that there are<br/>strong multicollinearity or other numerical problems."
            ],
            "text/plain": [
              "<class 'statsmodels.iolib.summary.Summary'>\n",
              "\"\"\"\n",
              "                            OLS Regression Results                            \n",
              "==============================================================================\n",
              "Dep. Variable:                  price   R-squared:                       0.677\n",
              "Model:                            OLS   Adj. R-squared:                  0.669\n",
              "Method:                 Least Squares   F-statistic:                     82.44\n",
              "Date:                Mon, 10 Jan 2022   Prob (F-statistic):           4.51e-90\n",
              "Time:                        08:04:33   Log-Likelihood:                -344.23\n",
              "No. Observations:                 404   AIC:                             710.5\n",
              "Df Residuals:                     393   BIC:                             754.5\n",
              "Df Model:                          10                                         \n",
              "Covariance Type:            nonrobust                                         \n",
              "==============================================================================\n",
              "                 coef    std err          t      P>|t|      [0.025      0.975]\n",
              "------------------------------------------------------------------------------\n",
              "const          0.0120      0.029      0.417      0.677      -0.044       0.068\n",
              "LSTAT         10.4856     14.789      0.709      0.479     -18.591      39.562\n",
              "LSTAT2      -198.4474    183.865     -1.079      0.281    -559.929     163.035\n",
              "LSTAT3      1218.5360   1157.209      1.053      0.293   -1056.559    3493.631\n",
              "LSTAT4     -4039.5201   4549.147     -0.888      0.375    -1.3e+04    4904.187\n",
              "LSTAT5      8029.8874   1.19e+04      0.675      0.500   -1.54e+04    3.14e+04\n",
              "LSTAT6     -9630.6577   2.11e+04     -0.456      0.649   -5.11e+04    3.19e+04\n",
              "LSTAT7      6399.3109   2.51e+04      0.255      0.799    -4.3e+04    5.58e+04\n",
              "LSTAT8     -1554.6344   1.92e+04     -0.081      0.935   -3.93e+04    3.62e+04\n",
              "LSTAT9      -523.9209   8485.139     -0.062      0.951   -1.72e+04    1.62e+04\n",
              "LSTAT10      288.1740   1645.665      0.175      0.861   -2947.235    3523.583\n",
              "==============================================================================\n",
              "Omnibus:                      106.759   Durbin-Watson:                   1.957\n",
              "Prob(Omnibus):                  0.000   Jarque-Bera (JB):              319.634\n",
              "Skew:                           1.217   Prob(JB):                     3.91e-70\n",
              "Kurtosis:                       6.614   Cond. No.                     4.56e+06\n",
              "==============================================================================\n",
              "\n",
              "Warnings:\n",
              "[1] Standard Errors assume that the covariance matrix of the errors is correctly specified.\n",
              "[2] The condition number is large, 4.56e+06. This might indicate that there are\n",
              "strong multicollinearity or other numerical problems.\n",
              "\"\"\""
            ]
          },
          "metadata": {},
          "execution_count": 23
        }
      ]
    },
    {
      "cell_type": "markdown",
      "metadata": {
        "id": "dE_qa0nE52hW"
      },
      "source": [
        "# Q3. Training the models"
      ]
    },
    {
      "cell_type": "markdown",
      "metadata": {
        "id": "8wfCkMrZ52hW"
      },
      "source": [
        "1. Linear regression (model_linear)\n",
        "2. Ridge regression (model_ridge)\n",
        "3. Lasso regression (model_lasso)\n",
        "4. Elastic Net regression (model_net)"
      ]
    },
    {
      "cell_type": "code",
      "execution_count": 24,
      "metadata": {
        "id": "wQa1mEws52hW"
      },
      "outputs": [],
      "source": [
        "from sklearn.linear_model import LinearRegression, Ridge,RidgeCV, Lasso, LassoCV, ElasticNet, ElasticNetCV"
      ]
    },
    {
      "cell_type": "code",
      "execution_count": 26,
      "metadata": {
        "id": "NfLhqoYp52hX"
      },
      "outputs": [],
      "source": [
        "# starting with default parameters:\n",
        "model_linear = LinearRegression()\n",
        "model_ridge = Ridge()\n",
        "model_lasso = Lasso()\n",
        "model_net = ElasticNet()"
      ]
    },
    {
      "cell_type": "code",
      "execution_count": 27,
      "metadata": {
        "id": "DG_b3AJl52hX"
      },
      "outputs": [],
      "source": [
        "y_hat_linear= model_linear.fit(X_train, y_train).predict(X_test)\n",
        "y_hat_ridge = model_ridge.fit(X_train, y_train).predict(X_test)\n",
        "y_hat_lasso = model_lasso.fit(X_train, y_train).predict(X_test)\n",
        "y_hat_net   = model_net.fit(X_train, y_train).predict(X_test)"
      ]
    },
    {
      "cell_type": "code",
      "source": [
        "df_predictions = pd.DataFrame({'y_test':y_test,\n",
        "                               'y_hat_linear':y_hat_linear,\n",
        "                               'y_hat_ridge':y_hat_ridge,\n",
        "                               'y_hat_lasso':y_hat_lasso,\n",
        "                               'y_hat_net':y_hat_net})\n",
        "df_predictions.head()"
      ],
      "metadata": {
        "colab": {
          "base_uri": "https://localhost:8080/",
          "height": 206
        },
        "id": "PPaNRo72CNy2",
        "outputId": "92cb3dd8-0ad3-4596-eca3-58976a59b070"
      },
      "execution_count": 29,
      "outputs": [
        {
          "output_type": "execute_result",
          "data": {
            "text/html": [
              "\n",
              "  <div id=\"df-e4c4a7c4-799f-43c4-aec3-d985d698477b\">\n",
              "    <div class=\"colab-df-container\">\n",
              "      <div>\n",
              "<style scoped>\n",
              "    .dataframe tbody tr th:only-of-type {\n",
              "        vertical-align: middle;\n",
              "    }\n",
              "\n",
              "    .dataframe tbody tr th {\n",
              "        vertical-align: top;\n",
              "    }\n",
              "\n",
              "    .dataframe thead th {\n",
              "        text-align: right;\n",
              "    }\n",
              "</style>\n",
              "<table border=\"1\" class=\"dataframe\">\n",
              "  <thead>\n",
              "    <tr style=\"text-align: right;\">\n",
              "      <th></th>\n",
              "      <th>y_test</th>\n",
              "      <th>y_hat_linear</th>\n",
              "      <th>y_hat_ridge</th>\n",
              "      <th>y_hat_lasso</th>\n",
              "      <th>y_hat_net</th>\n",
              "    </tr>\n",
              "  </thead>\n",
              "  <tbody>\n",
              "    <tr>\n",
              "      <th>483</th>\n",
              "      <td>-0.079757</td>\n",
              "      <td>-0.019459</td>\n",
              "      <td>0.029108</td>\n",
              "      <td>0.009199</td>\n",
              "      <td>0.059533</td>\n",
              "    </tr>\n",
              "    <tr>\n",
              "      <th>426</th>\n",
              "      <td>-1.342272</td>\n",
              "      <td>-0.480570</td>\n",
              "      <td>-0.589703</td>\n",
              "      <td>0.009199</td>\n",
              "      <td>-0.054729</td>\n",
              "    </tr>\n",
              "    <tr>\n",
              "      <th>22</th>\n",
              "      <td>-0.798084</td>\n",
              "      <td>-0.736176</td>\n",
              "      <td>-0.786380</td>\n",
              "      <td>0.009199</td>\n",
              "      <td>-0.120425</td>\n",
              "    </tr>\n",
              "    <tr>\n",
              "      <th>268</th>\n",
              "      <td>2.282016</td>\n",
              "      <td>2.053967</td>\n",
              "      <td>1.495823</td>\n",
              "      <td>0.009199</td>\n",
              "      <td>0.216942</td>\n",
              "    </tr>\n",
              "    <tr>\n",
              "      <th>371</th>\n",
              "      <td>2.989460</td>\n",
              "      <td>0.041490</td>\n",
              "      <td>0.171371</td>\n",
              "      <td>0.009199</td>\n",
              "      <td>0.078830</td>\n",
              "    </tr>\n",
              "  </tbody>\n",
              "</table>\n",
              "</div>\n",
              "      <button class=\"colab-df-convert\" onclick=\"convertToInteractive('df-e4c4a7c4-799f-43c4-aec3-d985d698477b')\"\n",
              "              title=\"Convert this dataframe to an interactive table.\"\n",
              "              style=\"display:none;\">\n",
              "        \n",
              "  <svg xmlns=\"http://www.w3.org/2000/svg\" height=\"24px\"viewBox=\"0 0 24 24\"\n",
              "       width=\"24px\">\n",
              "    <path d=\"M0 0h24v24H0V0z\" fill=\"none\"/>\n",
              "    <path d=\"M18.56 5.44l.94 2.06.94-2.06 2.06-.94-2.06-.94-.94-2.06-.94 2.06-2.06.94zm-11 1L8.5 8.5l.94-2.06 2.06-.94-2.06-.94L8.5 2.5l-.94 2.06-2.06.94zm10 10l.94 2.06.94-2.06 2.06-.94-2.06-.94-.94-2.06-.94 2.06-2.06.94z\"/><path d=\"M17.41 7.96l-1.37-1.37c-.4-.4-.92-.59-1.43-.59-.52 0-1.04.2-1.43.59L10.3 9.45l-7.72 7.72c-.78.78-.78 2.05 0 2.83L4 21.41c.39.39.9.59 1.41.59.51 0 1.02-.2 1.41-.59l7.78-7.78 2.81-2.81c.8-.78.8-2.07 0-2.86zM5.41 20L4 18.59l7.72-7.72 1.47 1.35L5.41 20z\"/>\n",
              "  </svg>\n",
              "      </button>\n",
              "      \n",
              "  <style>\n",
              "    .colab-df-container {\n",
              "      display:flex;\n",
              "      flex-wrap:wrap;\n",
              "      gap: 12px;\n",
              "    }\n",
              "\n",
              "    .colab-df-convert {\n",
              "      background-color: #E8F0FE;\n",
              "      border: none;\n",
              "      border-radius: 50%;\n",
              "      cursor: pointer;\n",
              "      display: none;\n",
              "      fill: #1967D2;\n",
              "      height: 32px;\n",
              "      padding: 0 0 0 0;\n",
              "      width: 32px;\n",
              "    }\n",
              "\n",
              "    .colab-df-convert:hover {\n",
              "      background-color: #E2EBFA;\n",
              "      box-shadow: 0px 1px 2px rgba(60, 64, 67, 0.3), 0px 1px 3px 1px rgba(60, 64, 67, 0.15);\n",
              "      fill: #174EA6;\n",
              "    }\n",
              "\n",
              "    [theme=dark] .colab-df-convert {\n",
              "      background-color: #3B4455;\n",
              "      fill: #D2E3FC;\n",
              "    }\n",
              "\n",
              "    [theme=dark] .colab-df-convert:hover {\n",
              "      background-color: #434B5C;\n",
              "      box-shadow: 0px 1px 3px 1px rgba(0, 0, 0, 0.15);\n",
              "      filter: drop-shadow(0px 1px 2px rgba(0, 0, 0, 0.3));\n",
              "      fill: #FFFFFF;\n",
              "    }\n",
              "  </style>\n",
              "\n",
              "      <script>\n",
              "        const buttonEl =\n",
              "          document.querySelector('#df-e4c4a7c4-799f-43c4-aec3-d985d698477b button.colab-df-convert');\n",
              "        buttonEl.style.display =\n",
              "          google.colab.kernel.accessAllowed ? 'block' : 'none';\n",
              "\n",
              "        async function convertToInteractive(key) {\n",
              "          const element = document.querySelector('#df-e4c4a7c4-799f-43c4-aec3-d985d698477b');\n",
              "          const dataTable =\n",
              "            await google.colab.kernel.invokeFunction('convertToInteractive',\n",
              "                                                     [key], {});\n",
              "          if (!dataTable) return;\n",
              "\n",
              "          const docLinkHtml = 'Like what you see? Visit the ' +\n",
              "            '<a target=\"_blank\" href=https://colab.research.google.com/notebooks/data_table.ipynb>data table notebook</a>'\n",
              "            + ' to learn more about interactive tables.';\n",
              "          element.innerHTML = '';\n",
              "          dataTable['output_type'] = 'display_data';\n",
              "          await google.colab.output.renderOutput(dataTable, element);\n",
              "          const docLink = document.createElement('div');\n",
              "          docLink.innerHTML = docLinkHtml;\n",
              "          element.appendChild(docLink);\n",
              "        }\n",
              "      </script>\n",
              "    </div>\n",
              "  </div>\n",
              "  "
            ],
            "text/plain": [
              "       y_test  y_hat_linear  y_hat_ridge  y_hat_lasso  y_hat_net\n",
              "483 -0.079757     -0.019459     0.029108     0.009199   0.059533\n",
              "426 -1.342272     -0.480570    -0.589703     0.009199  -0.054729\n",
              "22  -0.798084     -0.736176    -0.786380     0.009199  -0.120425\n",
              "268  2.282016      2.053967     1.495823     0.009199   0.216942\n",
              "371  2.989460      0.041490     0.171371     0.009199   0.078830"
            ]
          },
          "metadata": {},
          "execution_count": 29
        }
      ]
    },
    {
      "cell_type": "code",
      "source": [
        "df.drop('price', axis=1, inplace=False).columns"
      ],
      "metadata": {
        "colab": {
          "base_uri": "https://localhost:8080/"
        },
        "id": "XbnKBzxdEJDD",
        "outputId": "06f198f4-3c98-4a2f-fd4c-b113d2bd5728"
      },
      "execution_count": 32,
      "outputs": [
        {
          "output_type": "execute_result",
          "data": {
            "text/plain": [
              "Index(['LSTAT', 'LSTAT2', 'LSTAT3', 'LSTAT4', 'LSTAT5', 'LSTAT6', 'LSTAT7',\n",
              "       'LSTAT8', 'LSTAT9', 'LSTAT10'],\n",
              "      dtype='object')"
            ]
          },
          "metadata": {},
          "execution_count": 32
        }
      ]
    },
    {
      "cell_type": "code",
      "source": [
        "coefficients = pd.DataFrame({'Features':df.drop('price', axis=1, inplace=False).columns})\n",
        "coefficients['model_lin'] = model_linear.coef_\n",
        "coefficients['model_ridge'] = model_ridge.coef_\n",
        "coefficients['model_lasso'] = model_lasso.coef_\n",
        "coefficients['model_net'] = model_net.coef_\n",
        "coefficients\n"
      ],
      "metadata": {
        "colab": {
          "base_uri": "https://localhost:8080/",
          "height": 363
        },
        "id": "FNYenkUfEWjy",
        "outputId": "167ce3b7-5a43-4141-a96e-9d5615257f62"
      },
      "execution_count": 36,
      "outputs": [
        {
          "output_type": "execute_result",
          "data": {
            "text/html": [
              "\n",
              "  <div id=\"df-22d2105d-2103-41a5-a732-15d6a1adda58\">\n",
              "    <div class=\"colab-df-container\">\n",
              "      <div>\n",
              "<style scoped>\n",
              "    .dataframe tbody tr th:only-of-type {\n",
              "        vertical-align: middle;\n",
              "    }\n",
              "\n",
              "    .dataframe tbody tr th {\n",
              "        vertical-align: top;\n",
              "    }\n",
              "\n",
              "    .dataframe thead th {\n",
              "        text-align: right;\n",
              "    }\n",
              "</style>\n",
              "<table border=\"1\" class=\"dataframe\">\n",
              "  <thead>\n",
              "    <tr style=\"text-align: right;\">\n",
              "      <th></th>\n",
              "      <th>Features</th>\n",
              "      <th>model_lin</th>\n",
              "      <th>model_ridge</th>\n",
              "      <th>model_lasso</th>\n",
              "      <th>model_net</th>\n",
              "    </tr>\n",
              "  </thead>\n",
              "  <tbody>\n",
              "    <tr>\n",
              "      <th>0</th>\n",
              "      <td>LSTAT</td>\n",
              "      <td>10.485596</td>\n",
              "      <td>-1.997427</td>\n",
              "      <td>-0.0</td>\n",
              "      <td>-0.154677</td>\n",
              "    </tr>\n",
              "    <tr>\n",
              "      <th>1</th>\n",
              "      <td>LSTAT2</td>\n",
              "      <td>-198.447363</td>\n",
              "      <td>1.120503</td>\n",
              "      <td>-0.0</td>\n",
              "      <td>-0.000000</td>\n",
              "    </tr>\n",
              "    <tr>\n",
              "      <th>2</th>\n",
              "      <td>LSTAT3</td>\n",
              "      <td>1218.536028</td>\n",
              "      <td>0.705506</td>\n",
              "      <td>-0.0</td>\n",
              "      <td>-0.000000</td>\n",
              "    </tr>\n",
              "    <tr>\n",
              "      <th>3</th>\n",
              "      <td>LSTAT4</td>\n",
              "      <td>-4039.520112</td>\n",
              "      <td>-0.029523</td>\n",
              "      <td>-0.0</td>\n",
              "      <td>-0.000000</td>\n",
              "    </tr>\n",
              "    <tr>\n",
              "      <th>4</th>\n",
              "      <td>LSTAT5</td>\n",
              "      <td>8029.887428</td>\n",
              "      <td>-0.331986</td>\n",
              "      <td>-0.0</td>\n",
              "      <td>-0.000000</td>\n",
              "    </tr>\n",
              "    <tr>\n",
              "      <th>5</th>\n",
              "      <td>LSTAT6</td>\n",
              "      <td>-9630.657680</td>\n",
              "      <td>-0.305169</td>\n",
              "      <td>-0.0</td>\n",
              "      <td>-0.000000</td>\n",
              "    </tr>\n",
              "    <tr>\n",
              "      <th>6</th>\n",
              "      <td>LSTAT7</td>\n",
              "      <td>6399.310934</td>\n",
              "      <td>-0.150135</td>\n",
              "      <td>-0.0</td>\n",
              "      <td>-0.000000</td>\n",
              "    </tr>\n",
              "    <tr>\n",
              "      <th>7</th>\n",
              "      <td>LSTAT8</td>\n",
              "      <td>-1554.634399</td>\n",
              "      <td>0.007747</td>\n",
              "      <td>-0.0</td>\n",
              "      <td>-0.000000</td>\n",
              "    </tr>\n",
              "    <tr>\n",
              "      <th>8</th>\n",
              "      <td>LSTAT9</td>\n",
              "      <td>-523.920947</td>\n",
              "      <td>0.115016</td>\n",
              "      <td>-0.0</td>\n",
              "      <td>-0.000000</td>\n",
              "    </tr>\n",
              "    <tr>\n",
              "      <th>9</th>\n",
              "      <td>LSTAT10</td>\n",
              "      <td>288.174050</td>\n",
              "      <td>0.159595</td>\n",
              "      <td>-0.0</td>\n",
              "      <td>-0.000000</td>\n",
              "    </tr>\n",
              "  </tbody>\n",
              "</table>\n",
              "</div>\n",
              "      <button class=\"colab-df-convert\" onclick=\"convertToInteractive('df-22d2105d-2103-41a5-a732-15d6a1adda58')\"\n",
              "              title=\"Convert this dataframe to an interactive table.\"\n",
              "              style=\"display:none;\">\n",
              "        \n",
              "  <svg xmlns=\"http://www.w3.org/2000/svg\" height=\"24px\"viewBox=\"0 0 24 24\"\n",
              "       width=\"24px\">\n",
              "    <path d=\"M0 0h24v24H0V0z\" fill=\"none\"/>\n",
              "    <path d=\"M18.56 5.44l.94 2.06.94-2.06 2.06-.94-2.06-.94-.94-2.06-.94 2.06-2.06.94zm-11 1L8.5 8.5l.94-2.06 2.06-.94-2.06-.94L8.5 2.5l-.94 2.06-2.06.94zm10 10l.94 2.06.94-2.06 2.06-.94-2.06-.94-.94-2.06-.94 2.06-2.06.94z\"/><path d=\"M17.41 7.96l-1.37-1.37c-.4-.4-.92-.59-1.43-.59-.52 0-1.04.2-1.43.59L10.3 9.45l-7.72 7.72c-.78.78-.78 2.05 0 2.83L4 21.41c.39.39.9.59 1.41.59.51 0 1.02-.2 1.41-.59l7.78-7.78 2.81-2.81c.8-.78.8-2.07 0-2.86zM5.41 20L4 18.59l7.72-7.72 1.47 1.35L5.41 20z\"/>\n",
              "  </svg>\n",
              "      </button>\n",
              "      \n",
              "  <style>\n",
              "    .colab-df-container {\n",
              "      display:flex;\n",
              "      flex-wrap:wrap;\n",
              "      gap: 12px;\n",
              "    }\n",
              "\n",
              "    .colab-df-convert {\n",
              "      background-color: #E8F0FE;\n",
              "      border: none;\n",
              "      border-radius: 50%;\n",
              "      cursor: pointer;\n",
              "      display: none;\n",
              "      fill: #1967D2;\n",
              "      height: 32px;\n",
              "      padding: 0 0 0 0;\n",
              "      width: 32px;\n",
              "    }\n",
              "\n",
              "    .colab-df-convert:hover {\n",
              "      background-color: #E2EBFA;\n",
              "      box-shadow: 0px 1px 2px rgba(60, 64, 67, 0.3), 0px 1px 3px 1px rgba(60, 64, 67, 0.15);\n",
              "      fill: #174EA6;\n",
              "    }\n",
              "\n",
              "    [theme=dark] .colab-df-convert {\n",
              "      background-color: #3B4455;\n",
              "      fill: #D2E3FC;\n",
              "    }\n",
              "\n",
              "    [theme=dark] .colab-df-convert:hover {\n",
              "      background-color: #434B5C;\n",
              "      box-shadow: 0px 1px 3px 1px rgba(0, 0, 0, 0.15);\n",
              "      filter: drop-shadow(0px 1px 2px rgba(0, 0, 0, 0.3));\n",
              "      fill: #FFFFFF;\n",
              "    }\n",
              "  </style>\n",
              "\n",
              "      <script>\n",
              "        const buttonEl =\n",
              "          document.querySelector('#df-22d2105d-2103-41a5-a732-15d6a1adda58 button.colab-df-convert');\n",
              "        buttonEl.style.display =\n",
              "          google.colab.kernel.accessAllowed ? 'block' : 'none';\n",
              "\n",
              "        async function convertToInteractive(key) {\n",
              "          const element = document.querySelector('#df-22d2105d-2103-41a5-a732-15d6a1adda58');\n",
              "          const dataTable =\n",
              "            await google.colab.kernel.invokeFunction('convertToInteractive',\n",
              "                                                     [key], {});\n",
              "          if (!dataTable) return;\n",
              "\n",
              "          const docLinkHtml = 'Like what you see? Visit the ' +\n",
              "            '<a target=\"_blank\" href=https://colab.research.google.com/notebooks/data_table.ipynb>data table notebook</a>'\n",
              "            + ' to learn more about interactive tables.';\n",
              "          element.innerHTML = '';\n",
              "          dataTable['output_type'] = 'display_data';\n",
              "          await google.colab.output.renderOutput(dataTable, element);\n",
              "          const docLink = document.createElement('div');\n",
              "          docLink.innerHTML = docLinkHtml;\n",
              "          element.appendChild(docLink);\n",
              "        }\n",
              "      </script>\n",
              "    </div>\n",
              "  </div>\n",
              "  "
            ],
            "text/plain": [
              "  Features    model_lin  model_ridge  model_lasso  model_net\n",
              "0    LSTAT    10.485596    -1.997427         -0.0  -0.154677\n",
              "1   LSTAT2  -198.447363     1.120503         -0.0  -0.000000\n",
              "2   LSTAT3  1218.536028     0.705506         -0.0  -0.000000\n",
              "3   LSTAT4 -4039.520112    -0.029523         -0.0  -0.000000\n",
              "4   LSTAT5  8029.887428    -0.331986         -0.0  -0.000000\n",
              "5   LSTAT6 -9630.657680    -0.305169         -0.0  -0.000000\n",
              "6   LSTAT7  6399.310934    -0.150135         -0.0  -0.000000\n",
              "7   LSTAT8 -1554.634399     0.007747         -0.0  -0.000000\n",
              "8   LSTAT9  -523.920947     0.115016         -0.0  -0.000000\n",
              "9  LSTAT10   288.174050     0.159595         -0.0  -0.000000"
            ]
          },
          "metadata": {},
          "execution_count": 36
        }
      ]
    },
    {
      "cell_type": "markdown",
      "metadata": {
        "id": "Rt9wYwZY52hX"
      },
      "source": [
        "# Q4. Performance in the test set for 4 models."
      ]
    },
    {
      "cell_type": "code",
      "execution_count": 39,
      "metadata": {
        "colab": {
          "base_uri": "https://localhost:8080/"
        },
        "id": "ZhMRVZu852hX",
        "outputId": "8aa8b5fb-3ed4-497a-91a7-61088fa1e8da"
      },
      "outputs": [
        {
          "output_type": "execute_result",
          "data": {
            "text/plain": [
              "0.541"
            ]
          },
          "metadata": {},
          "execution_count": 39
        }
      ],
      "source": [
        "MSE_test = np.mean(np.square(df_predictions['y_test'] - df_predictions['y_hat_linear']))\n",
        "RMSE_test = np.sqrt(MSE_test)\n",
        "np.round(RMSE_test, 3)"
      ]
    },
    {
      "cell_type": "code",
      "source": [
        "MSE_test = np.mean(np.square(df_predictions['y_test'] - df_predictions['y_hat_ridge']))\n",
        "RMSE_test = np.sqrt(MSE_test)\n",
        "np.round(RMSE_test, 3)"
      ],
      "metadata": {
        "colab": {
          "base_uri": "https://localhost:8080/"
        },
        "id": "DVBSgofeCYqB",
        "outputId": "af8c1783-7b4e-4eae-8d18-ef4715693173"
      },
      "execution_count": 40,
      "outputs": [
        {
          "output_type": "execute_result",
          "data": {
            "text/plain": [
              "0.559"
            ]
          },
          "metadata": {},
          "execution_count": 40
        }
      ]
    },
    {
      "cell_type": "code",
      "source": [
        "MSE_test = np.mean(np.square(df_predictions['y_test'] - df_predictions['y_hat_lasso']))\n",
        "RMSE_test = np.sqrt(MSE_test)\n",
        "np.round(RMSE_test, 3)"
      ],
      "metadata": {
        "colab": {
          "base_uri": "https://localhost:8080/"
        },
        "id": "_RlBGJNNCYnd",
        "outputId": "8d43893d-7f02-4033-822a-450db948bf49"
      },
      "execution_count": 41,
      "outputs": [
        {
          "output_type": "execute_result",
          "data": {
            "text/plain": [
              "1.006"
            ]
          },
          "metadata": {},
          "execution_count": 41
        }
      ]
    },
    {
      "cell_type": "code",
      "source": [
        "MSE_test = np.mean(np.square(df_predictions['y_test'] - df_predictions['y_hat_net']))\n",
        "RMSE_test = np.sqrt(MSE_test)\n",
        "np.round(RMSE_test, 3)"
      ],
      "metadata": {
        "colab": {
          "base_uri": "https://localhost:8080/"
        },
        "id": "48qcilbOCYlG",
        "outputId": "06d469ad-0cdb-456c-d874-3953d2cf224f"
      },
      "execution_count": 42,
      "outputs": [
        {
          "output_type": "execute_result",
          "data": {
            "text/plain": [
              "0.898"
            ]
          },
          "metadata": {},
          "execution_count": 42
        }
      ]
    },
    {
      "cell_type": "markdown",
      "metadata": {
        "id": "EwP5oP5I52hX"
      },
      "source": [
        "# Q5. Plotting the regression coefficients vs alphas:"
      ]
    },
    {
      "cell_type": "markdown",
      "metadata": {
        "id": "IBljOG7j52hY"
      },
      "source": [
        "## 1) Ridge"
      ]
    },
    {
      "cell_type": "code",
      "execution_count": 43,
      "metadata": {
        "colab": {
          "base_uri": "https://localhost:8080/",
          "height": 339
        },
        "id": "AmzRMfX352hY",
        "outputId": "6ab4b149-cad0-4816-9915-039090748448"
      },
      "outputs": [
        {
          "output_type": "display_data",
          "data": {
            "image/png": "[encoded data removed]",
            "text/plain": [
              "<Figure size 864x360 with 1 Axes>"
            ]
          },
          "metadata": {
            "needs_background": "light"
          }
        }
      ],
      "source": [
        "alpha_ridge = 10**np.linspace(-2,4,100)\n",
        "plt.figure(figsize=(12,5))\n",
        "plt.plot(alpha_ridge,'or')\n",
        "plt.xlabel('steps')\n",
        "plt.ylabel('alpha (lambda)')\n",
        "plt.show()"
      ]
    },
    {
      "cell_type": "code",
      "source": [
        "ridge = Ridge()\n",
        "coefs_ridge = []\n",
        "\n",
        "for i in alpha_ridge:\n",
        "    ridge.set_params(alpha = i)\n",
        "    ridge.fit(X_train, y_train)\n",
        "    coefs_ridge.append(ridge.coef_)\n",
        "\n",
        "np.shape(coefs_ridge)\n",
        "\n"
      ],
      "metadata": {
        "colab": {
          "base_uri": "https://localhost:8080/"
        },
        "id": "ZxrTjSaGGraO",
        "outputId": "e053447e-624e-46f6-8f2e-2340709bce35"
      },
      "execution_count": 46,
      "outputs": [
        {
          "output_type": "execute_result",
          "data": {
            "text/plain": [
              "(100, 10)"
            ]
          },
          "metadata": {},
          "execution_count": 46
        }
      ]
    },
    {
      "cell_type": "code",
      "source": [
        "plt.figure(figsize=(12,10))\n",
        "ax = plt.gca()\n",
        "ax.plot(alpha_ridge, coefs_ridge)\n",
        "ax.set_xscale('log')\n",
        "plt.axis('tight')\n",
        "plt.xlabel('alpha')\n",
        "plt.ylabel('weights: scaled coefficients')\n",
        "plt.title('Ridge regression coefficients Vs. alpha')\n",
        "plt.legend(df.drop('price', axis=1, inplace=False).columns)\n",
        "\n",
        "plt.show()"
      ],
      "metadata": {
        "colab": {
          "base_uri": "https://localhost:8080/",
          "height": 634
        },
        "id": "udCdB33BHRnk",
        "outputId": "e584f74d-8584-40dd-dcb4-95a27d56e194"
      },
      "execution_count": 49,
      "outputs": [
        {
          "output_type": "display_data",
          "data": {
            "image/png": "[encoded data removed]",
            "text/plain": [
              "<Figure size 864x720 with 1 Axes>"
            ]
          },
          "metadata": {
            "needs_background": "light"
          }
        }
      ]
    },
    {
      "cell_type": "markdown",
      "metadata": {
        "id": "2wG8yths52hY"
      },
      "source": [
        "## 2) Lasso"
      ]
    },
    {
      "cell_type": "code",
      "execution_count": 50,
      "metadata": {
        "id": "EeY8x3Ws52hY"
      },
      "outputs": [],
      "source": [
        "alpha_lasso = 10**np.linspace(-3,1,100)"
      ]
    },
    {
      "cell_type": "code",
      "source": [
        "lasso = Lasso()\n",
        "coefs_lasso = []\n",
        "\n",
        "for i in alpha_lasso:\n",
        "    lasso.set_params(alpha = i)\n",
        "    lasso.fit(X_train, y_train)\n",
        "    coefs_lasso.append(lasso.coef_)\n",
        "\n",
        "np.shape(coefs_lasso)"
      ],
      "metadata": {
        "colab": {
          "base_uri": "https://localhost:8080/"
        },
        "id": "GkZi-KMHIZ8d",
        "outputId": "037c3cb2-ceab-4ad5-9761-3500c634d71a"
      },
      "execution_count": 51,
      "outputs": [
        {
          "output_type": "execute_result",
          "data": {
            "text/plain": [
              "(100, 10)"
            ]
          },
          "metadata": {},
          "execution_count": 51
        }
      ]
    },
    {
      "cell_type": "code",
      "source": [
        "plt.figure(figsize=(12,10))\n",
        "ax = plt.gca()\n",
        "ax.plot(alpha_lasso, coefs_lasso)\n",
        "ax.set_xscale('log')\n",
        "plt.axis('tight')\n",
        "plt.xlabel('alpha')\n",
        "plt.ylabel('weights: scaled coefficients')\n",
        "plt.title('Ridge regression coefficients Vs. alpha')\n",
        "plt.legend(df.drop('price', axis=1, inplace=False).columns)\n",
        "\n",
        "plt.show()"
      ],
      "metadata": {
        "colab": {
          "base_uri": "https://localhost:8080/",
          "height": 634
        },
        "id": "VGuJlL-cIZ6X",
        "outputId": "9d896fbc-91b4-4729-80f1-0c3cb59f5628"
      },
      "execution_count": 52,
      "outputs": [
        {
          "output_type": "display_data",
          "data": {
            "image/png": "[encoded data removed]",
            "text/plain": [
              "<Figure size 864x720 with 1 Axes>"
            ]
          },
          "metadata": {
            "needs_background": "light"
          }
        }
      ]
    },
    {
      "cell_type": "markdown",
      "metadata": {
        "id": "YMt4ISAL52hY"
      },
      "source": [
        "## 3) ElasticNet"
      ]
    },
    {
      "cell_type": "code",
      "execution_count": 53,
      "metadata": {
        "id": "OkOHh1r452hY"
      },
      "outputs": [],
      "source": [
        "alpha_elasticnet = 10 ** np.linspace(-3,2,100)"
      ]
    },
    {
      "cell_type": "code",
      "source": [
        "elasticnet = ElasticNet()\n",
        "coefs_elasticnet = []\n",
        "\n",
        "for i in alpha_elasticnet:\n",
        "    elasticnet.set_params(alpha = i)\n",
        "    elasticnet.fit(X_train, y_train)\n",
        "    coefs_elasticnet.append(elasticnet.coef_)\n",
        "\n",
        "np.shape(coefs_elasticnet)"
      ],
      "metadata": {
        "colab": {
          "base_uri": "https://localhost:8080/"
        },
        "id": "XNHV8Io-I9sE",
        "outputId": "85bf7034-2cd4-4c08-886b-b18c780bd1de"
      },
      "execution_count": 54,
      "outputs": [
        {
          "output_type": "execute_result",
          "data": {
            "text/plain": [
              "(100, 10)"
            ]
          },
          "metadata": {},
          "execution_count": 54
        }
      ]
    },
    {
      "cell_type": "code",
      "source": [
        "plt.figure(figsize=(12,10))\n",
        "ax = plt.gca()\n",
        "ax.plot(alpha_elasticnet, coefs_elasticnet)\n",
        "ax.set_xscale('log')\n",
        "plt.axis('tight')\n",
        "plt.xlabel('alpha')\n",
        "plt.ylabel('weights: scaled coefficients')\n",
        "plt.title('Ridge regression coefficients Vs. alpha')\n",
        "plt.legend(df.drop('price', axis=1, inplace=False).columns)\n",
        "\n",
        "plt.show()"
      ],
      "metadata": {
        "colab": {
          "base_uri": "https://localhost:8080/",
          "height": 634
        },
        "id": "G7SGGw2_I9py",
        "outputId": "ec260dc9-35d4-4ba4-8bf2-7f6f5e5bea35"
      },
      "execution_count": 55,
      "outputs": [
        {
          "output_type": "display_data",
          "data": {
            "image/png": "[encoded data removed]",
            "text/plain": [
              "<Figure size 864x720 with 1 Axes>"
            ]
          },
          "metadata": {
            "needs_background": "light"
          }
        }
      ]
    },
    {
      "cell_type": "markdown",
      "metadata": {
        "id": "GFOk-peT52hY"
      },
      "source": [
        "# Q6. Cross Validation"
      ]
    },
    {
      "cell_type": "markdown",
      "metadata": {
        "id": "v9Z9FzF352hY"
      },
      "source": [
        "## 1) Ridge"
      ]
    },
    {
      "cell_type": "code",
      "execution_count": 56,
      "metadata": {
        "colab": {
          "base_uri": "https://localhost:8080/"
        },
        "id": "ntdSuiqC52hZ",
        "outputId": "cc08f638-36e3-4bd4-ed80-8b3bdf163d05"
      },
      "outputs": [
        {
          "output_type": "execute_result",
          "data": {
            "text/plain": [
              "0.1"
            ]
          },
          "metadata": {},
          "execution_count": 56
        }
      ],
      "source": [
        "ridgecv = RidgeCV()\n",
        "ridgecv.fit(X_train, y_train)\n",
        "ridgecv.alpha_"
      ]
    },
    {
      "cell_type": "code",
      "source": [
        "alpha_ridge_opt = ridgecv.alpha_"
      ],
      "metadata": {
        "id": "xMny2iUjJ29u"
      },
      "execution_count": 57,
      "outputs": []
    },
    {
      "cell_type": "markdown",
      "metadata": {
        "id": "BGcAkqGS52hZ"
      },
      "source": [
        "## 2) Lasso"
      ]
    },
    {
      "cell_type": "code",
      "execution_count": 58,
      "metadata": {
        "colab": {
          "base_uri": "https://localhost:8080/"
        },
        "id": "TeuEVOmU52hZ",
        "outputId": "7d4af43f-db74-4641-9df2-5aea7373d373"
      },
      "outputs": [
        {
          "output_type": "execute_result",
          "data": {
            "text/plain": [
              "0.0007404280761639708"
            ]
          },
          "metadata": {},
          "execution_count": 58
        }
      ],
      "source": [
        "lassocv = LassoCV()\n",
        "lassocv.fit(X_train, y_train)\n",
        "lassocv.alpha_"
      ]
    },
    {
      "cell_type": "code",
      "source": [
        "alpha_lasso_opt = lassocv.alpha_"
      ],
      "metadata": {
        "id": "2IQ1FD0RKG3c"
      },
      "execution_count": 59,
      "outputs": []
    },
    {
      "cell_type": "markdown",
      "metadata": {
        "id": "eRUZbasO52hZ"
      },
      "source": [
        "## 3) ElasticNet"
      ]
    },
    {
      "cell_type": "code",
      "execution_count": 60,
      "metadata": {
        "colab": {
          "base_uri": "https://localhost:8080/"
        },
        "id": "96n9H6_F52hZ",
        "outputId": "6aae3338-c101-4c80-e6d6-20fb71a51dcb"
      },
      "outputs": [
        {
          "output_type": "execute_result",
          "data": {
            "text/plain": [
              "0.0014808561523279417"
            ]
          },
          "metadata": {},
          "execution_count": 60
        }
      ],
      "source": [
        "elasticnetcv = ElasticNetCV()\n",
        "elasticnetcv.fit(X_train, y_train)\n",
        "elasticnetcv.alpha_"
      ]
    },
    {
      "cell_type": "code",
      "source": [
        "elasticnetcv.l1_ratio_"
      ],
      "metadata": {
        "colab": {
          "base_uri": "https://localhost:8080/"
        },
        "id": "dBQYWt9kKXCC",
        "outputId": "c749a44b-e68c-4aa3-d4df-a3c5ae91cc8f"
      },
      "execution_count": 61,
      "outputs": [
        {
          "output_type": "execute_result",
          "data": {
            "text/plain": [
              "0.5"
            ]
          },
          "metadata": {},
          "execution_count": 61
        }
      ]
    },
    {
      "cell_type": "code",
      "source": [
        "from sklearn.model_selection import cross_val_score\n",
        "import sklearn.metrics"
      ],
      "metadata": {
        "id": "tqiHd8tIKf4p"
      },
      "execution_count": 63,
      "outputs": []
    },
    {
      "cell_type": "code",
      "source": [
        "RMSE_CV = []\n",
        "iterator = np.arange(0.0, 0.002, 0.0001)\n",
        "for i in iterator:\n",
        "    MSE = -cross_val_score(estimator= ElasticNet(alpha=i), X = X_train, y = y_train, cv = 5, scoring='neg_mean_squared_error')\n",
        "    RMSE_CV.append(np.sqrt(MSE).mean())\n",
        "\n",
        "output = pd.DataFrame(list(iterator), columns=['lambda_ElasticNet'])\n",
        "output['RMSE_CV'] = RMSE_CV\n",
        "\n",
        "output.head()"
      ],
      "metadata": {
        "colab": {
          "base_uri": "https://localhost:8080/",
          "height": 206
        },
        "id": "K43wBZXuKf2R",
        "outputId": "d0183d44-3840-40ce-deb4-69912901802b"
      },
      "execution_count": 69,
      "outputs": [
        {
          "output_type": "execute_result",
          "data": {
            "text/html": [
              "\n",
              "  <div id=\"df-b5d2bb7f-26ef-4037-9b4e-c0c7669aec68\">\n",
              "    <div class=\"colab-df-container\">\n",
              "      <div>\n",
              "<style scoped>\n",
              "    .dataframe tbody tr th:only-of-type {\n",
              "        vertical-align: middle;\n",
              "    }\n",
              "\n",
              "    .dataframe tbody tr th {\n",
              "        vertical-align: top;\n",
              "    }\n",
              "\n",
              "    .dataframe thead th {\n",
              "        text-align: right;\n",
              "    }\n",
              "</style>\n",
              "<table border=\"1\" class=\"dataframe\">\n",
              "  <thead>\n",
              "    <tr style=\"text-align: right;\">\n",
              "      <th></th>\n",
              "      <th>lambda_ElasticNet</th>\n",
              "      <th>RMSE_CV</th>\n",
              "    </tr>\n",
              "  </thead>\n",
              "  <tbody>\n",
              "    <tr>\n",
              "      <th>0</th>\n",
              "      <td>0.0000</td>\n",
              "      <td>0.591622</td>\n",
              "    </tr>\n",
              "    <tr>\n",
              "      <th>1</th>\n",
              "      <td>0.0001</td>\n",
              "      <td>0.592169</td>\n",
              "    </tr>\n",
              "    <tr>\n",
              "      <th>2</th>\n",
              "      <td>0.0002</td>\n",
              "      <td>0.592681</td>\n",
              "    </tr>\n",
              "    <tr>\n",
              "      <th>3</th>\n",
              "      <td>0.0003</td>\n",
              "      <td>0.593186</td>\n",
              "    </tr>\n",
              "    <tr>\n",
              "      <th>4</th>\n",
              "      <td>0.0004</td>\n",
              "      <td>0.593662</td>\n",
              "    </tr>\n",
              "  </tbody>\n",
              "</table>\n",
              "</div>\n",
              "      <button class=\"colab-df-convert\" onclick=\"convertToInteractive('df-b5d2bb7f-26ef-4037-9b4e-c0c7669aec68')\"\n",
              "              title=\"Convert this dataframe to an interactive table.\"\n",
              "              style=\"display:none;\">\n",
              "        \n",
              "  <svg xmlns=\"http://www.w3.org/2000/svg\" height=\"24px\"viewBox=\"0 0 24 24\"\n",
              "       width=\"24px\">\n",
              "    <path d=\"M0 0h24v24H0V0z\" fill=\"none\"/>\n",
              "    <path d=\"M18.56 5.44l.94 2.06.94-2.06 2.06-.94-2.06-.94-.94-2.06-.94 2.06-2.06.94zm-11 1L8.5 8.5l.94-2.06 2.06-.94-2.06-.94L8.5 2.5l-.94 2.06-2.06.94zm10 10l.94 2.06.94-2.06 2.06-.94-2.06-.94-.94-2.06-.94 2.06-2.06.94z\"/><path d=\"M17.41 7.96l-1.37-1.37c-.4-.4-.92-.59-1.43-.59-.52 0-1.04.2-1.43.59L10.3 9.45l-7.72 7.72c-.78.78-.78 2.05 0 2.83L4 21.41c.39.39.9.59 1.41.59.51 0 1.02-.2 1.41-.59l7.78-7.78 2.81-2.81c.8-.78.8-2.07 0-2.86zM5.41 20L4 18.59l7.72-7.72 1.47 1.35L5.41 20z\"/>\n",
              "  </svg>\n",
              "      </button>\n",
              "      \n",
              "  <style>\n",
              "    .colab-df-container {\n",
              "      display:flex;\n",
              "      flex-wrap:wrap;\n",
              "      gap: 12px;\n",
              "    }\n",
              "\n",
              "    .colab-df-convert {\n",
              "      background-color: #E8F0FE;\n",
              "      border: none;\n",
              "      border-radius: 50%;\n",
              "      cursor: pointer;\n",
              "      display: none;\n",
              "      fill: #1967D2;\n",
              "      height: 32px;\n",
              "      padding: 0 0 0 0;\n",
              "      width: 32px;\n",
              "    }\n",
              "\n",
              "    .colab-df-convert:hover {\n",
              "      background-color: #E2EBFA;\n",
              "      box-shadow: 0px 1px 2px rgba(60, 64, 67, 0.3), 0px 1px 3px 1px rgba(60, 64, 67, 0.15);\n",
              "      fill: #174EA6;\n",
              "    }\n",
              "\n",
              "    [theme=dark] .colab-df-convert {\n",
              "      background-color: #3B4455;\n",
              "      fill: #D2E3FC;\n",
              "    }\n",
              "\n",
              "    [theme=dark] .colab-df-convert:hover {\n",
              "      background-color: #434B5C;\n",
              "      box-shadow: 0px 1px 3px 1px rgba(0, 0, 0, 0.15);\n",
              "      filter: drop-shadow(0px 1px 2px rgba(0, 0, 0, 0.3));\n",
              "      fill: #FFFFFF;\n",
              "    }\n",
              "  </style>\n",
              "\n",
              "      <script>\n",
              "        const buttonEl =\n",
              "          document.querySelector('#df-b5d2bb7f-26ef-4037-9b4e-c0c7669aec68 button.colab-df-convert');\n",
              "        buttonEl.style.display =\n",
              "          google.colab.kernel.accessAllowed ? 'block' : 'none';\n",
              "\n",
              "        async function convertToInteractive(key) {\n",
              "          const element = document.querySelector('#df-b5d2bb7f-26ef-4037-9b4e-c0c7669aec68');\n",
              "          const dataTable =\n",
              "            await google.colab.kernel.invokeFunction('convertToInteractive',\n",
              "                                                     [key], {});\n",
              "          if (!dataTable) return;\n",
              "\n",
              "          const docLinkHtml = 'Like what you see? Visit the ' +\n",
              "            '<a target=\"_blank\" href=https://colab.research.google.com/notebooks/data_table.ipynb>data table notebook</a>'\n",
              "            + ' to learn more about interactive tables.';\n",
              "          element.innerHTML = '';\n",
              "          dataTable['output_type'] = 'display_data';\n",
              "          await google.colab.output.renderOutput(dataTable, element);\n",
              "          const docLink = document.createElement('div');\n",
              "          docLink.innerHTML = docLinkHtml;\n",
              "          element.appendChild(docLink);\n",
              "        }\n",
              "      </script>\n",
              "    </div>\n",
              "  </div>\n",
              "  "
            ],
            "text/plain": [
              "   lambda_ElasticNet   RMSE_CV\n",
              "0             0.0000  0.591622\n",
              "1             0.0001  0.592169\n",
              "2             0.0002  0.592681\n",
              "3             0.0003  0.593186\n",
              "4             0.0004  0.593662"
            ]
          },
          "metadata": {},
          "execution_count": 69
        }
      ]
    },
    {
      "cell_type": "code",
      "source": [
        "output['RMSE_CV'].idxmin()"
      ],
      "metadata": {
        "colab": {
          "base_uri": "https://localhost:8080/"
        },
        "id": "SEZX-N-gKeSL",
        "outputId": "5c0d24e0-e8f5-48dc-b4fe-ed976727ab94"
      },
      "execution_count": 70,
      "outputs": [
        {
          "output_type": "execute_result",
          "data": {
            "text/plain": [
              "0"
            ]
          },
          "metadata": {},
          "execution_count": 70
        }
      ]
    },
    {
      "cell_type": "code",
      "source": [
        "output['lambda_ElasticNet'][output['RMSE_CV'].idxmin()]"
      ],
      "metadata": {
        "colab": {
          "base_uri": "https://localhost:8080/"
        },
        "id": "uc1UpOkKKePp",
        "outputId": "3dc41a3d-d07b-46f8-a189-ccaa8a5af955"
      },
      "execution_count": 67,
      "outputs": [
        {
          "output_type": "execute_result",
          "data": {
            "text/plain": [
              "0.0"
            ]
          },
          "metadata": {},
          "execution_count": 67
        }
      ]
    },
    {
      "cell_type": "code",
      "source": [
        ""
      ],
      "metadata": {
        "id": "DLb3tm-qKeGH"
      },
      "execution_count": null,
      "outputs": []
    },
    {
      "cell_type": "markdown",
      "metadata": {
        "id": "Tj8KgPI352hZ"
      },
      "source": [
        "# Done!"
      ]
    }
  ],
  "metadata": {
    "kernelspec": {
      "display_name": "Python 3",
      "language": "python",
      "name": "python3"
    },
    "language_info": {
      "codemirror_mode": {
        "name": "ipython",
        "version": 3
      },
      "file_extension": ".py",
      "mimetype": "text/x-python",
      "name": "python",
      "nbconvert_exporter": "python",
      "pygments_lexer": "ipython3",
      "version": "3.7.6"
    },
    "colab": {
      "name": "05_sklearn_penalization_2.ipynb",
      "provenance": [],
      "collapsed_sections": []
    }
  },
  "nbformat": 4,
  "nbformat_minor": 0
}