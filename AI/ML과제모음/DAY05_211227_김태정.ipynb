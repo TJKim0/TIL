{
  "cells": [
    {
      "cell_type": "markdown",
      "metadata": {
        "id": "4MEGc-cfUbVj"
      },
      "source": [
        "Copyright @ cb_park@korea.ac.kr (Cheonbok Park), joonleesky@kaist.ac.kr (Hojoon Lee)"
      ]
    },
    {
      "cell_type": "markdown",
      "metadata": {
        "id": "JFBme9kOUbVm"
      },
      "source": [
        "## Convolutional Neural Network"
      ]
    },
    {
      "cell_type": "code",
      "execution_count": 45,
      "metadata": {
        "id": "kbrl4jxKGFo8"
      },
      "outputs": [],
      "source": [
        "import torch\n",
        "import torch.nn as nn\n",
        "import torchvision.datasets as datasets\n",
        "import torchvision.transforms as transforms"
      ]
    },
    {
      "cell_type": "code",
      "metadata": {
        "id": "w5ac4lIO1BHI"
      },
      "source": [
        "## Below are the all identical neural network with different expression"
      ],
      "execution_count": 2,
      "outputs": []
    },
    {
      "cell_type": "markdown",
      "source": [
        "recap : [link](https://stats.stackexchange.com/questions/295397/what-is-the-difference-between-conv1d-and-conv2d)\n",
        "\n",
        "output size = `(((W - K + 2P)/S) + 1)`\n",
        "\n",
        "      - Here W = Input size\n",
        "      - K = Filter size\n",
        "      - S = Stride\n",
        "      - P = Padding "
      ],
      "metadata": {
        "id": "WV1CbAdeQKRj"
      }
    },
    {
      "cell_type": "code",
      "execution_count": 46,
      "metadata": {
        "id": "8KKIXyHOHmt0"
      },
      "outputs": [],
      "source": [
        "class CNN1(nn.Module):\n",
        "    def __init__(self): # input image = batch_size x 3 x 32 x 32\n",
        "        super(CNN1, self).__init__()\n",
        "        # in_channels, out_channels, kernel_size, stride=1, padding=0\n",
        "        self.conv = nn.Conv2d(3, 64, kernel_size=3, padding=1) # todo : check the parameter\n",
        "        self.relu = nn.ReLU() #\n",
        "        self.maxpool = nn.MaxPool2d(2) # todo : check the parameter\n",
        "\n",
        "    def forward(self, x):\n",
        "        out = self.conv(x)\n",
        "        out = self.relu(out)\n",
        "        out = self.maxpool(out)\n",
        "        return out  # input image = batch_size x 3 x 16 x 16\n",
        "\n",
        "    \n",
        "class CNN2(nn.Module):\n",
        "    def __init__(self): # input image = batch_size x 3 x 32 x 32\n",
        "        super(CNN2, self).__init__()\n",
        "\n",
        "        self.layer = nn.Sequential(\n",
        "            nn.Conv2d(3, 64, kernel_size=3, padding=1),\n",
        "            nn.ReLU(),\n",
        "            nn.MaxPool2d(2))\n",
        "\n",
        "    def forward(self, x):\n",
        "        out = self.layer(x)\n",
        "        return out  # input image = batch_size x 3 x 16 x 16      \n",
        "      \n",
        "\n",
        "class CNN3(nn.Module):\n",
        "    def __init__(self): # input image = batch_size x 3 x 32 x 32\n",
        "        super(CNN3, self).__init__()\n",
        "        layer = []\n",
        "        \n",
        "        layer.append(nn.Conv2d(3, 64, kernel_size=3, padding=1))\n",
        "        layer.append(nn.ReLU())\n",
        "        layer.append(nn.MaxPool2d(2))\n",
        "        \n",
        "        self.layer = nn.Sequential(*layer)\n",
        "\n",
        "    def forward(self, x):\n",
        "        out = self.layer(x)\n",
        "        return out  # input image = batch_size x 3 x 16 x 16"
      ]
    },
    {
      "cell_type": "code",
      "execution_count": 47,
      "metadata": {
        "id": "zUe1jul0UbVq"
      },
      "outputs": [],
      "source": [
        "sample_image = torch.zeros(64, 3, 32, 32)"
      ]
    },
    {
      "cell_type": "code",
      "execution_count": 48,
      "metadata": {
        "colab": {
          "base_uri": "https://localhost:8080/"
        },
        "id": "AyKFlPpoH4SS",
        "outputId": "bf866dd6-f87f-456f-cd85-bd41531eace5"
      },
      "outputs": [
        {
          "output_type": "stream",
          "name": "stdout",
          "text": [
            "CNN1(\n",
            "  (conv): Conv2d(3, 64, kernel_size=(3, 3), stride=(1, 1), padding=(1, 1))\n",
            "  (relu): ReLU()\n",
            "  (maxpool): MaxPool2d(kernel_size=2, stride=2, padding=0, dilation=1, ceil_mode=False)\n",
            ")\n",
            "torch.Size([64, 64, 16, 16])\n"
          ]
        }
      ],
      "source": [
        "cnn = CNN1()\n",
        "print(cnn)\n",
        "output = cnn(sample_image)\n",
        "print(output.size())"
      ]
    },
    {
      "cell_type": "code",
      "execution_count": 49,
      "metadata": {
        "colab": {
          "base_uri": "https://localhost:8080/"
        },
        "id": "pWioOF2KJYtT",
        "outputId": "3ee131cb-5e77-4f8d-d37a-b8596e4a2677"
      },
      "outputs": [
        {
          "output_type": "stream",
          "name": "stdout",
          "text": [
            "CNN2(\n",
            "  (layer): Sequential(\n",
            "    (0): Conv2d(3, 64, kernel_size=(3, 3), stride=(1, 1), padding=(1, 1))\n",
            "    (1): ReLU()\n",
            "    (2): MaxPool2d(kernel_size=2, stride=2, padding=0, dilation=1, ceil_mode=False)\n",
            "  )\n",
            ")\n",
            "torch.Size([64, 64, 16, 16])\n"
          ]
        }
      ],
      "source": [
        "cnn = CNN2()\n",
        "print(cnn)\n",
        "output = cnn(sample_image)\n",
        "print(output.size())"
      ]
    },
    {
      "cell_type": "code",
      "execution_count": 50,
      "metadata": {
        "colab": {
          "base_uri": "https://localhost:8080/"
        },
        "id": "_ZZc7uUVJY1Y",
        "outputId": "eb561bdf-a45c-43a5-f6e7-d82c594db09e"
      },
      "outputs": [
        {
          "output_type": "stream",
          "name": "stdout",
          "text": [
            "CNN3(\n",
            "  (layer): Sequential(\n",
            "    (0): Conv2d(3, 64, kernel_size=(3, 3), stride=(1, 1), padding=(1, 1))\n",
            "    (1): ReLU()\n",
            "    (2): MaxPool2d(kernel_size=2, stride=2, padding=0, dilation=1, ceil_mode=False)\n",
            "  )\n",
            ")\n",
            "torch.Size([64, 64, 16, 16])\n"
          ]
        }
      ],
      "source": [
        "cnn = CNN3()\n",
        "print(cnn)\n",
        "output = cnn(sample_image)\n",
        "print(output.size())"
      ]
    },
    {
      "cell_type": "markdown",
      "metadata": {
        "id": "Xc34AFr-EtJ7"
      },
      "source": [
        "### Let's practice creating the Convolutional Neural Network"
      ]
    },
    {
      "cell_type": "code",
      "execution_count": 51,
      "metadata": {
        "id": "Fc-cfHRxEwab"
      },
      "outputs": [],
      "source": [
        "class CNN_prac(nn.Module):\n",
        "    def __init__(self): # input image = batch_size x 3 x 32 x 32\n",
        "        super(CNN_prac, self).__init__()\n",
        "        # torch.nn.Conv2d(in_channels, out_channels, kernel_size, stride=1, padding=0, ...)\n",
        "        self.conv1 = nn.Conv2d(3, 512, 3, 1, 1)  # expected output shape :batch, 512, 32, 32\n",
        "        self.conv2 = nn.Conv2d(512, 256, 3, 1, 1) # expected output shape :batch, 256, 32, 32 \n",
        "        self.conv3 = nn.Conv2d(256, 256, 3, 2, 1) # expected output shape : batch, 256, 16, 16\n",
        "        self.conv4 = nn.Conv2d(256, 256, 3, 4, 1) # todo : change to nn.Conv2d(?, ?, ?, ?, ?)\n",
        "\n",
        "        self.linear = nn.Linear(256*4*4, 10)\n",
        "    def forward(self, x):\n",
        "        out=self.conv1(x)\n",
        "        print('after conv1 :', out.shape)\n",
        "        out=self.conv2(out)\n",
        "        print('after conv2 :', out.shape)\n",
        "        out=self.conv3(out)\n",
        "        print('after conv3 :', out.shape)\n",
        "        out=self.conv4(out)\n",
        "        print('after conv4 :', out.shape)\n",
        "        out = out.contiguous().view(-1, 256*4*4) # output size should be [batch, 256, 4, 4]\n",
        "        out = self.linear(out)\n",
        "        return out"
      ]
    },
    {
      "cell_type": "code",
      "execution_count": 52,
      "metadata": {
        "id": "gFpbf_4cKUdG",
        "colab": {
          "base_uri": "https://localhost:8080/"
        },
        "outputId": "2d9fbfe9-718f-4533-d34e-c06a4b1108ef"
      },
      "outputs": [
        {
          "output_type": "stream",
          "name": "stdout",
          "text": [
            "after conv1 : torch.Size([64, 512, 32, 32])\n",
            "after conv2 : torch.Size([64, 256, 32, 32])\n",
            "after conv3 : torch.Size([64, 256, 16, 16])\n",
            "after conv4 : torch.Size([64, 256, 4, 4])\n",
            "torch.Size([64, 10])\n",
            "CNN_prac(\n",
            "  (conv1): Conv2d(3, 512, kernel_size=(3, 3), stride=(1, 1), padding=(1, 1))\n",
            "  (conv2): Conv2d(512, 256, kernel_size=(3, 3), stride=(1, 1), padding=(1, 1))\n",
            "  (conv3): Conv2d(256, 256, kernel_size=(3, 3), stride=(2, 2), padding=(1, 1))\n",
            "  (conv4): Conv2d(256, 256, kernel_size=(3, 3), stride=(4, 4), padding=(1, 1))\n",
            "  (linear): Linear(in_features=4096, out_features=10, bias=True)\n",
            ")\n"
          ]
        }
      ],
      "source": [
        "cnn_prac=CNN_prac()\n",
        "sample_image = torch.zeros(64, 3, 32, 32)\n",
        "output=cnn_prac(sample_image)\n",
        "print(output.size()) \n",
        "print(cnn_prac)"
      ]
    },
    {
      "cell_type": "markdown",
      "metadata": {
        "id": "f0oDpcezKlYK"
      },
      "source": [
        "## 2.1 VGG-19"
      ]
    },
    {
      "cell_type": "markdown",
      "metadata": {
        "id": "yYrJlv_6UbVu"
      },
      "source": [
        "### Let's create by yourself"
      ]
    },
    {
      "cell_type": "code",
      "execution_count": 53,
      "metadata": {
        "id": "EAZWOam78RgJ"
      },
      "outputs": [],
      "source": [
        "# https://iq.opengenus.org/vgg19-architecture/\n",
        "# ConvBlock1 : [conv -> batchnorm -> relu] x 2\n",
        "class ConvBlock1(nn.Module):\n",
        "\n",
        "    def __init__(self, in_dim, out_dim):\n",
        "        super(ConvBlock1, self).__init__()\n",
        "        \n",
        "        self.in_dim = in_dim\n",
        "        self.out_dim = out_dim\n",
        "\n",
        "        self.main = nn.Sequential(nn.Conv2d(self.in_dim, self.out_dim, kernel_size=3, padding=1),                    \n",
        "                                  nn.BatchNorm2d(self.out_dim),\n",
        "                                  nn.ReLU(),\n",
        "                                  nn.Conv2d(self.out_dim, self.out_dim, kernel_size=3, padding=1),                    \n",
        "                                  nn.BatchNorm2d(self.out_dim),\n",
        "                                  nn.ReLU(),\n",
        "                                  nn.MaxPool2d(2)\n",
        "                                 )\n",
        "        \n",
        "    def forward(self, x):\n",
        "        out = self.main(x)\n",
        "        return out"
      ]
    },
    {
      "cell_type": "code",
      "execution_count": 54,
      "metadata": {
        "id": "mGFf0M428Y90"
      },
      "outputs": [],
      "source": [
        "# ConvBlock2 : [conv -> batchnorm -> relu] x 4\n",
        "class ConvBlock2(nn.Module):\n",
        "\n",
        "    def __init__(self, in_dim, out_dim):\n",
        "        super(ConvBlock2, self).__init__()\n",
        "        \n",
        "        self.in_dim = in_dim\n",
        "        self.out_dim = out_dim\n",
        "        \n",
        "        self.main = nn.Sequential(nn.Conv2d(self.in_dim, self.out_dim, kernel_size=3, padding=1),                    \n",
        "                                  nn.BatchNorm2d(self.out_dim),\n",
        "                                  nn.ReLU(),\n",
        "                                  nn.Conv2d(self.out_dim, self.out_dim, kernel_size=3, padding=1),                    \n",
        "                                  nn.BatchNorm2d(self.out_dim),\n",
        "                                  nn.ReLU(),\n",
        "                                  nn.Conv2d(self.out_dim, self.out_dim, kernel_size=3, padding=1),                    \n",
        "                                  nn.BatchNorm2d(self.out_dim),\n",
        "                                  nn.ReLU(),\n",
        "                                  nn.Conv2d(self.out_dim, self.out_dim, kernel_size=3, padding=1),                    \n",
        "                                  nn.BatchNorm2d(self.out_dim),\n",
        "                                  nn.ReLU(),\n",
        "                                  nn.MaxPool2d(2)\n",
        "                                 )\n",
        "        \n",
        "    def forward(self, x):\n",
        "        out = self.main(x)\n",
        "        return out"
      ]
    },
    {
      "cell_type": "code",
      "execution_count": 55,
      "metadata": {
        "id": "t64ZySpa-4uH"
      },
      "outputs": [],
      "source": [
        "class VGG19(nn.Module):\n",
        "    def __init__(self):\n",
        "        super(VGG19, self).__init__()\n",
        "        \n",
        "        self.convlayer1 = ConvBlock1(3, 64)\n",
        "        self.convlayer2 = ConvBlock1(64, 128)\n",
        "        self.convlayer3 = ConvBlock2(128, 256)\n",
        "        self.convlayer4 = ConvBlock2(256, 512)\n",
        "        self.convlayer5 = ConvBlock2(512, 512)\n",
        "        self.linear = nn.Sequential(\n",
        "            nn.Linear(512, 512),\n",
        "            nn.ReLU(),\n",
        "            nn.Linear(512, 128),\n",
        "            nn.ReLU(),\n",
        "            nn.Linear(128, 10),\n",
        "        )\n",
        "    def forward(self, input):\n",
        "        out = self.convlayer1(input)    \n",
        "        out = self.convlayer2(out)\n",
        "        out = self.convlayer3(out)\n",
        "        out = self.convlayer4(out)\n",
        "        out = self.convlayer5(out).squeeze() # 16 x 512 x 1 x 1에서 뒤 1 x 1 축약 \n",
        "        out = self.linear(out)\n",
        "        return out\n"
      ]
    },
    {
      "cell_type": "markdown",
      "metadata": {
        "id": "3OJ3AF42UbVw"
      },
      "source": [
        "## Test Your Impelemetation"
      ]
    },
    {
      "cell_type": "code",
      "execution_count": 56,
      "metadata": {
        "id": "JD3mx_XCJudH",
        "colab": {
          "base_uri": "https://localhost:8080/"
        },
        "outputId": "f212ea96-34ed-44bc-fdd0-ac03a0ab02f7"
      },
      "outputs": [
        {
          "output_type": "stream",
          "name": "stdout",
          "text": [
            "VGG19(\n",
            "  (convlayer1): ConvBlock1(\n",
            "    (main): Sequential(\n",
            "      (0): Conv2d(3, 64, kernel_size=(3, 3), stride=(1, 1), padding=(1, 1))\n",
            "      (1): BatchNorm2d(64, eps=1e-05, momentum=0.1, affine=True, track_running_stats=True)\n",
            "      (2): ReLU()\n",
            "      (3): Conv2d(64, 64, kernel_size=(3, 3), stride=(1, 1), padding=(1, 1))\n",
            "      (4): BatchNorm2d(64, eps=1e-05, momentum=0.1, affine=True, track_running_stats=True)\n",
            "      (5): ReLU()\n",
            "      (6): MaxPool2d(kernel_size=2, stride=2, padding=0, dilation=1, ceil_mode=False)\n",
            "    )\n",
            "  )\n",
            "  (convlayer2): ConvBlock1(\n",
            "    (main): Sequential(\n",
            "      (0): Conv2d(64, 128, kernel_size=(3, 3), stride=(1, 1), padding=(1, 1))\n",
            "      (1): BatchNorm2d(128, eps=1e-05, momentum=0.1, affine=True, track_running_stats=True)\n",
            "      (2): ReLU()\n",
            "      (3): Conv2d(128, 128, kernel_size=(3, 3), stride=(1, 1), padding=(1, 1))\n",
            "      (4): BatchNorm2d(128, eps=1e-05, momentum=0.1, affine=True, track_running_stats=True)\n",
            "      (5): ReLU()\n",
            "      (6): MaxPool2d(kernel_size=2, stride=2, padding=0, dilation=1, ceil_mode=False)\n",
            "    )\n",
            "  )\n",
            "  (convlayer3): ConvBlock2(\n",
            "    (main): Sequential(\n",
            "      (0): Conv2d(128, 256, kernel_size=(3, 3), stride=(1, 1), padding=(1, 1))\n",
            "      (1): BatchNorm2d(256, eps=1e-05, momentum=0.1, affine=True, track_running_stats=True)\n",
            "      (2): ReLU()\n",
            "      (3): Conv2d(256, 256, kernel_size=(3, 3), stride=(1, 1), padding=(1, 1))\n",
            "      (4): BatchNorm2d(256, eps=1e-05, momentum=0.1, affine=True, track_running_stats=True)\n",
            "      (5): ReLU()\n",
            "      (6): Conv2d(256, 256, kernel_size=(3, 3), stride=(1, 1), padding=(1, 1))\n",
            "      (7): BatchNorm2d(256, eps=1e-05, momentum=0.1, affine=True, track_running_stats=True)\n",
            "      (8): ReLU()\n",
            "      (9): Conv2d(256, 256, kernel_size=(3, 3), stride=(1, 1), padding=(1, 1))\n",
            "      (10): BatchNorm2d(256, eps=1e-05, momentum=0.1, affine=True, track_running_stats=True)\n",
            "      (11): ReLU()\n",
            "      (12): MaxPool2d(kernel_size=2, stride=2, padding=0, dilation=1, ceil_mode=False)\n",
            "    )\n",
            "  )\n",
            "  (convlayer4): ConvBlock2(\n",
            "    (main): Sequential(\n",
            "      (0): Conv2d(256, 512, kernel_size=(3, 3), stride=(1, 1), padding=(1, 1))\n",
            "      (1): BatchNorm2d(512, eps=1e-05, momentum=0.1, affine=True, track_running_stats=True)\n",
            "      (2): ReLU()\n",
            "      (3): Conv2d(512, 512, kernel_size=(3, 3), stride=(1, 1), padding=(1, 1))\n",
            "      (4): BatchNorm2d(512, eps=1e-05, momentum=0.1, affine=True, track_running_stats=True)\n",
            "      (5): ReLU()\n",
            "      (6): Conv2d(512, 512, kernel_size=(3, 3), stride=(1, 1), padding=(1, 1))\n",
            "      (7): BatchNorm2d(512, eps=1e-05, momentum=0.1, affine=True, track_running_stats=True)\n",
            "      (8): ReLU()\n",
            "      (9): Conv2d(512, 512, kernel_size=(3, 3), stride=(1, 1), padding=(1, 1))\n",
            "      (10): BatchNorm2d(512, eps=1e-05, momentum=0.1, affine=True, track_running_stats=True)\n",
            "      (11): ReLU()\n",
            "      (12): MaxPool2d(kernel_size=2, stride=2, padding=0, dilation=1, ceil_mode=False)\n",
            "    )\n",
            "  )\n",
            "  (convlayer5): ConvBlock2(\n",
            "    (main): Sequential(\n",
            "      (0): Conv2d(512, 512, kernel_size=(3, 3), stride=(1, 1), padding=(1, 1))\n",
            "      (1): BatchNorm2d(512, eps=1e-05, momentum=0.1, affine=True, track_running_stats=True)\n",
            "      (2): ReLU()\n",
            "      (3): Conv2d(512, 512, kernel_size=(3, 3), stride=(1, 1), padding=(1, 1))\n",
            "      (4): BatchNorm2d(512, eps=1e-05, momentum=0.1, affine=True, track_running_stats=True)\n",
            "      (5): ReLU()\n",
            "      (6): Conv2d(512, 512, kernel_size=(3, 3), stride=(1, 1), padding=(1, 1))\n",
            "      (7): BatchNorm2d(512, eps=1e-05, momentum=0.1, affine=True, track_running_stats=True)\n",
            "      (8): ReLU()\n",
            "      (9): Conv2d(512, 512, kernel_size=(3, 3), stride=(1, 1), padding=(1, 1))\n",
            "      (10): BatchNorm2d(512, eps=1e-05, momentum=0.1, affine=True, track_running_stats=True)\n",
            "      (11): ReLU()\n",
            "      (12): MaxPool2d(kernel_size=2, stride=2, padding=0, dilation=1, ceil_mode=False)\n",
            "    )\n",
            "  )\n",
            "  (linear): Sequential(\n",
            "    (0): Linear(in_features=512, out_features=512, bias=True)\n",
            "    (1): ReLU()\n",
            "    (2): Linear(in_features=512, out_features=128, bias=True)\n",
            "    (3): ReLU()\n",
            "    (4): Linear(in_features=128, out_features=10, bias=True)\n",
            "  )\n",
            ")\n",
            "torch.Size([64, 10])\n"
          ]
        }
      ],
      "source": [
        "vgg19 = VGG19()\n",
        "print(vgg19)\n",
        "\n",
        "output = vgg19(sample_image)\n",
        "print(output.size())"
      ]
    },
    {
      "cell_type": "code",
      "execution_count": 57,
      "metadata": {
        "colab": {
          "base_uri": "https://localhost:8080/"
        },
        "id": "LhsmJFl3J_ur",
        "outputId": "e2fc6f66-0a86-4a90-c2f5-d667ca96b048"
      },
      "outputs": [
        {
          "output_type": "stream",
          "name": "stdout",
          "text": [
            "success!\n"
          ]
        }
      ],
      "source": [
        "def count_parameters(model):\n",
        "    return sum(p.numel() for p in model.parameters() if p.requires_grad)\n",
        "if count_parameters(vgg19) == 20365002:\n",
        "    print('success!')"
      ]
    },
    {
      "cell_type": "markdown",
      "metadata": {
        "id": "gf4OKtLe5mbx"
      },
      "source": [
        "# 2.2 CIFAR-10 Dataset\n",
        "\n",
        "50000 training images  \\\n",
        "10000 validation images \\\n",
        "\\\n",
        "10 classes = [airplane, car, truck, frog, ...]\n",
        "\\\n",
        "for more info, https://www.cs.toronto.edu/~kriz/cifar.html \n",
        "\n"
      ]
    },
    {
      "cell_type": "code",
      "source": [
        "from google.colab import drive\n",
        "drive.mount('/content/drive')"
      ],
      "metadata": {
        "colab": {
          "base_uri": "https://localhost:8080/"
        },
        "id": "S_A-NtOjhMpB",
        "outputId": "d05068e9-7067-4151-9cb8-19ebc1459ebe"
      },
      "execution_count": 58,
      "outputs": [
        {
          "output_type": "stream",
          "name": "stdout",
          "text": [
            "Drive already mounted at /content/drive; to attempt to forcibly remount, call drive.mount(\"/content/drive\", force_remount=True).\n"
          ]
        }
      ]
    },
    {
      "cell_type": "code",
      "execution_count": 59,
      "metadata": {
        "id": "-f1-pzCsPq6W"
      },
      "outputs": [],
      "source": [
        "# set hyperparameters\n",
        "batch_size = 64\n",
        "learning_rate = 0.0001\n",
        "num_epochs = 1"
      ]
    },
    {
      "cell_type": "code",
      "execution_count": 60,
      "metadata": {
        "colab": {
          "base_uri": "https://localhost:8080/"
        },
        "id": "qajNxxseGGB6",
        "outputId": "846c970d-72ae-4771-a2d8-4179a8acf22f"
      },
      "outputs": [
        {
          "output_type": "stream",
          "name": "stdout",
          "text": [
            "Files already downloaded and verified\n"
          ]
        }
      ],
      "source": [
        "# import torchvision.datasets as datasets\n",
        "\n",
        "train_dataset = datasets.CIFAR10(root='/content/drive/MyDrive/6. 20211227_DAY05/211227_실습자료_MNC/data',       # 50000장\n",
        "                            train=True, \n",
        "                            transform=transforms.ToTensor(),\n",
        "                            download=True)\n",
        "\n",
        "test_dataset = datasets.CIFAR10(root='/content/drive/MyDrive/6. 20211227_DAY05/211227_실습자료_MNC/data',        # 10000장\n",
        "                           train=False, \n",
        "                           transform=transforms.ToTensor())\n",
        "\n",
        "# 데이터 로더\n",
        "train_loader = torch.utils.data.DataLoader(dataset=train_dataset,\n",
        "                                           batch_size=batch_size, \n",
        "                                           shuffle=True)\n",
        "\n",
        "test_loader = torch.utils.data.DataLoader(dataset=test_dataset,\n",
        "                                          batch_size=batch_size, \n",
        "                                          shuffle=True)"
      ]
    },
    {
      "cell_type": "code",
      "execution_count": 61,
      "metadata": {
        "id": "vdz7yTsFOtuf"
      },
      "outputs": [],
      "source": [
        "import matplotlib.pyplot as plt\n",
        "import numpy as np\n",
        "\n",
        "\n",
        "def show_cifar10():\n",
        "    for images, _ in train_loader:\n",
        "        plt.figure(figsize=(8,8))\n",
        "        images_to_show = images.numpy().transpose((0,2,3,1))\n",
        "\n",
        "        for a in range(331, 340):  \n",
        "            plt.subplot(a)\n",
        "            plt.imshow(images_to_show[a-331])\n",
        "            plt.xticks([])\n",
        "            plt.yticks([])    \n",
        "            plt.show()   \n",
        "        break\n",
        "    return 0\n",
        "\n",
        "\n",
        "def loss_plot(acc):  \n",
        "    plt.plot(acc)\n",
        "    plt.xlabel('log')\n",
        "    plt.ylabel('accuracy')\n",
        "    plt.grid(True)\n",
        "    plt.show()\n",
        "    return 0\n",
        "\n",
        "import time\n",
        "class Timer():    \n",
        "    def __init__(self):\n",
        "        self.cur_t = time.time()\n",
        "\n",
        "    def tic(self):\n",
        "        self.cur_t = time.time()\n",
        "\n",
        "    def toc(self):\n",
        "        return time.time() - self.cur_t\n",
        "\n",
        "    def tocStr(self, t=-1):\n",
        "        if (t == -1):\n",
        "            return str(datetime.timedelta(seconds=np.round(time.time() - self.cur_t, 3)))[:-4]\n",
        "        else:\n",
        "            return str(datetime.timedelta(seconds=np.round(t, 3)))[:-4]\n",
        "          \n",
        "\n",
        "def test_on_cifar10(model, accuracy_list):  \n",
        "    # Test the Model       \n",
        "    model.eval()    # Change model to 'eval' mode (BN uses moving mean/var).\n",
        "    correct = 0\n",
        "    total = 0\n",
        "    for j, (images, labels) in enumerate(test_loader):\n",
        "        images = images.cuda()\n",
        "        outputs = model(images)\n",
        "        _, predicted = torch.max(outputs.data, 1)\n",
        "        total += labels.size(0)\n",
        "        correct += (predicted.cpu() == labels).sum()\n",
        "        if (j+1)%100==0:\n",
        "            break\n",
        "\n",
        "    print('Test Accuracy of the model on the 100 test images: %d %%' % (100 * correct.float() / total))\n",
        "    accuracy_list.append(100 * correct.float() / total) \n",
        "    return accuracy_list"
      ]
    },
    {
      "cell_type": "code",
      "execution_count": 62,
      "metadata": {
        "id": "ZVfe387o5eVm",
        "colab": {
          "base_uri": "https://localhost:8080/",
          "height": 828
        },
        "outputId": "e936bc1b-c159-4088-fe3e-f8f729854c2c"
      },
      "outputs": [
        {
          "output_type": "display_data",
          "data": {
            "image/png": "[encoded data removed]",
            "text/plain": [
              "<Figure size 576x576 with 1 Axes>"
            ]
          },
          "metadata": {}
        },
        {
          "output_type": "display_data",
          "data": {
            "image/png": "[encoded data removed]",
            "text/plain": [
              "<Figure size 432x288 with 1 Axes>"
            ]
          },
          "metadata": {}
        },
        {
          "output_type": "display_data",
          "data": {
            "image/png": "[encoded data removed]",
            "text/plain": [
              "<Figure size 432x288 with 1 Axes>"
            ]
          },
          "metadata": {}
        },
        {
          "output_type": "display_data",
          "data": {
            "image/png": "[encoded data removed]",
            "text/plain": [
              "<Figure size 432x288 with 1 Axes>"
            ]
          },
          "metadata": {}
        },
        {
          "output_type": "display_data",
          "data": {
            "image/png": "[encoded data removed]",
            "text/plain": [
              "<Figure size 432x288 with 1 Axes>"
            ]
          },
          "metadata": {}
        },
        {
          "output_type": "display_data",
          "data": {
            "image/png": "[encoded data removed]",
            "text/plain": [
              "<Figure size 432x288 with 1 Axes>"
            ]
          },
          "metadata": {}
        },
        {
          "output_type": "display_data",
          "data": {
            "image/png": "[encoded data removed]",
            "text/plain": [
              "<Figure size 432x288 with 1 Axes>"
            ]
          },
          "metadata": {}
        },
        {
          "output_type": "display_data",
          "data": {
            "image/png": "[encoded data removed]",
            "text/plain": [
              "<Figure size 432x288 with 1 Axes>"
            ]
          },
          "metadata": {}
        },
        {
          "output_type": "display_data",
          "data": {
            "image/png": "[encoded data removed]",
            "text/plain": [
              "<Figure size 432x288 with 1 Axes>"
            ]
          },
          "metadata": {}
        },
        {
          "output_type": "execute_result",
          "data": {
            "text/plain": [
              "0"
            ]
          },
          "metadata": {},
          "execution_count": 62
        }
      ],
      "source": [
        "show_cifar10()"
      ]
    },
    {
      "cell_type": "markdown",
      "metadata": {
        "id": "1sITqCxfOWjv"
      },
      "source": [
        "## Train Cifar-10 with your VGG-19"
      ]
    },
    {
      "cell_type": "code",
      "execution_count": 63,
      "metadata": {
        "id": "bd15jgp-Thej",
        "colab": {
          "base_uri": "https://localhost:8080/",
          "height": 532
        },
        "outputId": "35798987-1793-4f3b-97c9-123b9bfcc0ba"
      },
      "outputs": [
        {
          "output_type": "stream",
          "name": "stdout",
          "text": [
            "Epoch [1/1], Iter [100/781] Loss: 1.8665, iter_time: 23.07\n",
            "Test Accuracy of the model on the 100 test images: 24 %\n",
            "Epoch [1/1], Iter [200/781] Loss: 1.8297, iter_time: 28.41\n",
            "Test Accuracy of the model on the 100 test images: 29 %\n",
            "Epoch [1/1], Iter [300/781] Loss: 1.8288, iter_time: 28.35\n",
            "Test Accuracy of the model on the 100 test images: 32 %\n",
            "Epoch [1/1], Iter [400/781] Loss: 1.6680, iter_time: 28.35\n",
            "Test Accuracy of the model on the 100 test images: 36 %\n",
            "Epoch [1/1], Iter [500/781] Loss: 1.7637, iter_time: 28.34\n",
            "Test Accuracy of the model on the 100 test images: 38 %\n",
            "Epoch [1/1], Iter [600/781] Loss: 1.4865, iter_time: 28.34\n",
            "Test Accuracy of the model on the 100 test images: 42 %\n",
            "Epoch [1/1], Iter [700/781] Loss: 1.3145, iter_time: 28.40\n",
            "Test Accuracy of the model on the 100 test images: 43 %\n"
          ]
        },
        {
          "output_type": "display_data",
          "data": {
            "image/png": "[encoded data removed]",
            "text/plain": [
              "<Figure size 432x288 with 1 Axes>"
            ]
          },
          "metadata": {
            "needs_background": "light"
          }
        }
      ],
      "source": [
        "import torchvision.models as models\n",
        "vgg19 = models.vgg19_bn(pretrained=False)\n",
        "\n",
        "tell_time = Timer()\n",
        "iter_time = 0\n",
        "\n",
        "vgg19 = vgg19.cuda()\n",
        "criterion = nn.CrossEntropyLoss()\n",
        "optimizer = torch.optim.Adam(vgg19.parameters(), lr=learning_rate)\n",
        "\n",
        "accuracy_list = []\n",
        "for epoch in range(num_epochs):\n",
        "    vgg19.train()\n",
        "    for i, (images, labels) in enumerate(train_loader):\n",
        "        images = images.cuda()\n",
        "        labels = labels.cuda()\n",
        "\n",
        "        # Forward + Backward + Optimize\n",
        "        optimizer.zero_grad()\n",
        "        outputs = vgg19(images)\n",
        "        loss = criterion(outputs, labels)\n",
        "        loss.backward()\n",
        "        optimizer.step()\n",
        "\n",
        "        if (i+1) % 100 == 0:\n",
        "            print ('Epoch [%d/%d], Iter [%d/%d] Loss: %.4f, iter_time: %2.2f' \n",
        "                 %(epoch+1, num_epochs, i+1, len(train_dataset)//batch_size, loss.item(), tell_time.toc()-iter_time))\n",
        "            iter_time = tell_time.toc()    \n",
        "            accuracy_list = test_on_cifar10(vgg19, accuracy_list)\n",
        "\n",
        "    loss_plot(accuracy_list)"
      ]
    },
    {
      "cell_type": "markdown",
      "metadata": {
        "id": "ODBzyGVkUbVy"
      },
      "source": [
        "## Train Cifar-10 with pre-trained VGG-19"
      ]
    },
    {
      "cell_type": "code",
      "execution_count": 64,
      "metadata": {
        "id": "2wszStGbThqT"
      },
      "outputs": [],
      "source": [
        "import torchvision.models as models\n",
        "pre_vgg=models.vgg19_bn(pretrained=True)"
      ]
    },
    {
      "cell_type": "code",
      "source": [
        "pre_vgg"
      ],
      "metadata": {
        "colab": {
          "base_uri": "https://localhost:8080/"
        },
        "id": "d3QG5FRNkuFK",
        "outputId": "a5f3fd3f-9bcc-4f58-fcc2-bc6ce5ae6ed9"
      },
      "execution_count": 65,
      "outputs": [
        {
          "output_type": "execute_result",
          "data": {
            "text/plain": [
              "VGG(\n",
              "  (features): Sequential(\n",
              "    (0): Conv2d(3, 64, kernel_size=(3, 3), stride=(1, 1), padding=(1, 1))\n",
              "    (1): BatchNorm2d(64, eps=1e-05, momentum=0.1, affine=True, track_running_stats=True)\n",
              "    (2): ReLU(inplace=True)\n",
              "    (3): Conv2d(64, 64, kernel_size=(3, 3), stride=(1, 1), padding=(1, 1))\n",
              "    (4): BatchNorm2d(64, eps=1e-05, momentum=0.1, affine=True, track_running_stats=True)\n",
              "    (5): ReLU(inplace=True)\n",
              "    (6): MaxPool2d(kernel_size=2, stride=2, padding=0, dilation=1, ceil_mode=False)\n",
              "    (7): Conv2d(64, 128, kernel_size=(3, 3), stride=(1, 1), padding=(1, 1))\n",
              "    (8): BatchNorm2d(128, eps=1e-05, momentum=0.1, affine=True, track_running_stats=True)\n",
              "    (9): ReLU(inplace=True)\n",
              "    (10): Conv2d(128, 128, kernel_size=(3, 3), stride=(1, 1), padding=(1, 1))\n",
              "    (11): BatchNorm2d(128, eps=1e-05, momentum=0.1, affine=True, track_running_stats=True)\n",
              "    (12): ReLU(inplace=True)\n",
              "    (13): MaxPool2d(kernel_size=2, stride=2, padding=0, dilation=1, ceil_mode=False)\n",
              "    (14): Conv2d(128, 256, kernel_size=(3, 3), stride=(1, 1), padding=(1, 1))\n",
              "    (15): BatchNorm2d(256, eps=1e-05, momentum=0.1, affine=True, track_running_stats=True)\n",
              "    (16): ReLU(inplace=True)\n",
              "    (17): Conv2d(256, 256, kernel_size=(3, 3), stride=(1, 1), padding=(1, 1))\n",
              "    (18): BatchNorm2d(256, eps=1e-05, momentum=0.1, affine=True, track_running_stats=True)\n",
              "    (19): ReLU(inplace=True)\n",
              "    (20): Conv2d(256, 256, kernel_size=(3, 3), stride=(1, 1), padding=(1, 1))\n",
              "    (21): BatchNorm2d(256, eps=1e-05, momentum=0.1, affine=True, track_running_stats=True)\n",
              "    (22): ReLU(inplace=True)\n",
              "    (23): Conv2d(256, 256, kernel_size=(3, 3), stride=(1, 1), padding=(1, 1))\n",
              "    (24): BatchNorm2d(256, eps=1e-05, momentum=0.1, affine=True, track_running_stats=True)\n",
              "    (25): ReLU(inplace=True)\n",
              "    (26): MaxPool2d(kernel_size=2, stride=2, padding=0, dilation=1, ceil_mode=False)\n",
              "    (27): Conv2d(256, 512, kernel_size=(3, 3), stride=(1, 1), padding=(1, 1))\n",
              "    (28): BatchNorm2d(512, eps=1e-05, momentum=0.1, affine=True, track_running_stats=True)\n",
              "    (29): ReLU(inplace=True)\n",
              "    (30): Conv2d(512, 512, kernel_size=(3, 3), stride=(1, 1), padding=(1, 1))\n",
              "    (31): BatchNorm2d(512, eps=1e-05, momentum=0.1, affine=True, track_running_stats=True)\n",
              "    (32): ReLU(inplace=True)\n",
              "    (33): Conv2d(512, 512, kernel_size=(3, 3), stride=(1, 1), padding=(1, 1))\n",
              "    (34): BatchNorm2d(512, eps=1e-05, momentum=0.1, affine=True, track_running_stats=True)\n",
              "    (35): ReLU(inplace=True)\n",
              "    (36): Conv2d(512, 512, kernel_size=(3, 3), stride=(1, 1), padding=(1, 1))\n",
              "    (37): BatchNorm2d(512, eps=1e-05, momentum=0.1, affine=True, track_running_stats=True)\n",
              "    (38): ReLU(inplace=True)\n",
              "    (39): MaxPool2d(kernel_size=2, stride=2, padding=0, dilation=1, ceil_mode=False)\n",
              "    (40): Conv2d(512, 512, kernel_size=(3, 3), stride=(1, 1), padding=(1, 1))\n",
              "    (41): BatchNorm2d(512, eps=1e-05, momentum=0.1, affine=True, track_running_stats=True)\n",
              "    (42): ReLU(inplace=True)\n",
              "    (43): Conv2d(512, 512, kernel_size=(3, 3), stride=(1, 1), padding=(1, 1))\n",
              "    (44): BatchNorm2d(512, eps=1e-05, momentum=0.1, affine=True, track_running_stats=True)\n",
              "    (45): ReLU(inplace=True)\n",
              "    (46): Conv2d(512, 512, kernel_size=(3, 3), stride=(1, 1), padding=(1, 1))\n",
              "    (47): BatchNorm2d(512, eps=1e-05, momentum=0.1, affine=True, track_running_stats=True)\n",
              "    (48): ReLU(inplace=True)\n",
              "    (49): Conv2d(512, 512, kernel_size=(3, 3), stride=(1, 1), padding=(1, 1))\n",
              "    (50): BatchNorm2d(512, eps=1e-05, momentum=0.1, affine=True, track_running_stats=True)\n",
              "    (51): ReLU(inplace=True)\n",
              "    (52): MaxPool2d(kernel_size=2, stride=2, padding=0, dilation=1, ceil_mode=False)\n",
              "  )\n",
              "  (avgpool): AdaptiveAvgPool2d(output_size=(7, 7))\n",
              "  (classifier): Sequential(\n",
              "    (0): Linear(in_features=25088, out_features=4096, bias=True)\n",
              "    (1): ReLU(inplace=True)\n",
              "    (2): Dropout(p=0.5, inplace=False)\n",
              "    (3): Linear(in_features=4096, out_features=4096, bias=True)\n",
              "    (4): ReLU(inplace=True)\n",
              "    (5): Dropout(p=0.5, inplace=False)\n",
              "    (6): Linear(in_features=4096, out_features=1000, bias=True)\n",
              "  )\n",
              ")"
            ]
          },
          "metadata": {},
          "execution_count": 65
        }
      ]
    },
    {
      "cell_type": "code",
      "source": [
        "a = torch.zeros((4,3,32,32))\n",
        "pre_vgg.features(a).shape"
      ],
      "metadata": {
        "id": "07csXSfZgEJF",
        "colab": {
          "base_uri": "https://localhost:8080/"
        },
        "outputId": "efdfc374-c2f9-451e-c5af-85c19530d60b"
      },
      "execution_count": 66,
      "outputs": [
        {
          "output_type": "execute_result",
          "data": {
            "text/plain": [
              "torch.Size([4, 512, 1, 1])"
            ]
          },
          "metadata": {},
          "execution_count": 66
        }
      ]
    },
    {
      "cell_type": "code",
      "execution_count": 67,
      "metadata": {
        "id": "JBjKGJ7_lJxK"
      },
      "outputs": [],
      "source": [
        "class pretrained_vgg(nn.Module):\n",
        "    def __init__(self, pre_vgg):\n",
        "        super(pretrained_vgg, self).__init__()\n",
        "        self.features = nn.Sequential(   \n",
        "            *list(pre_vgg.features.children())\n",
        "        )\n",
        "        self.linear = nn.Sequential(\n",
        "            nn.Linear(512, 512),\n",
        "            nn.ReLU(),\n",
        "            nn.Linear(512, 128),\n",
        "            nn.ReLU(),\n",
        "            nn.Linear(128, 10),\n",
        "        )\n",
        "    def forward(self, x):\n",
        "        out = self.features(x).squeeze()\n",
        "        out = self.linear(out)\n",
        "        return out"
      ]
    },
    {
      "cell_type": "code",
      "execution_count": 68,
      "metadata": {
        "colab": {
          "base_uri": "https://localhost:8080/",
          "height": 532
        },
        "id": "8BWlG9AWlT3k",
        "outputId": "6c627a40-8fa8-4b70-8d33-12d858a22d65"
      },
      "outputs": [
        {
          "output_type": "stream",
          "name": "stdout",
          "text": [
            "Epoch [1/1], Iter [100/781] Loss: 1.1905, iter_time: 12.30\n",
            "Test Accuracy of the model on the 100 test images: 69 %\n",
            "Epoch [1/1], Iter [200/781] Loss: 0.7317, iter_time: 16.32\n",
            "Test Accuracy of the model on the 100 test images: 74 %\n",
            "Epoch [1/1], Iter [300/781] Loss: 0.6635, iter_time: 16.29\n",
            "Test Accuracy of the model on the 100 test images: 78 %\n",
            "Epoch [1/1], Iter [400/781] Loss: 0.7126, iter_time: 16.25\n",
            "Test Accuracy of the model on the 100 test images: 81 %\n",
            "Epoch [1/1], Iter [500/781] Loss: 0.5995, iter_time: 16.23\n",
            "Test Accuracy of the model on the 100 test images: 80 %\n",
            "Epoch [1/1], Iter [600/781] Loss: 0.6826, iter_time: 16.25\n",
            "Test Accuracy of the model on the 100 test images: 81 %\n",
            "Epoch [1/1], Iter [700/781] Loss: 0.5187, iter_time: 16.23\n",
            "Test Accuracy of the model on the 100 test images: 83 %\n"
          ]
        },
        {
          "output_type": "display_data",
          "data": {
            "image/png": "[encoded data removed]",
            "text/plain": [
              "<Figure size 432x288 with 1 Axes>"
            ]
          },
          "metadata": {
            "needs_background": "light"
          }
        }
      ],
      "source": [
        "vgg19 = pretrained_vgg(pre_vgg)\n",
        "\n",
        "tell_time = Timer()\n",
        "iter_time = 0\n",
        "\n",
        "vgg19 = vgg19.cuda()\n",
        "criterion = nn.CrossEntropyLoss()\n",
        "optimizer = torch.optim.Adam(vgg19.parameters(), lr=learning_rate)\n",
        "\n",
        "accuracy_list = []\n",
        "for epoch in range(num_epochs):\n",
        "    vgg19.train()\n",
        "    for i, (images, labels) in enumerate(train_loader):\n",
        "        images = images.cuda()\n",
        "        labels = labels.cuda()\n",
        "\n",
        "        # Forward + Backward + Optimize\n",
        "        optimizer.zero_grad()\n",
        "        outputs = vgg19(images)\n",
        "        loss = criterion(outputs, labels)\n",
        "        loss.backward()\n",
        "        optimizer.step()\n",
        "\n",
        "        if (i+1) % 100 == 0:\n",
        "            print ('Epoch [%d/%d], Iter [%d/%d] Loss: %.4f, iter_time: %2.2f' \n",
        "                 %(epoch+1, num_epochs, i+1, len(train_dataset)//batch_size, loss.item(), tell_time.toc()-iter_time))\n",
        "            iter_time = tell_time.toc()    \n",
        "            accuracy_list = test_on_cifar10(vgg19, accuracy_list)\n",
        "\n",
        "    loss_plot(accuracy_list)"
      ]
    },
    {
      "cell_type": "markdown",
      "source": [
        "# ASSIGNMENT : Change the vgg model to resnet model and re-training"
      ],
      "metadata": {
        "collapsed": false,
        "pycharm": {
          "name": "#%% md\n"
        },
        "id": "cUIR0LHlUbVz"
      }
    },
    {
      "cell_type": "code",
      "source": [
        "# https://github.com/pytorch/vision/blob/main/torchvision/models/resnet.py\n",
        "resnet18 = models.resnet18(pretrained=True)"
      ],
      "metadata": {
        "id": "PqcsVSVTiDcz"
      },
      "execution_count": 79,
      "outputs": []
    },
    {
      "cell_type": "code",
      "source": [
        "a = torch.zeros((4,3,32,32))\n",
        "o = resnet18(a)\n",
        "print(o.shape)"
      ],
      "metadata": {
        "colab": {
          "base_uri": "https://localhost:8080/"
        },
        "id": "TcRiEKBwh57k",
        "outputId": "10bce247-a500-4d3a-b23d-b9f56092d4d3"
      },
      "execution_count": 80,
      "outputs": [
        {
          "output_type": "stream",
          "name": "stdout",
          "text": [
            "torch.Size([4, 1000])\n"
          ]
        }
      ]
    },
    {
      "cell_type": "code",
      "source": [
        "# hint !!!\n",
        "test_layers = nn.Sequential(   \n",
        "            *list(resnet18.children())\n",
        "        )\n",
        "o = test_layers[:-1](a)\n",
        "print(o.shape)"
      ],
      "metadata": {
        "colab": {
          "base_uri": "https://localhost:8080/"
        },
        "id": "YBC2UHD4j5AU",
        "outputId": "b6e3abd8-89df-4fe2-a6fa-471bcff886a3"
      },
      "execution_count": 73,
      "outputs": [
        {
          "output_type": "stream",
          "name": "stdout",
          "text": [
            "torch.Size([4, 512, 1, 1])\n"
          ]
        }
      ]
    },
    {
      "cell_type": "code",
      "source": [
        ""
      ],
      "metadata": {
        "id": "QbhWlbTjjyZM"
      },
      "execution_count": null,
      "outputs": []
    },
    {
      "cell_type": "code",
      "source": [
        "class pretrained_resnet(nn.Module):\n",
        "    def __init__(self, resnet18):\n",
        "        super(pretrained_resnet, self).__init__()\n",
        "        self.features = nn.Sequential(   \n",
        "            *list(resnet18.children())\n",
        "        )\n",
        "        self.features = self.features[:-1]\n",
        "         \n",
        "\n",
        "        self.linear = nn.Sequential(\n",
        "            nn.Linear(512, 512),\n",
        "            nn.ReLU(),\n",
        "            nn.Linear(512, 128),\n",
        "            nn.ReLU(),\n",
        "            nn.Linear(128, 10)\n",
        "        )\n",
        "    def forward(self, x):\n",
        "        out = self.features(x).view(-1, 512*1*1) \n",
        "        out = self.linear(out)\n",
        "        return out\n"
      ],
      "metadata": {
        "id": "F33a8Fw7hR5l"
      },
      "execution_count": 84,
      "outputs": []
    },
    {
      "cell_type": "code",
      "source": [
        "# set hyperparameters\n",
        "learning_rate = 0.00005\n",
        "num_epochs = 2"
      ],
      "metadata": {
        "id": "2VFORmPNlCvs"
      },
      "execution_count": 85,
      "outputs": []
    },
    {
      "cell_type": "code",
      "source": [
        "resnet_our = pretrained_resnet(resnet18)\n",
        "\n",
        "tell_time = Timer()\n",
        "iter_time = 0\n",
        "\n",
        "resnet_our = resnet_our.cuda()\n",
        "criterion = nn.CrossEntropyLoss()\n",
        "optimizer = torch.optim.Adam(resnet_our.parameters(), lr=learning_rate)\n",
        "\n",
        "accuracy_list = []\n",
        "for epoch in range(num_epochs):\n",
        "    resnet_our.train()\n",
        "    for i, (images, labels) in enumerate(train_loader):\n",
        "        images = images.cuda()\n",
        "        labels = labels.cuda()\n",
        "\n",
        "        # Forward + Backward + Optimize\n",
        "        optimizer.zero_grad()\n",
        "        outputs = resnet_our(images)\n",
        "        loss = criterion(outputs, labels)\n",
        "        loss.backward()\n",
        "        optimizer.step()\n",
        "\n",
        "        if (i+1) % 100 == 0:\n",
        "            print ('Epoch [%d/%d], Iter [%d/%d] Loss: %.4f, iter_time: %2.2f' \n",
        "                 %(epoch+1, num_epochs, i+1, len(train_dataset)//batch_size, loss.item(), tell_time.toc()-iter_time))\n",
        "            iter_time = tell_time.toc()    \n",
        "            accuracy_list = test_on_cifar10(resnet_our, accuracy_list)\n",
        "\n",
        "    loss_plot(accuracy_list)"
      ],
      "metadata": {
        "id": "Q30NJhaOkwOS",
        "colab": {
          "base_uri": "https://localhost:8080/",
          "height": 1000
        },
        "outputId": "01889939-cf30-4e66-b308-735baa026d18"
      },
      "execution_count": 86,
      "outputs": [
        {
          "output_type": "stream",
          "name": "stdout",
          "text": [
            "Epoch [1/2], Iter [100/781] Loss: 1.7577, iter_time: 7.34\n",
            "Test Accuracy of the model on the 100 test images: 45 %\n",
            "Epoch [1/2], Iter [200/781] Loss: 1.0715, iter_time: 9.52\n",
            "Test Accuracy of the model on the 100 test images: 63 %\n",
            "Epoch [1/2], Iter [300/781] Loss: 1.1095, iter_time: 9.50\n",
            "Test Accuracy of the model on the 100 test images: 68 %\n",
            "Epoch [1/2], Iter [400/781] Loss: 0.9148, iter_time: 9.46\n",
            "Test Accuracy of the model on the 100 test images: 70 %\n",
            "Epoch [1/2], Iter [500/781] Loss: 0.5981, iter_time: 9.47\n",
            "Test Accuracy of the model on the 100 test images: 72 %\n",
            "Epoch [1/2], Iter [600/781] Loss: 0.9675, iter_time: 9.51\n",
            "Test Accuracy of the model on the 100 test images: 73 %\n",
            "Epoch [1/2], Iter [700/781] Loss: 0.8567, iter_time: 9.44\n",
            "Test Accuracy of the model on the 100 test images: 74 %\n"
          ]
        },
        {
          "output_type": "display_data",
          "data": {
            "image/png": "[encoded data removed]",
            "text/plain": [
              "<Figure size 432x288 with 1 Axes>"
            ]
          },
          "metadata": {
            "needs_background": "light"
          }
        },
        {
          "output_type": "stream",
          "name": "stdout",
          "text": [
            "Epoch [2/2], Iter [100/781] Loss: 0.7836, iter_time: 15.35\n",
            "Test Accuracy of the model on the 100 test images: 71 %\n",
            "Epoch [2/2], Iter [200/781] Loss: 0.5273, iter_time: 9.43\n",
            "Test Accuracy of the model on the 100 test images: 73 %\n",
            "Epoch [2/2], Iter [300/781] Loss: 0.6372, iter_time: 9.41\n",
            "Test Accuracy of the model on the 100 test images: 76 %\n",
            "Epoch [2/2], Iter [400/781] Loss: 0.6391, iter_time: 9.41\n",
            "Test Accuracy of the model on the 100 test images: 76 %\n",
            "Epoch [2/2], Iter [500/781] Loss: 0.5060, iter_time: 9.46\n",
            "Test Accuracy of the model on the 100 test images: 77 %\n",
            "Epoch [2/2], Iter [600/781] Loss: 0.5424, iter_time: 9.40\n",
            "Test Accuracy of the model on the 100 test images: 75 %\n",
            "Epoch [2/2], Iter [700/781] Loss: 0.6512, iter_time: 9.49\n",
            "Test Accuracy of the model on the 100 test images: 78 %\n"
          ]
        },
        {
          "output_type": "display_data",
          "data": {
            "image/png": "[encoded data removed]",
            "text/plain": [
              "<Figure size 432x288 with 1 Axes>"
            ]
          },
          "metadata": {
            "needs_background": "light"
          }
        }
      ]
    },
    {
      "cell_type": "code",
      "source": [
        ""
      ],
      "metadata": {
        "id": "4NBVmcTYlAki"
      },
      "execution_count": null,
      "outputs": []
    }
  ],
  "metadata": {
    "accelerator": "GPU",
    "colab": {
      "collapsed_sections": [],
      "name": "1_VGG.ipynb",
      "provenance": []
    },
    "kernelspec": {
      "display_name": "Python 3",
      "language": "python",
      "name": "python3"
    },
    "language_info": {
      "codemirror_mode": {
        "name": "ipython",
        "version": 3
      },
      "file_extension": ".py",
      "mimetype": "text/x-python",
      "name": "python",
      "nbconvert_exporter": "python",
      "pygments_lexer": "ipython3",
      "version": "3.7.8"
    }
  },
  "nbformat": 4,
  "nbformat_minor": 0
}