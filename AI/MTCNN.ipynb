{
 "cells": [
  {
   "cell_type": "markdown",
   "metadata": {},
   "source": [
    "# MTCNN\n",
    "* CNN을 활용하여 얼굴 인식 성능을 끌어올림.\n",
    "\n",
    "## Core Idea\n",
    "* Face Detection, Face Alignment 두 Tasks 가 서로 긴밀히 연결되어 있을 것이다.\n",
    "* 얼굴 위치를 알려주는 박스 위치를 조절하는 bounding box regression task 를 추가.\n",
    "* Face Detection, Face Alighment, Bounding box regression  이 세가지 테스크를  동시에 학습시키면 시너지가 있을것으로 예상, 학습 자체도 단순해짐.\n",
    "* P-net, R-net, O-net 이라는 세가지 CNN 을 차례로 통과하는 Cascade 모델이 제안됨.  \n"
   ]
  },
  {
   "cell_type": "markdown",
   "metadata": {},
   "source": [
    "## P-net\n",
    "* 입력 이미지를 여러 단계로 resize한 이미지 list 를 만듬.\n",
    "* ex) 300x200, 200x166, 30x30 다양한 사이즈로 잘라낸 이미지 리스트 생성.\n",
    "* 이렇게 하면 작은 얼굴도 검출할 수 있다.\n"
   ]
  },
  {
   "cell_type": "markdown",
   "metadata": {},
   "source": []
  },
  {
   "cell_type": "markdown",
   "metadata": {},
   "source": []
  },
  {
   "cell_type": "markdown",
   "metadata": {},
   "source": []
  }
 ],
 "metadata": {
  "language_info": {
   "name": "python"
  },
  "orig_nbformat": 4
 },
 "nbformat": 4,
 "nbformat_minor": 2
}
