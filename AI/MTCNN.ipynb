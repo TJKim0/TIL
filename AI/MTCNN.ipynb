{
 "cells": [
  {
   "cell_type": "markdown",
   "metadata": {},
   "source": [
    "# MTCNN\n",
    "* CNN을 활용하여 얼굴 인식 성능을 끌어올림.\n",
    "\n",
    "## Core Idea\n",
    "* Face Detection, Face Alignment 두 Tasks 가 서로 긴밀히 연결되어 있을 것이다.\n",
    "* 얼굴 위치를 알려주는 박스 위치를 조절하는 bounding box regression task 를 추가.\n",
    "* Face Detection, Face Alighment, Bounding box regression  이 세가지 테스크를  동시에 학습시키면 시너지가 있을것으로 예상, 학습 자체도 단순해짐.\n",
    "* P-net, R-net, O-net 이라는 세가지 CNN 을 차례로 통과하는 Cascade 모델이 제안됨.  \n"
   ]
  },
  {
   "cell_type": "markdown",
   "metadata": {},
   "source": [
    "## P-net\n",
    "* 입력 이미지를 여러 단계로 resize한 이미지 list 를 만듬.\n",
    "* ex) 300x200, 200x166, 30x30 다양한 사이즈로 잘라낸 이미지 리스트 생성.\n",
    "* 이렇게 하면 작은 얼굴도 검출할 수 있다.\n",
    "\n",
    "1. P-Net gets input. Small size of (12x12x3).\n",
    "2. Only Conv layers are used(no fc), and return \n",
    "* Face classification\n",
    "* X Y axis and widths of Face area boxes\n",
    "* 4 bounding box regeression values which represent the size\n",
    "* 10 Landmark localization values that represent x y axis of each part of face\n",
    "3. 위에서 만든 이미지 피라미드를 입력받아서 각각 이미지에 12x12 크기의 윈도우로 스캔하여 얼굴 영역을 찾는다.\n",
    "\n",
    "* 앞서 구한 박스들을 모두 24x24 크기로 resize. 그 다음 R-Net을 통과\n"
   ]
  },
  {
   "cell_type": "markdown",
   "metadata": {},
   "source": [
    "## R-Net\n",
    "* P-net 과 비슷하나 R-Net  에선 FC 가 사용됨.\n",
    "* R-Net에서 찾아낸 박스는 마찬가지로 원래 입력 이미지 크기로 되돌린 다음, NMS와 BBR을 적용.\n",
    "* R-net 에서 찾아낸 박스는 O-net 으로 전달됨.\n"
   ]
  },
  {
   "cell_type": "markdown",
   "metadata": {},
   "source": [
    "## O-Net\n",
    "* O-Net은 R-Net을 통해 찾아낸 박스들을 모두 48x48 크기로 resize한 것을 입력으로 받음.\n",
    "* 여러번의 Conv Layer 와 FC layer 를 거쳐 3 종류의 output을 얻음. (face classification, bounding box regression, facial landmark localization)\n",
    "* 위 output 은 Face Detection, Face Alignment 결과값임."
   ]
  },
  {
   "cell_type": "markdown",
   "metadata": {},
   "source": [
    "## How to recognize face\n",
    "* Face verification / identification\n",
    "    * Face verification : 이미지 2장이 같은 identity인지 아닌지 분류\n",
    "    * Face identification : Gallery set 혹은Training set에 있는 identity 중에 일치하는 identity로 분류\n",
    "* Closed / Open-set\n",
    "    * Closed set : Training set에 있는 identity를Test set에서 분류 (Classification Problem)\n",
    "    * Open set : Training set에 없는 identity를Test set에서 분류 (Metric Learning Problem)"
   ]
  },
  {
   "cell_type": "markdown",
   "metadata": {},
   "source": []
  }
 ],
 "metadata": {
  "language_info": {
   "name": "python"
  },
  "orig_nbformat": 4
 },
 "nbformat": 4,
 "nbformat_minor": 2
}
