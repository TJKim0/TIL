{
 "cells": [
  {
   "cell_type": "markdown",
   "metadata": {},
   "source": [
    "# 머신러닝과 딥러닝의 이해\n",
    "## 지도학습 (Supervised learning)\n",
    "* 분류모델 (Classification models)\n",
    "* 회귀모델 (Regression models)\n",
    "\n",
    "## 비지도 학습 (Unsupervised learning)\n",
    "* 클러스터링\n",
    "* Density estimation\n",
    "* Dimension reduction\n",
    "* Anomaly detection"
   ]
  },
  {
   "cell_type": "markdown",
   "metadata": {},
   "source": [
    "### 데이터 형태 종류\n",
    "* vector, matrix, tensor\n",
    "    * 정형 데이터 : (sequence length x feature) 형태의 matrix. ex) 시계열 데이터\n",
    "    * 이미지 데이터 : (3 x W x H ) 형태의 tensor.\n",
    "    * 언어 데이터 : (sequence length) 현태의 vector."
   ]
  },
  {
   "cell_type": "markdown",
   "metadata": {},
   "source": [
    "### 모델\n",
    "* 입력된 데이터를 vector, matrix, tensor 연산을 통해 새로운 결과를 도출."
   ]
  },
  {
   "cell_type": "markdown",
   "metadata": {},
   "source": [
    "### 손실 함수 (Loss function)\n",
    "* 모델이 입력된 데이터를 어떻게 모델링 할 것인지 결정."
   ]
  },
  {
   "cell_type": "markdown",
   "metadata": {},
   "source": [
    "### 최적화 방법\n",
    "* 모델이 손실함수를 어떤 방식으로 최적화 할 것인지 결정."
   ]
  },
  {
   "cell_type": "markdown",
   "metadata": {},
   "source": []
  }
 ],
 "metadata": {
  "language_info": {
   "name": "python"
  },
  "orig_nbformat": 4
 },
 "nbformat": 4,
 "nbformat_minor": 2
}
