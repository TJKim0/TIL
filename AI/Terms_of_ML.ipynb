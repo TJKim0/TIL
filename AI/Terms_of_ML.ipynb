{
 "cells": [
  {
   "cell_type": "markdown",
   "id": "168105e9",
   "metadata": {},
   "source": [
    "# 용어 정리 ㅇㅇ\n",
    "\n",
    "\n",
    "## 기계학습 데이터의 구성 요소\n",
    "\n",
    "### 데이터의 구성 요소\n",
    "* Data items  : 말그대로 데이터 아이템. data items 를 바탕으로 train 한다. \n",
    "* Features (attributes, dimensions) : input. \n",
    "                                      A feature is an individual measurable property or characteristic of a phenomenon\n",
    "                                      특징, 현상, 속성. 기계 학습 결과에 영향을 미치는 요소들을 말함.\n",
    "* Labels : output.  \n",
    "           A label is the thing we're predicting\n",
    "           우리가 예측하고자 하는 것들. 결과.\n",
    "  \n",
    "\n",
    "### Feature 및 label의 형태\n",
    "* Continuous :  연속성을 가진 값. 무한대 < continuous value < 무한대\n",
    "* Discrete : \n",
    "    - Categorical (nominal) : \n",
    "    - Ordinal :"
   ]
  },
  {
   "cell_type": "code",
   "execution_count": null,
   "id": "0fcc78f6",
   "metadata": {},
   "outputs": [],
   "source": []
  }
 ],
 "metadata": {
  "kernelspec": {
   "display_name": "Python 3 (ipykernel)",
   "language": "python",
   "name": "python3"
  },
  "language_info": {
   "codemirror_mode": {
    "name": "ipython",
    "version": 3
   },
   "file_extension": ".py",
   "mimetype": "text/x-python",
   "name": "python",
   "nbconvert_exporter": "python",
   "pygments_lexer": "ipython3",
   "version": "3.9.7"
  }
 },
 "nbformat": 4,
 "nbformat_minor": 5
}
