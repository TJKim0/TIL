{
 "cells": [
  {
   "cell_type": "markdown",
   "id": "168105e9",
   "metadata": {},
   "source": [
    "# 용어 정리 ㅇㅇ\n",
    "\n",
    "\n",
    "## 기계학습 데이터의 구성 요소\n",
    "\n",
    "### 데이터의 구성 요소\n",
    "* Data items  : 말그대로 데이터 아이템. data items 를 바탕으로 train 한다. \n",
    "* Features (attributes, dimensions) : input. \n",
    "                                      A feature is an individual measurable property or characteristic of a phenomenon\n",
    "                                      특징, 현상, 속성. 기계 학습 결과에 영향을 미치는 요소들을 말함.\n",
    "* Labels : output.  \n",
    "           A label is the thing we're predicting\n",
    "           우리가 예측하고자 하는 것들. 결과.\n",
    "  \n",
    "\n",
    "### Feature 및 label의 형태\n",
    "* Continuous :  연속성을 가진 값. 무한대 < continuous value < 무한대\n",
    "* Discrete : Discrete data has distinct values while continuous data has an infinite number of potential values in a range.\n",
    "    - Categorical (nominal) : 명목 자료. 카테고리화 할 수 있는 자료. 여러 categories(예, 청팀, 백팀, 홍팀)들 중 하나의 이름에 데이터를 분류할 수 있을 때 사용됨.\n",
    "                            \n",
    "    - Ordinal : 순서 자료. 순서가 있는 자료. 예를 들면 청팀이 이길 가능성에 대해 survey를 하는 경우 그 답변을 \"5. 매우 높다.\n",
    "\n",
    "\n",
    "### Ground truth\n",
    "* 직접 관찰,    측정에 의해 제공 되는 사실 정보. 팩트. 값."
   ]
  },
  {
   "cell_type": "markdown",
   "id": "f3408c07",
   "metadata": {},
   "source": [
    "# DCGAN\n",
    "* 내분점을 활용. 가상의 이미지를 만들어 실제에 가깝게 mapping."
   ]
  },
  {
   "cell_type": "markdown",
   "id": "483ca57c",
   "metadata": {},
   "source": [
    "# Progreessive GAN\n",
    "* 이미지 내에서 모든 scale의 feature들(coarse & fine)을 동시에 학습시키는 기존의 GAN들과는 다르게 Progressive GAN에서는 우선 이미지 분포에서 large-scale의 structure인 얼굴윤곽, 피부색 등을 저해상도로 먼저 학습시키고 이후 점진적으로 더 finer한(미세한) 특징들(눈동자 색깔, 머리카락의 곱슬거림 등)를 집중하여 학습하도록 한다. "
   ]
  },
  {
   "cell_type": "markdown",
   "id": "e71103b1",
   "metadata": {},
   "source": [
    "# AdalN\n",
    "* a 의 사진에 b 라는 그림의 스타일을 적용시키는 operation module. 스타일 정보는 픽셀의 평균 분산값."
   ]
  },
  {
   "cell_type": "markdown",
   "id": "4687b74a",
   "metadata": {},
   "source": [
    "# StyleGAN\n",
    "* "
   ]
  },
  {
   "cell_type": "markdown",
   "id": "7c28d4ab",
   "metadata": {},
   "source": [
    "# Image translation"
   ]
  },
  {
   "cell_type": "markdown",
   "id": "c79cfe76",
   "metadata": {},
   "source": [
    "# pix2pix : CGAN - based Architecture\n",
    "* sketch image 를  바탕으로 full color image 을 만들어냄 .\n",
    "* 사진에서 에서 edge 추출 algorithm 으로 edge 만 추출. generator G 의 인코더 디코더를 통과하면 full color 새로운 사진을 뱉어냄.\n",
    "* \n",
    "## discriminator 의 존재 이유\n",
    "* loss function 이 완벽하지 않음.\n",
    "* full color image 의 ground truth 값에 대해,  ??"
   ]
  },
  {
   "cell_type": "markdown",
   "id": "820fba8e",
   "metadata": {},
   "source": [
    "# CycleGAN\n",
    "* 실제 image A 를 바탕으로 fake image B 를 생성. 다시 B 에서 Generator 를 통과하여 A reconstruct.\n",
    "* A to B to A"
   ]
  }
 ],
 "metadata": {
  "kernelspec": {
   "display_name": "Python 3 (ipykernel)",
   "language": "python",
   "name": "python3"
  },
  "language_info": {
   "codemirror_mode": {
    "name": "ipython",
    "version": 3
   },
   "file_extension": ".py",
   "mimetype": "text/x-python",
   "name": "python",
   "nbconvert_exporter": "python",
   "pygments_lexer": "ipython3",
   "version": "3.9.7"
  }
 },
 "nbformat": 4,
 "nbformat_minor": 5
}
