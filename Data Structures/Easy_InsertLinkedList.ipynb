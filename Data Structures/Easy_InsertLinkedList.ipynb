{
 "cells": [
  {
   "cell_type": "markdown",
   "metadata": {},
   "source": [
    "# [Problem Link](https://www.hackerrank.com/challenges/insert-a-node-at-the-tail-of-a-linked-list/problem?isFullScreen=true)\n",
    "\n",
    "* Tail 과 Head 를 반대로 알고 있어서 문제 이해하는데 오래걸림 .\n",
    "* Tail 이 오른쪽. Head 가 왼쪽. "
   ]
  },
  {
   "cell_type": "code",
   "execution_count": null,
   "metadata": {},
   "outputs": [],
   "source": [
    "def insertNodeAtTail(head, data):\n",
    "    if head == None:\n",
    "        return SinglyLinkedListNode(data)\n",
    "    pnt = head\n",
    "    while pnt.next:\n",
    "        pnt = pnt.next\n",
    "    pnt.next = SinglyLinkedListNode(data)\n",
    "    return head"
   ]
  }
 ],
 "metadata": {
  "language_info": {
   "name": "python"
  },
  "orig_nbformat": 4
 },
 "nbformat": 4,
 "nbformat_minor": 2
}
