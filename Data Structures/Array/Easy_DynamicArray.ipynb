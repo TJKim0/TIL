{
 "cells": [
  {
   "cell_type": "markdown",
   "metadata": {},
   "source": [
    "# [Problem Link](https://www.hackerrank.com/challenges/dynamic-array/problem?isFullScreen=true)\n",
    "\n",
    "* Exclusive or 는 우리말로 배타적 논리합. XOR 이라고도 함. XOR 연산은 두 값의 각 자릿수를 비교해, 값이 같으면 0, 다르면 1을 뱉는다. ex) 0101 XOR 0011 = 0110\n",
    "* 파이썬에서 XOR 연산자는 '^'"
   ]
  },
  {
   "cell_type": "code",
   "execution_count": null,
   "metadata": {},
   "outputs": [],
   "source": [
    "first_multiple_input = input().rstrip().split()\n",
    "\n",
    "n = int(first_multiple_input[0])\n",
    "q = int(first_multiple_input[1])\n",
    "\n",
    "queries = []\n",
    "for _ in range(q):\n",
    "    queries.append(list(map(int, input().rstrip().split())))\n",
    "\n",
    "def dynamicArray(n, queries):\n",
    "    # Write your code here\n",
    "    sequences = [[] for x in range(n)]\n",
    "    answer = []\n",
    "    lastAns = 0\n",
    "    for query in queries :\n",
    "        action, i, v = list(map(int, query))\n",
    "        idx = (i^lastAns)%n\n",
    "        if action == 1:\n",
    "                sequences[idx].append(v)\n",
    "        else :\n",
    "            temp =sequences[idx]\n",
    "            lastAns = sequences[idx][v%len(temp)]\n",
    "            answer.append(lastAns)\n",
    "    return answer\n",
    "\n",
    "\n",
    "for answer in dynamicArray(n, queries) :\n",
    "    print(answer)\n"
   ]
  }
 ],
 "metadata": {
  "interpreter": {
   "hash": "cbc1630f6ac27d00c9f4ea5ff59d07a3d2920d2fb3e683b05679c37215caa53f"
  },
  "kernelspec": {
   "display_name": "Python 3.7.9 64-bit",
   "language": "python",
   "name": "python3"
  },
  "language_info": {
   "codemirror_mode": {
    "name": "ipython",
    "version": 3
   },
   "file_extension": ".py",
   "mimetype": "text/x-python",
   "name": "python",
   "nbconvert_exporter": "python",
   "pygments_lexer": "ipython3",
   "version": "3.7.9"
  },
  "orig_nbformat": 4
 },
 "nbformat": 4,
 "nbformat_minor": 2
}
