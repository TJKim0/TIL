{
 "cells": [
  {
   "cell_type": "markdown",
   "metadata": {},
   "source": [
    "# [Problem Link](https://www.hackerrank.com/challenges/sparse-arrays/problem?isFullScreen=true)\n",
    "\n",
    "* Collections 라이브러리의 Counter 모듈을 활용하면 2초만에 테스트가 완료됨.\n",
    "* 가능하면 반복문 사용을 최소화 하는게 연산이 빠른것 같다."
   ]
  },
  {
   "cell_type": "code",
   "execution_count": 11,
   "metadata": {},
   "outputs": [
    {
     "name": "stdout",
     "output_type": "stream",
     "text": [
      "[2, 1, 0]\n"
     ]
    }
   ],
   "source": [
    "# my code\n",
    "def matchingStrings(strings, queries):\n",
    "    # Write your code here\n",
    "    \n",
    "    res = []\n",
    "\n",
    "    for i in queries :\n",
    "        temp = 0\n",
    "        for j in strings :\n",
    "            if i == j :\n",
    "                temp += 1\n",
    "        res.append(temp)\n",
    "    return res\n",
    "\n",
    "strings_count = int(input().strip())\n",
    "\n",
    "strings = []\n",
    "\n",
    "for _ in range(strings_count):\n",
    "    strings_item = input()\n",
    "    strings.append(strings_item)\n",
    "\n",
    "queries_count = int(input().strip())\n",
    "\n",
    "queries = []\n",
    "\n",
    "for _ in range(queries_count):\n",
    "    queries_item = input()\n",
    "    queries.append(queries_item)\n",
    "\n",
    "print(matchingStrings(strings, queries))\n"
   ]
  },
  {
   "cell_type": "code",
   "execution_count": null,
   "metadata": {},
   "outputs": [],
   "source": [
    "# better way using Counter\n",
    "from collections import Counter\n",
    "\n",
    "def matchingStrings(strings, queries):\n",
    "    c = Counter(strings)\n",
    "    return (c[i] for i in queries)\n",
    "\n",
    "n = int(input())\n",
    "strings = [input() for _ in range(n)]\n",
    "q = int(input())\n",
    "queries = [input() for _ in range(q)]\n",
    "print(*matchingStrings(strings, queries),sep=\"\\n\")"
   ]
  }
 ],
 "metadata": {
  "interpreter": {
   "hash": "4678abd6084eb1ff4caf7c8f321e9f37cb26f34e995ff1ac49ce125bd15706f3"
  },
  "kernelspec": {
   "display_name": "Python 3.9.9 64-bit (windows store)",
   "language": "python",
   "name": "python3"
  },
  "language_info": {
   "codemirror_mode": {
    "name": "ipython",
    "version": 3
   },
   "file_extension": ".py",
   "mimetype": "text/x-python",
   "name": "python",
   "nbconvert_exporter": "python",
   "pygments_lexer": "ipython3",
   "version": "3.9.9"
  },
  "orig_nbformat": 4
 },
 "nbformat": 4,
 "nbformat_minor": 2
}
