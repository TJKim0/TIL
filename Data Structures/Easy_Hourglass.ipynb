{
 "cells": [
  {
   "cell_type": "markdown",
   "metadata": {},
   "source": [
    "# [Problem Link](https://www.hackerrank.com/challenges/2d-array/problem?isFullScreen=true)\n",
    "\n",
    "* 2차원 배열을 다룰 수 있는지 물어보는 기본 문제.\n",
    "* 이유는 모르겠으나, 사이트에 주어진 환경에서 코드를 작성하면 채점이 제대로 되지 않는다.\n",
    "* 전부 지우고 아래 코드를 넣으니 정상 작동."
   ]
  },
  {
   "cell_type": "code",
   "execution_count": null,
   "metadata": {},
   "outputs": [],
   "source": [
    "# Answer\n",
    "arr = []\n",
    "\n",
    "for _ in range(6):\n",
    "    arr.append(list(map(int, input().rstrip().split())))\n",
    "\n",
    "def hourglassSum(arr):\n",
    "    # Write your code here\n",
    "    sum_ = []\n",
    "\n",
    "\n",
    "    for i in range(len(arr)-2):\n",
    "        for j in range(len(arr)-2):\n",
    "            sum_.append(arr[i][j]+arr[i][j+1]+arr[i][j+2]+arr[i+1][j+1]+arr[i+2][j]+arr[i+2][j+1]+arr[i+2][j+2])\n",
    "        \n",
    "    print(max(sum_))\n",
    "    \n",
    "    \n",
    "\n",
    "result = hourglassSum(arr)\n"
   ]
  }
 ],
 "metadata": {
  "interpreter": {
   "hash": "cbc1630f6ac27d00c9f4ea5ff59d07a3d2920d2fb3e683b05679c37215caa53f"
  },
  "kernelspec": {
   "display_name": "Python 3.7.9 64-bit",
   "language": "python",
   "name": "python3"
  },
  "language_info": {
   "codemirror_mode": {
    "name": "ipython",
    "version": 3
   },
   "file_extension": ".py",
   "mimetype": "text/x-python",
   "name": "python",
   "nbconvert_exporter": "python",
   "pygments_lexer": "ipython3",
   "version": "3.7.9"
  },
  "orig_nbformat": 4
 },
 "nbformat": 4,
 "nbformat_minor": 2
}
