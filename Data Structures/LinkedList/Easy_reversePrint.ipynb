{
 "cells": [
  {
   "cell_type": "markdown",
   "metadata": {},
   "source": [
    "# [Problem Link](https://www.hackerrank.com/challenges/reverse-a-linked-list/problem?isFullScreen=true&h_r=next-challenge&h_v=zen)\n",
    "\n",
    "* 답은 간단한데 아직 이해 못함 .\n",
    "* recurrsion 으로 간단하게 함수를 만들 수 있다."
   ]
  },
  {
   "cell_type": "code",
   "execution_count": null,
   "metadata": {},
   "outputs": [],
   "source": [
    "\n",
    "def reversePrint(llist):\n",
    "    # Write your code here\n",
    "    if llist:\n",
    "        reversePrint(llist.next)\n",
    "        print(llist.data)"
   ]
  }
 ],
 "metadata": {
  "language_info": {
   "name": "python"
  },
  "orig_nbformat": 4
 },
 "nbformat": 4,
 "nbformat_minor": 2
}
