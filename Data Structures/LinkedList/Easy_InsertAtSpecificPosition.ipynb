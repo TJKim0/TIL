{
 "cells": [
  {
   "cell_type": "markdown",
   "metadata": {},
   "source": [
    "# [Problem Link](https://www.hackerrank.com/challenges/insert-a-node-at-a-specific-position-in-a-linked-list/problem?isFullScreen=true)\n",
    "\n",
    "* Node class 를 따로 만들어서 풀었네?\n",
    "* 모르겠으면 그냥 따라서 코딩 ㄱㄱ."
   ]
  },
  {
   "cell_type": "code",
   "execution_count": null,
   "metadata": {},
   "outputs": [],
   "source": [
    "class Node(object):\n",
    " \n",
    "    def __init__(self, data=None, next_node=None):\n",
    "       self.data = data\n",
    "       self.next = next_node\n",
    "       \n",
    "def insertNodeAtPosition(head, data, position):\n",
    "    if position==0:\n",
    "        head = Node(data,head)\n",
    "        return head\n",
    "        \n",
    "    else:\n",
    "        temp_head = head\n",
    "        while position>1:\n",
    "            temp_head = temp_head.next\n",
    "            position = position -1\n",
    "        temp_head.next = Node(data,temp_head.next)\n",
    "        return head"
   ]
  },
  {
   "cell_type": "code",
   "execution_count": null,
   "metadata": {},
   "outputs": [],
   "source": [
    "class Node(object):\n",
    "    def __init__(self, data=None, next_node=None):\n",
    "        self.data = data\n",
    "        self.next = next_node\n",
    "\n",
    "def insertNodeAtPosition(head, data, position):\n",
    "    if position == 0 :\n",
    "        head = Node(data, head)\n",
    "        return head\n",
    "    \n",
    "    else:\n",
    "        temp_head = head\n",
    "        while position > 1:\n",
    "            temp_head = temp_head.next\n",
    "            position = position - 1\n",
    "        \n",
    "        temp_head.next = Node(data, temp_head.next)\n",
    "        return head\n",
    "        "
   ]
  }
 ],
 "metadata": {
  "language_info": {
   "name": "python"
  },
  "orig_nbformat": 4
 },
 "nbformat": 4,
 "nbformat_minor": 2
}
