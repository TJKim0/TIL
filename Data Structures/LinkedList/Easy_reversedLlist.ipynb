{
 "cells": [
  {
   "cell_type": "markdown",
   "metadata": {},
   "source": [
    "# [Problem Link](https://www.hackerrank.com/challenges/reverse-a-linked-list/problem?isFullScreen=true)\n",
    "\n",
    "* linkedlist : 1 -> 2 -> 3 -> 4 -> 5 -> None      // 'None' comes after last node.\n",
    "* llist.next = ptr, ptr = llist 에서  llist 역주행.  llist 가 none 이 되면 while 문 종료."
   ]
  },
  {
   "cell_type": "code",
   "execution_count": null,
   "metadata": {},
   "outputs": [],
   "source": [
    "def reverse(llist):\n",
    "    # Write your code here\n",
    "    ptr = None\n",
    "    while llist :\n",
    "        temp = llist.next\n",
    "        llist.next = ptr\n",
    "        ptr = llist\n",
    "        llist = temp\n",
    "    return ptr"
   ]
  }
 ],
 "metadata": {
  "language_info": {
   "name": "python"
  },
  "orig_nbformat": 4
 },
 "nbformat": 4,
 "nbformat_minor": 2
}
