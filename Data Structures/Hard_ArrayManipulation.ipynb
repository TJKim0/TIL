{
 "cells": [
  {
   "cell_type": "markdown",
   "metadata": {},
   "source": [
    "# [Problem Link](https://www.hackerrank.com/challenges/crush/problem?isFullScreen=true)\n",
    "\n",
    "* 핵심은 prefix sum.\n",
    "* a부터 b 까지  k 가 더해진다. == a 위치의 값과 b+1 의 위치의 값만 변한다.\n",
    "* Counter 를 활용해 a, b+1 위치에 가능한 합들을 담아 놓는다.\n",
    "* 최대값만 가져온다."
   ]
  },
  {
   "cell_type": "code",
   "execution_count": 52,
   "metadata": {},
   "outputs": [
    {
     "name": "stdout",
     "output_type": "stream",
     "text": [
      "Counter({1: 3, 6: -3})\n",
      "Counter({4: 7, 1: 3, 6: -3, 9: -7})\n",
      "Counter({4: 7, 1: 3, 10: -1, 6: -2, 9: -7})\n",
      "[1, 4, 6, 9, 10]\n",
      "3 3\n",
      "10 10\n",
      "8 10\n",
      "1 10\n",
      "0 10\n",
      "10\n"
     ]
    }
   ],
   "source": [
    "from collections import Counter\n",
    "\n",
    "def arrayManipulation(n, queries):\n",
    "    c = Counter()\n",
    "\n",
    "    for a,b,k in queries:\n",
    "        c[a]  +=k\n",
    "        c[b+1]-=k   \n",
    "        \n",
    "    arrSum = 0\n",
    "    result = 0\n",
    "    \n",
    "    for i in sorted(c):\n",
    "        arrSum += c[i]\n",
    "        result = max(result,arrSum)\n",
    "        \n",
    "    return result\n",
    "\n",
    "n,m = map(int,input().split())\n",
    "queries = [list(map(int,input().split())) for _ in range(m)]\n",
    "\n",
    "print(arrayManipulation(n, queries))"
   ]
  }
 ],
 "metadata": {
  "interpreter": {
   "hash": "4678abd6084eb1ff4caf7c8f321e9f37cb26f34e995ff1ac49ce125bd15706f3"
  },
  "kernelspec": {
   "display_name": "Python 3.9.9 64-bit (windows store)",
   "language": "python",
   "name": "python3"
  },
  "language_info": {
   "codemirror_mode": {
    "name": "ipython",
    "version": 3
   },
   "file_extension": ".py",
   "mimetype": "text/x-python",
   "name": "python",
   "nbconvert_exporter": "python",
   "pygments_lexer": "ipython3",
   "version": "3.9.9"
  },
  "orig_nbformat": 4
 },
 "nbformat": 4,
 "nbformat_minor": 2
}
