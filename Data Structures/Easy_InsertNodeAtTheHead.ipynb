{
 "cells": [
  {
   "cell_type": "markdown",
   "metadata": {},
   "source": [
    "# [Problem Link](https://www.hackerrank.com/challenges/insert-a-node-at-the-head-of-a-linked-list/problem?isFullScreen=true)\n",
    "\n",
    "* List of numbers is already made. All I need to do is just returning the next node from the start"
   ]
  },
  {
   "cell_type": "code",
   "execution_count": null,
   "metadata": {},
   "outputs": [],
   "source": [
    "def insertNodeAtHead(llist, data):\n",
    "    # Write your code here\n",
    "    node = SinglyLinkedListNode(data)\n",
    "    if llist:\n",
    "        node.next = llist\n",
    "    return node\n"
   ]
  }
 ],
 "metadata": {
  "language_info": {
   "name": "python"
  },
  "orig_nbformat": 4
 },
 "nbformat": 4,
 "nbformat_minor": 2
}
