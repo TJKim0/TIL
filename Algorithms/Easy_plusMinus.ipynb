{
 "cells": [
  {
   "cell_type": "markdown",
   "metadata": {},
   "source": [
    "# [Problem Link](https://www.hackerrank.com/challenges/plus-minus/problem?isFullScreen=true)\n",
    "\n",
    "* \"{0:.6f}\".format(x)  << 소수점 길이를 선택적으로 정할 수 있다. "
   ]
  },
  {
   "cell_type": "code",
   "execution_count": null,
   "metadata": {},
   "outputs": [],
   "source": [
    "n = int(input().strip())\n",
    "arr = list(map(int, input().split()))\n",
    "\n",
    "plus = 0\n",
    "minus = 0\n",
    "zeros = 0\n",
    "\n",
    "for i in arr :\n",
    "    if i > 0 :\n",
    "        plus += 1\n",
    "    elif i < 0 :\n",
    "        minus += 1\n",
    "    else :\n",
    "        zeros += 1\n",
    "\n",
    "print(plus / n)\n",
    "print(minus / n)\n",
    "print(zeros / n)"
   ]
  },
  {
   "cell_type": "code",
   "execution_count": null,
   "metadata": {},
   "outputs": [],
   "source": [
    "# Other's code\n",
    "n = int(input().strip())\n",
    "\n",
    "arr = [1 if int(temp)>0 else -1 if int(temp)<0 else 0 for temp in input().strip().split(' ') ]\n",
    "\n",
    "print(\"{0:.6f}\".format(arr.count(1)/n))\n",
    "print(\"{0:.6f}\".format(arr.count(-1)/n))\n",
    "print(\"{0:.6f}\".format(arr.count(0)/n))"
   ]
  }
 ],
 "metadata": {
  "interpreter": {
   "hash": "ee5cc6fef2d70a7e71ee3826687cbd150f18158e0b1eef11d4f4f92bb920e304"
  },
  "kernelspec": {
   "display_name": "Python 3.9.8 64-bit",
   "language": "python",
   "name": "python3"
  },
  "language_info": {
   "codemirror_mode": {
    "name": "ipython",
    "version": 3
   },
   "file_extension": ".py",
   "mimetype": "text/x-python",
   "name": "python",
   "nbconvert_exporter": "python",
   "pygments_lexer": "ipython3",
   "version": "3.9.8"
  },
  "orig_nbformat": 4
 },
 "nbformat": 4,
 "nbformat_minor": 2
}
