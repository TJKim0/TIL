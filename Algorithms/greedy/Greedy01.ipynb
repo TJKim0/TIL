{
 "cells": [
  {
   "cell_type": "markdown",
   "metadata": {},
   "source": [
    "# [Problem Link](https://programmers.co.kr/learn/courses/30/lessons/42862?language=python3)"
   ]
  },
  {
   "cell_type": "code",
   "execution_count": null,
   "metadata": {},
   "outputs": [],
   "source": [
    "def solution(n, lost, reserve):\n",
    "    real_reserve = [r for r in reserve if r not in lost]\n",
    "    real_lost = [l for l in lost if l not in reserve]\n",
    "    \n",
    "    alpha = 0\n",
    "    for i in real_reserve :\n",
    "        if i-1 in real_lost or i+1 in real_lost:\n",
    "            alpha += 1\n",
    "    if len(real_lost) > alpha:\n",
    "        return n-len(real_lost) + alpha\n",
    "    else:\n",
    "        return n\n",
    "        "
   ]
  }
 ],
 "metadata": {
  "language_info": {
   "name": "python"
  },
  "orig_nbformat": 4
 },
 "nbformat": 4,
 "nbformat_minor": 2
}
