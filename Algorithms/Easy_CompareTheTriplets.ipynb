{
 "cells": [
  {
   "cell_type": "markdown",
   "metadata": {},
   "source": [
    "# [Problem Link](https://www.hackerrank.com/challenges/compare-the-triplets/problem?isFullScreen=true)\n",
    "\n",
    "* 다른 코드들과 비교 했을때 직관적이지 못함.\n",
    "* discussion 에 배울게 많다."
   ]
  },
  {
   "cell_type": "code",
   "execution_count": null,
   "metadata": {},
   "outputs": [],
   "source": [
    "def compareTriplets(a, b):\n",
    "    # Write your code here\n",
    "    score = [0, 0]\n",
    "    for i in range(len(a)) :\n",
    "        if a[i] > b[i]:\n",
    "            score[0]+= 1\n",
    "        elif b[i] > a[i]:\n",
    "            score[1]+=1\n",
    "    return score"
   ]
  },
  {
   "cell_type": "code",
   "execution_count": null,
   "metadata": {},
   "outputs": [],
   "source": [
    "# Answer using zip() in Discussion\n",
    "# good to see an example of zip function\n",
    "def solve(a0, a1, a2, b0, b1, b2):\n",
    "    alice = [a0, a1, a2]\n",
    "    bob = [b0, b1, b2]\n",
    "    score = [0, 0]\n",
    "    for a, b in zip(alice, bob):\n",
    "        if a > b:\n",
    "            score[0]+= 1\n",
    "        elif b > a:\n",
    "            score[1]+=1\n",
    "    return score"
   ]
  },
  {
   "cell_type": "code",
   "execution_count": null,
   "metadata": {},
   "outputs": [],
   "source": [
    "# Another clean code\n",
    "def solve(a, b):\n",
    "    alice = []\n",
    "    bob = []\n",
    "    for _ in range(len(a)):\n",
    "        if(a[_] > b[_]): alice.append(1)\n",
    "        elif(a[_] < b[_]): bob.append(1)\n",
    "    return sum(alice), sum(bob)"
   ]
  }
 ],
 "metadata": {
  "language_info": {
   "name": "python"
  },
  "orig_nbformat": 4
 },
 "nbformat": 4,
 "nbformat_minor": 2
}
