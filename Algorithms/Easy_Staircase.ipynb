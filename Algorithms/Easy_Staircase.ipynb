{
 "cells": [
  {
   "cell_type": "markdown",
   "metadata": {},
   "source": [
    "# [Problem Link](https://www.hackerrank.com/challenges/staircase/problem?isFullScreen=true)\n",
    "\n",
    "* print 에서 , 를 사용하면 공백이 하나 더 생겨서 오답\n",
    "* for 문에서 0 부터 시작하면 또 오답. 1 부터 n+1 까지로 범위를 설정해 줘야됨.\n",
    "* rjust() 함수로 공백을 넣어 줄 수도 있따."
   ]
  },
  {
   "cell_type": "code",
   "execution_count": 5,
   "metadata": {},
   "outputs": [
    {
     "name": "stdout",
     "output_type": "stream",
     "text": [
      "       #\n",
      "      ##\n",
      "     ###\n",
      "    ####\n",
      "   #####\n",
      "  ######\n"
     ]
    }
   ],
   "source": [
    "# my wrong answer\n",
    "n = int(input())\n",
    "\n",
    "for i in range(n) :\n",
    "    print(' '*(n-i), '#'*(i+1))\n",
    "        "
   ]
  },
  {
   "cell_type": "code",
   "execution_count": 2,
   "metadata": {},
   "outputs": [
    {
     "name": "stdout",
     "output_type": "stream",
     "text": [
      "     #\n",
      "    ##\n",
      "   ###\n",
      "  ####\n",
      " #####\n",
      "######\n"
     ]
    }
   ],
   "source": [
    "# right answer\n",
    "n = int(input())\n",
    "\n",
    "for i in range(1,n+1):\n",
    "        print(' '*(n-i)+'#'*(i))"
   ]
  },
  {
   "cell_type": "code",
   "execution_count": 6,
   "metadata": {},
   "outputs": [
    {
     "name": "stdout",
     "output_type": "stream",
     "text": [
      "     #\n",
      "    ##\n",
      "   ###\n",
      "  ####\n",
      " #####\n",
      "######\n"
     ]
    }
   ],
   "source": [
    "# another one\n",
    "n = int(input())\n",
    "\n",
    "for i in range(1, n+1):\n",
    "        print( ('#'*i).rjust(n) )"
   ]
  }
 ],
 "metadata": {
  "interpreter": {
   "hash": "ee5cc6fef2d70a7e71ee3826687cbd150f18158e0b1eef11d4f4f92bb920e304"
  },
  "kernelspec": {
   "display_name": "Python 3.9.8 64-bit",
   "language": "python",
   "name": "python3"
  },
  "language_info": {
   "codemirror_mode": {
    "name": "ipython",
    "version": 3
   },
   "file_extension": ".py",
   "mimetype": "text/x-python",
   "name": "python",
   "nbconvert_exporter": "python",
   "pygments_lexer": "ipython3",
   "version": "3.9.8"
  },
  "orig_nbformat": 4
 },
 "nbformat": 4,
 "nbformat_minor": 2
}
