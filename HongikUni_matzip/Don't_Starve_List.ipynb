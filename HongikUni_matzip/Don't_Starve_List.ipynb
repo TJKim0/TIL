{
 "cells": [
  {
   "cell_type": "markdown",
   "id": "51a3c442",
   "metadata": {},
   "source": [
    "# 둥지닭볶음탕 홍대점"
   ]
  },
  {
   "cell_type": "markdown",
   "id": "3a2af4c4",
   "metadata": {},
   "source": [
    "# 흥부네 부대찌개"
   ]
  },
  {
   "cell_type": "markdown",
   "id": "ccc2303c",
   "metadata": {},
   "source": [
    "# 밥집"
   ]
  },
  {
   "cell_type": "markdown",
   "id": "79eea107",
   "metadata": {},
   "source": [
    "# 더 리얼 치즈버거"
   ]
  },
  {
   "cell_type": "markdown",
   "id": "2101c715",
   "metadata": {},
   "source": [
    "# 월강부산돼지국밥"
   ]
  },
  {
   "cell_type": "markdown",
   "id": "ce541343",
   "metadata": {},
   "source": [
    "# 연남 쌀국수 똣"
   ]
  },
  {
   "cell_type": "markdown",
   "id": "26e0aa3d",
   "metadata": {},
   "source": [
    "# 바스버거 연남점"
   ]
  },
  {
   "cell_type": "markdown",
   "id": "fdab04b1",
   "metadata": {},
   "source": [
    "# 명동왕돈까스 동교직영점"
   ]
  },
  {
   "cell_type": "markdown",
   "id": "15a9afd5",
   "metadata": {},
   "source": [
    "# 가람수제돈까스"
   ]
  },
  {
   "cell_type": "markdown",
   "id": "f102065b",
   "metadata": {},
   "source": [
    "# 밥먹는토끼"
   ]
  },
  {
   "cell_type": "markdown",
   "id": "04858dd0",
   "metadata": {},
   "source": [
    "# 홍스쭈꾸미 홍대본점"
   ]
  },
  {
   "cell_type": "markdown",
   "id": "2b0523b7",
   "metadata": {},
   "source": [
    "# "
   ]
  },
  {
   "cell_type": "markdown",
   "id": "30499c8e",
   "metadata": {},
   "source": []
  }
 ],
 "metadata": {
  "kernelspec": {
   "display_name": "Python 3 (ipykernel)",
   "language": "python",
   "name": "python3"
  },
  "language_info": {
   "codemirror_mode": {
    "name": "ipython",
    "version": 3
   },
   "file_extension": ".py",
   "mimetype": "text/x-python",
   "name": "python",
   "nbconvert_exporter": "python",
   "pygments_lexer": "ipython3",
   "version": "3.9.7"
  }
 },
 "nbformat": 4,
 "nbformat_minor": 5
}
